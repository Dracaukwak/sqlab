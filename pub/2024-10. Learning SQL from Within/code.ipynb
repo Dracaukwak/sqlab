{
 "cells": [
  {
   "cell_type": "markdown",
   "id": "96147d65",
   "metadata": {
    "toc": true
   },
   "source": [
    "<h1>Learning SQL from Within (accompanying code)<span class=\"tocSkip\"></span></h1>\n",
    "<div class=\"toc\"><ul class=\"toc-item\"><li><span><a href=\"#1.-Introduction\" data-toc-modified-id=\"1.-Introduction-1\">1. Introduction</a></span></li><li><span><a href=\"#2.-Related-works\" data-toc-modified-id=\"2.-Related-works-2\">2. Related works</a></span></li><li><span><a href=\"#3.-Playing-an-SQLab-adventure\" data-toc-modified-id=\"3.-Playing-an-SQLab-adventure-3\">3. Playing an SQLab adventure</a></span><ul class=\"toc-item\"><li><span><a href=\"#3.2.-Individual-tasks\" data-toc-modified-id=\"3.2.-Individual-tasks-3.1\">3.2. Individual tasks</a></span><ul class=\"toc-item\"><li><span><a href=\"#3.2.1.-One-pass-fingerprinting\" data-toc-modified-id=\"3.2.1.-One-pass-fingerprinting-3.1.1\">3.2.1. One-pass fingerprinting</a></span><ul class=\"toc-item\"><li><span><a href=\"#Fig.-1.-Lowest-salary-employees\" data-toc-modified-id=\"Fig.-1.-Lowest-salary-employees-3.1.1.1\">Fig. 1. Lowest salary employees</a></span></li></ul></li><li><span><a href=\"#3.2.2.-Two-pass-fingerprinting\" data-toc-modified-id=\"3.2.2.-Two-pass-fingerprinting-3.1.2\">3.2.2. Two-pass fingerprinting</a></span><ul class=\"toc-item\"><li><span><a href=\"#Fig.-2.-Some-average-salaries\" data-toc-modified-id=\"Fig.-2.-Some-average-salaries-3.1.2.1\">Fig. 2. Some average salaries</a></span></li></ul></li></ul></li></ul></li><li><span><a href=\"#4.-Fingerprinting-an-SQL-query\" data-toc-modified-id=\"4.-Fingerprinting-an-SQL-query-4\">4. Fingerprinting an SQL query</a></span><ul class=\"toc-item\"><li><span><a href=\"#4.3.-Fingerprinting-scope\" data-toc-modified-id=\"4.3.-Fingerprinting-scope-4.1\">4.3. Fingerprinting scope</a></span><ul class=\"toc-item\"><li><span><a href=\"#4.3.1.-Main-scope-/-Queries-with-or-without-top-level-aggregation\" data-toc-modified-id=\"4.3.1.-Main-scope-/-Queries-with-or-without-top-level-aggregation-4.1.1\">4.3.1. Main scope / Queries with or without top level aggregation</a></span><ul class=\"toc-item\"><li><span><a href=\"#An-example-of-two-equivalent-queries-requiring-distinct-formulas\" data-toc-modified-id=\"An-example-of-two-equivalent-queries-requiring-distinct-formulas-4.1.1.1\">An example of two equivalent queries requiring distinct formulas</a></span></li></ul></li><li><span><a href=\"#4.3.2.-Extended-scope-/-Derived-queries-with-no-aggregation\" data-toc-modified-id=\"4.3.2.-Extended-scope-/-Derived-queries-with-no-aggregation-4.1.2\">4.3.2. Extended scope / Derived queries with no aggregation</a></span><ul class=\"toc-item\"><li><span><a href=\"#An-example-of-hash-restoration-after-a-set-operation\" data-toc-modified-id=\"An-example-of-hash-restoration-after-a-set-operation-4.1.2.1\">An example of hash restoration after a set operation</a></span></li></ul></li><li><span><a href=\"#4.3.2.-Extended-scope-/-Common-Table-Expressions\" data-toc-modified-id=\"4.3.2.-Extended-scope-/-Common-Table-Expressions-4.1.3\">4.3.2. Extended scope / Common Table Expressions</a></span><ul class=\"toc-item\"><li><span><a href=\"#An-example-of-hash-transmission-in-a-recursive-CTE\" data-toc-modified-id=\"An-example-of-hash-transmission-in-a-recursive-CTE-4.1.3.1\">An example of hash transmission in a recursive CTE</a></span></li></ul></li></ul></li><li><span><a href=\"#4.4.-Fingerprinting-accuracy\" data-toc-modified-id=\"4.4.-Fingerprinting-accuracy-4.2\">4.4. Fingerprinting accuracy</a></span><ul class=\"toc-item\"><li><span><a href=\"#4.4.3.-Worst-case-example-for-false-positives\" data-toc-modified-id=\"4.4.3.-Worst-case-example-for-false-positives-4.2.1\">4.4.3. Worst-case example for false positives</a></span><ul class=\"toc-item\"><li><span><a href=\"#Table-3-:-Which-employee-works-5-hours-on-project-30?\" data-toc-modified-id=\"Table-3-:-Which-employee-works-5-hours-on-project-30?-4.2.1.1\">Table 3 : Which employee works 5 hours on project 30?</a></span></li></ul></li><li><span><a href=\"#4.4.4.-Accuracy-theorem\" data-toc-modified-id=\"4.4.4.-Accuracy-theorem-4.2.2\">4.4.4. Accuracy theorem</a></span><ul class=\"toc-item\"><li><span><a href=\"#Starring-a-query-with-a-two-dimensional-Formula-1.1\" data-toc-modified-id=\"Starring-a-query-with-a-two-dimensional-Formula-1.1-4.2.2.1\">Starring a query with a two-dimensional Formula 1.1</a></span></li><li><span><a href=\"#Starring-a-query-with-a-one-dimensional-Formula-1.2\" data-toc-modified-id=\"Starring-a-query-with-a-one-dimensional-Formula-1.2-4.2.2.2\">Starring a query with a one-dimensional Formula 1.2</a></span></li><li><span><a href=\"#An-example-of-equivalent-queries-with-distinct-starred-forms\" data-toc-modified-id=\"An-example-of-equivalent-queries-with-distinct-starred-forms-4.2.2.3\">An example of equivalent queries with distinct starred forms</a></span></li><li><span><a href=\"#An-example-of-non-equivalent-queries-with-distinct-starred-forms\" data-toc-modified-id=\"An-example-of-non-equivalent-queries-with-distinct-starred-forms-4.2.2.4\">An example of non-equivalent queries with distinct starred forms</a></span></li></ul></li><li><span><a href=\"#4.4.5.-Extensions-and-limitations-/-Limitations-relative-to-SQL-errors\" data-toc-modified-id=\"4.4.5.-Extensions-and-limitations-/-Limitations-relative-to-SQL-errors-4.2.3\">4.4.5. Extensions and limitations / Limitations relative to SQL errors</a></span><ul class=\"toc-item\"><li><span><a href=\"#Error-1.-Inconsistent-condition.-Empty-result:-no-token.\" data-toc-modified-id=\"Error-1.-Inconsistent-condition.-Empty-result:-no-token.-4.2.3.1\">Error 1. Inconsistent condition. Empty result: no token.</a></span></li><li><span><a href=\"#Error-2.-Unnecessary-DISTINCT.-Undetectable.\" data-toc-modified-id=\"Error-2.-Unnecessary-DISTINCT.-Undetectable.-4.2.3.2\">Error 2. Unnecessary DISTINCT. Undetectable.</a></span></li><li><span><a href=\"#Error-3.-Constant-output-column.-Undetectable.\" data-toc-modified-id=\"Error-3.-Constant-output-column.-Undetectable.-4.2.3.3\">Error 3. Constant output column. Undetectable.</a></span></li><li><span><a href=\"#Error-4.-Duplicate-output-column.-Undetectable.\" data-toc-modified-id=\"Error-4.-Duplicate-output-column.-Undetectable.-4.2.3.4\">Error 4. Duplicate output column. Undetectable.</a></span></li><li><span><a href=\"#Error-5.-Unused-tuple-variable.-OK.\" data-toc-modified-id=\"Error-5.-Unused-tuple-variable.-OK.-4.2.3.5\">Error 5. Unused tuple variable. OK.</a></span></li><li><span><a href=\"#Error-6.-Unnecessary-join-(?).-Undetectable.\" data-toc-modified-id=\"Error-6.-Unnecessary-join-(?).-Undetectable.-4.2.3.6\">Error 6. Unnecessary join (?). Undetectable.</a></span></li><li><span><a href=\"#Error-7.-Tuple-variables-are-always-identical-(?).-Undetectable.\" data-toc-modified-id=\"Error-7.-Tuple-variables-are-always-identical-(?).-Undetectable.-4.2.3.7\">Error 7. Tuple variables are always identical (?). Undetectable.</a></span></li><li><span><a href=\"#Error-8.-Implied,-tautological,-or-inconsistent-sub-condition.-Undetectable.\" data-toc-modified-id=\"Error-8.-Implied,-tautological,-or-inconsistent-sub-condition.-Undetectable.-4.2.3.8\">Error 8. Implied, tautological, or inconsistent sub-condition. Undetectable.</a></span></li><li><span><a href=\"#Error-9.-Comparison-with-NULL.-Empty-result:-no-token.\" data-toc-modified-id=\"Error-9.-Comparison-with-NULL.-Empty-result:-no-token.-4.2.3.9\">Error 9. Comparison with NULL. Empty result: no token.</a></span></li><li><span><a href=\"#Error-10.-NULL-value-in-IN/ANY/ALL-subquery.-Empty-result:-no-token.\" data-toc-modified-id=\"Error-10.-NULL-value-in-IN/ANY/ALL-subquery.-Empty-result:-no-token.-4.2.3.10\">Error 10. NULL value in IN/ANY/ALL subquery. Empty result: no token.</a></span></li><li><span><a href=\"#Error-11.-Unnecessarily-general-comparison-operator.-Undetectable.\" data-toc-modified-id=\"Error-11.-Unnecessarily-general-comparison-operator.-Undetectable.-4.2.3.11\">Error 11. Unnecessarily general comparison operator. Undetectable.</a></span></li><li><span><a href=\"#Error-12.-LIKE-without-wildcards-(equivalent-to-equality).-Undetectable.\" data-toc-modified-id=\"Error-12.-LIKE-without-wildcards-(equivalent-to-equality).-Undetectable.-4.2.3.12\">Error 12. LIKE without wildcards (equivalent to equality). Undetectable.</a></span></li><li><span><a href=\"#Error-13.-Unnecessarily-complicated-SELECT-in-EXISTS-subquery-(column-names-or-DISTINCT).-Undetectable.\" data-toc-modified-id=\"Error-13.-Unnecessarily-complicated-SELECT-in-EXISTS-subquery-(column-names-or-DISTINCT).-Undetectable.-4.2.3.13\">Error 13. Unnecessarily complicated SELECT in EXISTS-subquery (column names or DISTINCT). Undetectable.</a></span></li><li><span><a href=\"#Error-14.-IN/EXISTS-condition-can-be-replaced-by-comparison.-Undetectable.\" data-toc-modified-id=\"Error-14.-IN/EXISTS-condition-can-be-replaced-by-comparison.-Undetectable.-4.2.3.14\">Error 14. IN/EXISTS condition can be replaced by comparison. Undetectable.</a></span></li><li><span><a href=\"#Error-15.-Unnecessary-aggregation-function.-Detectable-(different-formulas).\" data-toc-modified-id=\"Error-15.-Unnecessary-aggregation-function.-Detectable-(different-formulas).-4.2.3.15\">Error 15. Unnecessary aggregation function. Detectable (different formulas).</a></span></li><li><span><a href=\"#Error-16.-Unnecessary-DISTINCT-in-aggregation-function.-Undetectable.\" data-toc-modified-id=\"Error-16.-Unnecessary-DISTINCT-in-aggregation-function.-Undetectable.-4.2.3.16\">Error 16. Unnecessary DISTINCT in aggregation function. Undetectable.</a></span></li><li><span><a href=\"#Error-17.-Unnecessary-argument-of-COUNT.-Undetectable.\" data-toc-modified-id=\"Error-17.-Unnecessary-argument-of-COUNT.-Undetectable.-4.2.3.17\">Error 17. Unnecessary argument of COUNT. Undetectable.</a></span></li><li><span><a href=\"#Error-18.-Unnecessary-GROUP-BY-in-EXISTS-subquery.-Undetectable.\" data-toc-modified-id=\"Error-18.-Unnecessary-GROUP-BY-in-EXISTS-subquery.-Undetectable.-4.2.3.18\">Error 18. Unnecessary GROUP BY in EXISTS subquery. Undetectable.</a></span></li><li><span><a href=\"#Error-19.-GROUP-BY-with-singleton-groups.-Detectable-(different-formulas).\" data-toc-modified-id=\"Error-19.-GROUP-BY-with-singleton-groups.-Detectable-(different-formulas).-4.2.3.19\">Error 19. GROUP BY with singleton groups. Detectable (different formulas).</a></span></li><li><span><a href=\"#Error-20.-GROUP-BY-with-only-a-single-group.-Undetectable.\" data-toc-modified-id=\"Error-20.-GROUP-BY-with-only-a-single-group.-Undetectable.-4.2.3.20\">Error 20. GROUP BY with only a single group. Undetectable.</a></span></li><li><span><a href=\"#Error-21.-Unnecessary-GROUP-BY-attribute.-Undetectable.\" data-toc-modified-id=\"Error-21.-Unnecessary-GROUP-BY-attribute.-Undetectable.-4.2.3.21\">Error 21. Unnecessary GROUP BY attribute. Undetectable.</a></span></li><li><span><a href=\"#Error-22.-GROUP-BY-can-be-replaced-by-DISTINCT.-Detectable-(different-formulas).\" data-toc-modified-id=\"Error-22.-GROUP-BY-can-be-replaced-by-DISTINCT.-Detectable-(different-formulas).-4.2.3.22\">Error 22. GROUP BY can be replaced by DISTINCT. Detectable (different formulas).</a></span></li><li><span><a href=\"#Error-23.-UNION-can-be-replaced-by-OR.-Undetectable.\" data-toc-modified-id=\"Error-23.-UNION-can-be-replaced-by-OR.-Undetectable.-4.2.3.23\">Error 23. UNION can be replaced by OR. Undetectable.</a></span></li><li><span><a href=\"#Error-26.-Inefficient-UNION.-Undetectable.\" data-toc-modified-id=\"Error-26.-Inefficient-UNION.-Undetectable.-4.2.3.24\">Error 26. Inefficient UNION. Undetectable.</a></span></li><li><span><a href=\"#Error-27.-Missing-join-condition.-Undetectable-if-the-result-is-the-same-(which-is-rare).\" data-toc-modified-id=\"Error-27.-Missing-join-condition.-Undetectable-if-the-result-is-the-same-(which-is-rare).-4.2.3.25\">Error 27. Missing join condition. Undetectable if the result is the same (which is rare).</a></span></li><li><span><a href=\"#Error-28.-Error-28.-Uncorrelated-EXISTS-subquery.-Undetectable-if-the-result-is-the-same.\" data-toc-modified-id=\"Error-28.-Error-28.-Uncorrelated-EXISTS-subquery.-Undetectable-if-the-result-is-the-same.-4.2.3.26\">Error 28. Error 28. Uncorrelated EXISTS-subquery. Undetectable if the result is the same.</a></span></li><li><span><a href=\"#Error-29.-SELECT-in-subquery-uses-no-tuple-variable-of-subquery.-Undetectable-if-the-result-is-the-same.\" data-toc-modified-id=\"Error-29.-SELECT-in-subquery-uses-no-tuple-variable-of-subquery.-Undetectable-if-the-result-is-the-same.-4.2.3.27\">Error 29. SELECT in subquery uses no tuple variable of subquery. Undetectable if the result is the same.</a></span></li><li><span><a href=\"#Error-30.-Condition-in-the-subquery-can-be-moved-up.-Undetectable.\" data-toc-modified-id=\"Error-30.-Condition-in-the-subquery-can-be-moved-up.-Undetectable.-4.2.3.28\">Error 30. Condition in the subquery can be moved up. Undetectable.</a></span></li><li><span><a href=\"#Error-31.-Comparison-between-different-domains.-Undetectable-if-the-result-is-the-same.\" data-toc-modified-id=\"Error-31.-Comparison-between-different-domains.-Undetectable-if-the-result-is-the-same.-4.2.3.29\">Error 31. Comparison between different domains. Undetectable if the result is the same.</a></span></li><li><span><a href=\"#Error-32.-Strange-HAVING.-Undetectable-if-the-result-is-the-same.\" data-toc-modified-id=\"Error-32.-Strange-HAVING.-Undetectable-if-the-result-is-the-same.-4.2.3.30\">Error 32. Strange HAVING. Undetectable if the result is the same.</a></span></li><li><span><a href=\"#Error-33.-DISTINCT-in-SUM-and-AVG.-Undetectable-if-the-result-is-the-same.\" data-toc-modified-id=\"Error-33.-DISTINCT-in-SUM-and-AVG.-Undetectable-if-the-result-is-the-same.-4.2.3.31\">Error 33. DISTINCT in SUM and AVG. Undetectable if the result is the same.</a></span></li><li><span><a href=\"#Error-34.-Wildcards-without-LIKE.-Undetectable-if-the-result-is-the-same.\" data-toc-modified-id=\"Error-34.-Wildcards-without-LIKE.-Undetectable-if-the-result-is-the-same.-4.2.3.32\">Error 34. Wildcards without LIKE. Undetectable if the result is the same.</a></span></li><li><span><a href=\"#Error-35.-Condition-on-left-table-in-left-outer-join.-Undetectable-if-the-result-is-the-same.\" data-toc-modified-id=\"Error-35.-Condition-on-left-table-in-left-outer-join.-Undetectable-if-the-result-is-the-same.-4.2.3.33\">Error 35. Condition on left table in left outer join. Undetectable if the result is the same.</a></span></li><li><span><a href=\"#Error-36.-Outer-join-can-be-replaced-by-inner-join.-Undetectable-if-the-result-is-the-same.\" data-toc-modified-id=\"Error-36.-Outer-join-can-be-replaced-by-inner-join.-Undetectable-if-the-result-is-the-same.-4.2.3.34\">Error 36. Outer join can be replaced by inner join. Undetectable if the result is the same.</a></span></li><li><span><a href=\"#Error-37.-Many-duplicates.-Undetectable-if-both-the-formula-and-the-result-table-are-the-same.\" data-toc-modified-id=\"Error-37.-Many-duplicates.-Undetectable-if-both-the-formula-and-the-result-table-are-the-same.-4.2.3.35\">Error 37. Many duplicates. Undetectable if both the formula and the result table are the same.</a></span></li><li><span><a href=\"#Error-38.-DISTINCT-that-might-remove-important-duplicates.-Undetectable-without-control-value-if-the-starred-result-is-the-same.\" data-toc-modified-id=\"Error-38.-DISTINCT-that-might-remove-important-duplicates.-Undetectable-without-control-value-if-the-starred-result-is-the-same.-4.2.3.36\">Error 38. DISTINCT that might remove important duplicates. Undetectable without control value if the starred result is the same.</a></span></li><li><span><a href=\"#Errors-39-43.-Undetectable-when-no-runtime-error-is-raised.\" data-toc-modified-id=\"Errors-39-43.-Undetectable-when-no-runtime-error-is-raised.-4.2.3.37\">Errors 39-43. Undetectable when no runtime error is raised.</a></span></li></ul></li></ul></li><li><span><a href=\"#4.5.-Implementation\" data-toc-modified-id=\"4.5.-Implementation-4.3\">4.5. Implementation</a></span><ul class=\"toc-item\"><li><span><a href=\"#4.5.3.-Aggregation-functions-on-full-range-hashes\" data-toc-modified-id=\"4.5.3.-Aggregation-functions-on-full-range-hashes-4.3.1\">4.5.3. Aggregation functions on full-range hashes</a></span><ul class=\"toc-item\"><li><span><a href=\"#Fig.-6-and-7-:-Densities-and-collisions\" data-toc-modified-id=\"Fig.-6-and-7-:-Densities-and-collisions-4.3.1.1\">Fig. 6 and 7 : Densities and collisions</a></span></li></ul></li><li><span><a href=\"#4.5.4.-Aggregation-functions-on-partial-range-hashes\" data-toc-modified-id=\"4.5.4.-Aggregation-functions-on-partial-range-hashes-4.3.2\">4.5.4. Aggregation functions on partial-range hashes</a></span><ul class=\"toc-item\"><li><span><a href=\"#Fig.-8-:-Collisions\" data-toc-modified-id=\"Fig.-8-:-Collisions-4.3.2.1\">Fig. 8 : Collisions</a></span></li></ul></li><li><span><a href=\"#4.5.5.-Composition-of-the-aggregation-functions\" data-toc-modified-id=\"4.5.5.-Composition-of-the-aggregation-functions-4.3.3\">4.5.5. Composition of the aggregation functions</a></span><ul class=\"toc-item\"><li><span><a href=\"#Fig.-9-:-Group-blindness\" data-toc-modified-id=\"Fig.-9-:-Group-blindness-4.3.3.1\">Fig. 9 : Group blindness</a></span></li></ul></li></ul></li></ul></li><li><span><a href=\"#5.-Life-cycle-of-an-SQLab-database\" data-toc-modified-id=\"5.-Life-cycle-of-an-SQLab-database-5\">5. Life cycle of an SQLab database</a></span></li><li><span><a href=\"#6.-Conclusion\" data-toc-modified-id=\"6.-Conclusion-6\">6. Conclusion</a></span></li><li><span><a href=\"#A.-Annexes\" data-toc-modified-id=\"A.-Annexes-7\">A. Annexes</a></span><ul class=\"toc-item\"><li><span><a href=\"#A.1.-Supplementary-figures-and-tables\" data-toc-modified-id=\"A.1.-Supplementary-figures-and-tables-7.1\">A.1. Supplementary figures and tables</a></span><ul class=\"toc-item\"><li><ul class=\"toc-item\"><li><span><a href=\"#Table-6-:-A-case-of-collision-with-bit_xor()\" data-toc-modified-id=\"Table-6-:-A-case-of-collision-with-bit_xor()-7.1.0.1\">Table 6 : A case of collision with <code>bit_xor()</code></a></span></li><li><span><a href=\"#Table-7-:-Six-queries-to-find-the-employees-who-work-40-hours\" data-toc-modified-id=\"Table-7-:-Six-queries-to-find-the-employees-who-work-40-hours-7.1.0.2\">Table 7 : Six queries to find the employees who work 40 hours</a></span></li></ul></li></ul></li><li><span><a href=\"#A.4.-Default-handling-of-unintended-formulas-in-three-DBMSs\" data-toc-modified-id=\"A.4.-Default-handling-of-unintended-formulas-in-three-DBMSs-7.2\">A.4. Default handling of unintended formulas in three DBMSs</a></span><ul class=\"toc-item\"><li><ul class=\"toc-item\"><li><span><a href=\"#Another-example-of-two-equivalent-queries-requiring-distinct-formulas\" data-toc-modified-id=\"Another-example-of-two-equivalent-queries-requiring-distinct-formulas-7.2.0.1\">Another example of two equivalent queries requiring distinct formulas</a></span></li></ul></li></ul></li></ul></li></ul></div>"
   ]
  },
  {
   "cell_type": "code",
   "execution_count": 1,
   "id": "b99652de",
   "metadata": {},
   "outputs": [
    {
     "name": "stdout",
     "output_type": "stream",
     "text": [
      "········\n"
     ]
    }
   ],
   "source": [
    "from getpass import getpass\n",
    "\n",
    "drivername = \"mysql+pymysql\"\n",
    "database = \"sqlab_company\"\n",
    "username = \"root\"\n",
    "password = getpass()\n",
    "host = \"localhost\"\n",
    "port = 3306"
   ]
  },
  {
   "cell_type": "code",
   "execution_count": 2,
   "id": "a737a25c",
   "metadata": {},
   "outputs": [],
   "source": [
    "%%capture\n",
    "from sqlalchemy import create_engine\n",
    "\n",
    "db_url = f\"{drivername}://{username}:{password}@{host}:{port}/{database}\"\n",
    "engine = create_engine(db_url)\n",
    "\n",
    "%config SqlMagic.displaycon = False\n",
    "%config SqlMagic.feedback = False\n",
    "%config SqlMagic.displaylimit = 0\n",
    "%reload_ext sql\n",
    "%sql engine"
   ]
  },
  {
   "cell_type": "code",
   "execution_count": 3,
   "id": "d2a1c03e",
   "metadata": {},
   "outputs": [
    {
     "data": {
      "text/html": [
       "<table>\n",
       "    <thead>\n",
       "        <tr>\n",
       "            <th>Name</th>\n",
       "        </tr>\n",
       "    </thead>\n",
       "    <tbody>\n",
       "        <tr>\n",
       "            <td>department</td>\n",
       "        </tr>\n",
       "        <tr>\n",
       "            <td>dependent</td>\n",
       "        </tr>\n",
       "        <tr>\n",
       "            <td>dpt_locations</td>\n",
       "        </tr>\n",
       "        <tr>\n",
       "            <td>employee</td>\n",
       "        </tr>\n",
       "        <tr>\n",
       "            <td>project</td>\n",
       "        </tr>\n",
       "        <tr>\n",
       "            <td>sqlab_info</td>\n",
       "        </tr>\n",
       "        <tr>\n",
       "            <td>sqlab_msg</td>\n",
       "        </tr>\n",
       "        <tr>\n",
       "            <td>works_on</td>\n",
       "        </tr>\n",
       "    </tbody>\n",
       "</table>"
      ],
      "text/plain": [
       "+---------------+\n",
       "|      Name     |\n",
       "+---------------+\n",
       "|   department  |\n",
       "|   dependent   |\n",
       "| dpt_locations |\n",
       "|    employee   |\n",
       "|    project    |\n",
       "|   sqlab_info  |\n",
       "|   sqlab_msg   |\n",
       "|    works_on   |\n",
       "+---------------+"
      ]
     },
     "execution_count": 3,
     "metadata": {},
     "output_type": "execute_result"
    }
   ],
   "source": [
    "%sqlcmd tables"
   ]
  },
  {
   "cell_type": "markdown",
   "id": "091affe6",
   "metadata": {},
   "source": [
    "## 1. Introduction"
   ]
  },
  {
   "cell_type": "markdown",
   "id": "d7881af7",
   "metadata": {},
   "source": [
    "## 2. Related works"
   ]
  },
  {
   "cell_type": "markdown",
   "id": "9596bc64",
   "metadata": {},
   "source": [
    "## 3. Playing an SQLab adventure"
   ]
  },
  {
   "cell_type": "markdown",
   "id": "831db5a8",
   "metadata": {},
   "source": [
    "### 3.2. Individual tasks"
   ]
  },
  {
   "cell_type": "markdown",
   "id": "8c94dd1d",
   "metadata": {},
   "source": [
    "#### 3.2.1. One-pass fingerprinting"
   ]
  },
  {
   "cell_type": "markdown",
   "id": "34f33a6f",
   "metadata": {},
   "source": [
    "##### Fig. 1. Lowest salary employees"
   ]
  },
  {
   "cell_type": "code",
   "execution_count": 4,
   "id": "7131f02f",
   "metadata": {},
   "outputs": [
    {
     "data": {
      "text/html": [
       "<table>\n",
       "    <thead>\n",
       "        <tr>\n",
       "            <th>emp_id</th>\n",
       "            <th>emp_name</th>\n",
       "            <th>salary</th>\n",
       "            <th>token</th>\n",
       "        </tr>\n",
       "    </thead>\n",
       "    <tbody>\n",
       "        <tr>\n",
       "            <td>453453453</td>\n",
       "            <td>Joyce A. English</td>\n",
       "            <td>25000.00</td>\n",
       "            <td>279951804330132</td>\n",
       "        </tr>\n",
       "        <tr>\n",
       "            <td>987987987</td>\n",
       "            <td>Ahmad V. Jabbar</td>\n",
       "            <td>25000.00</td>\n",
       "            <td>279951804330132</td>\n",
       "        </tr>\n",
       "        <tr>\n",
       "            <td>999887777</td>\n",
       "            <td>Alicia J. Zelaya</td>\n",
       "            <td>25000.00</td>\n",
       "            <td>279951804330132</td>\n",
       "        </tr>\n",
       "    </tbody>\n",
       "</table>"
      ],
      "text/plain": [
       "+-----------+------------------+----------+-----------------+\n",
       "|   emp_id  |     emp_name     |  salary  |      token      |\n",
       "+-----------+------------------+----------+-----------------+\n",
       "| 453453453 | Joyce A. English | 25000.00 | 279951804330132 |\n",
       "| 987987987 | Ahmad V. Jabbar  | 25000.00 | 279951804330132 |\n",
       "| 999887777 | Alicia J. Zelaya | 25000.00 | 279951804330132 |\n",
       "+-----------+------------------+----------+-----------------+"
      ]
     },
     "execution_count": 4,
     "metadata": {},
     "output_type": "execute_result"
    }
   ],
   "source": [
    "%%sql\n",
    "SELECT emp_id\n",
    "     , emp_name\n",
    "     , salary\n",
    "     , salt_042(sum(nn(A.hash)) OVER ()) AS token\n",
    "FROM employee A\n",
    "WHERE salary = (SELECT MIN(salary) FROM employee);"
   ]
  },
  {
   "cell_type": "markdown",
   "id": "cf53ad89",
   "metadata": {},
   "source": [
    "#### 3.2.2. Two-pass fingerprinting"
   ]
  },
  {
   "cell_type": "markdown",
   "id": "c96e4d8c",
   "metadata": {},
   "source": [
    "##### Fig. 2. Some average salaries"
   ]
  },
  {
   "cell_type": "code",
   "execution_count": 5,
   "id": "857550dd",
   "metadata": {},
   "outputs": [
    {
     "data": {
      "text/html": [
       "<table>\n",
       "    <thead>\n",
       "        <tr>\n",
       "            <th>department</th>\n",
       "            <th>employees</th>\n",
       "            <th>average_salary</th>\n",
       "            <th>token</th>\n",
       "        </tr>\n",
       "    </thead>\n",
       "    <tbody>\n",
       "        <tr>\n",
       "            <td>Headquarters</td>\n",
       "            <td>1</td>\n",
       "            <td>55000.000000</td>\n",
       "            <td>92628001548441</td>\n",
       "        </tr>\n",
       "        <tr>\n",
       "            <td>Research</td>\n",
       "            <td>3</td>\n",
       "            <td>31666.666667</td>\n",
       "            <td>92628001548441</td>\n",
       "        </tr>\n",
       "    </tbody>\n",
       "</table>"
      ],
      "text/plain": [
       "+--------------+-----------+----------------+----------------+\n",
       "|  department  | employees | average_salary |     token      |\n",
       "+--------------+-----------+----------------+----------------+\n",
       "| Headquarters |     1     |  55000.000000  | 92628001548441 |\n",
       "|   Research   |     3     |  31666.666667  | 92628001548441 |\n",
       "+--------------+-----------+----------------+----------------+"
      ]
     },
     "execution_count": 5,
     "metadata": {},
     "output_type": "execute_result"
    }
   ],
   "source": [
    "%%sql\n",
    "SELECT dpt_name AS department\n",
    "     , count(emp_id) AS employees\n",
    "     , avg(salary) AS average_salary\n",
    "     , salt_050((0.0) + bit_xor(sum(nn(A.hash) + nn(B.hash))) OVER ()) AS token\n",
    "FROM department A \n",
    "JOIN employee B ON A.dpt_id = B.dpt_id\n",
    "WHERE address LIKE '%Houston TX'\n",
    "GROUP BY dpt_name\n",
    "HAVING avg(salary) > 30000\n",
    "ORDER BY average_salary DESC;"
   ]
  },
  {
   "cell_type": "markdown",
   "id": "ab2b82c5",
   "metadata": {},
   "source": [
    "Replacing the placeholder with the control value gives the token its final value:"
   ]
  },
  {
   "cell_type": "code",
   "execution_count": 6,
   "id": "eb9f5758",
   "metadata": {},
   "outputs": [],
   "source": [
    "x = 1 # the first number on the column 'employees'"
   ]
  },
  {
   "cell_type": "code",
   "execution_count": 7,
   "id": "94664733",
   "metadata": {},
   "outputs": [
    {
     "data": {
      "text/html": [
       "<table>\n",
       "    <thead>\n",
       "        <tr>\n",
       "            <th>department</th>\n",
       "            <th>employees</th>\n",
       "            <th>average_salary</th>\n",
       "            <th>token</th>\n",
       "        </tr>\n",
       "    </thead>\n",
       "    <tbody>\n",
       "        <tr>\n",
       "            <td>Headquarters</td>\n",
       "            <td>1</td>\n",
       "            <td>55000.000000</td>\n",
       "            <td>92628001548442</td>\n",
       "        </tr>\n",
       "        <tr>\n",
       "            <td>Research</td>\n",
       "            <td>3</td>\n",
       "            <td>31666.666667</td>\n",
       "            <td>92628001548442</td>\n",
       "        </tr>\n",
       "    </tbody>\n",
       "</table>"
      ],
      "text/plain": [
       "+--------------+-----------+----------------+----------------+\n",
       "|  department  | employees | average_salary |     token      |\n",
       "+--------------+-----------+----------------+----------------+\n",
       "| Headquarters |     1     |  55000.000000  | 92628001548442 |\n",
       "|   Research   |     3     |  31666.666667  | 92628001548442 |\n",
       "+--------------+-----------+----------------+----------------+"
      ]
     },
     "execution_count": 7,
     "metadata": {},
     "output_type": "execute_result"
    }
   ],
   "source": [
    "%%sql\n",
    "SELECT dpt_name AS department\n",
    "     , count(emp_id) AS employees\n",
    "     , avg(salary) AS average_salary\n",
    "     , salt_050({{x}} + bit_xor(sum(nn(A.hash) + nn(B.hash))) OVER ()) AS token\n",
    "FROM department A \n",
    "JOIN employee B ON A.dpt_id = B.dpt_id\n",
    "WHERE address LIKE '%Houston TX'\n",
    "GROUP BY dpt_name\n",
    "HAVING avg(salary) > 30000\n",
    "ORDER BY average_salary DESC;"
   ]
  },
  {
   "cell_type": "code",
   "execution_count": 8,
   "id": "8784fdbc",
   "metadata": {},
   "outputs": [],
   "source": [
    "assert _[0][1] == x"
   ]
  },
  {
   "cell_type": "markdown",
   "id": "f92d64f2",
   "metadata": {},
   "source": [
    "## 4. Fingerprinting an SQL query"
   ]
  },
  {
   "cell_type": "markdown",
   "id": "7863f6bc",
   "metadata": {},
   "source": [
    "### 4.3. Fingerprinting scope"
   ]
  },
  {
   "cell_type": "markdown",
   "id": "60747ae6",
   "metadata": {},
   "source": [
    "#### 4.3.1. Main scope / Queries with or without top level aggregation"
   ]
  },
  {
   "cell_type": "markdown",
   "id": "393e8a75",
   "metadata": {},
   "source": [
    "##### An example of two equivalent queries requiring distinct formulas"
   ]
  },
  {
   "cell_type": "code",
   "execution_count": 9,
   "id": "34c9565f",
   "metadata": {},
   "outputs": [
    {
     "data": {
      "text/html": [
       "<table>\n",
       "    <thead>\n",
       "        <tr>\n",
       "            <th>dpt_id</th>\n",
       "            <th>average salary</th>\n",
       "            <th>token</th>\n",
       "        </tr>\n",
       "    </thead>\n",
       "    <tbody>\n",
       "        <tr>\n",
       "            <td>5</td>\n",
       "            <td>33250.000000</td>\n",
       "            <td>3686895225251</td>\n",
       "        </tr>\n",
       "        <tr>\n",
       "            <td>1</td>\n",
       "            <td>55000.000000</td>\n",
       "            <td>3686895225251</td>\n",
       "        </tr>\n",
       "        <tr>\n",
       "            <td>4</td>\n",
       "            <td>31000.000000</td>\n",
       "            <td>3686895225251</td>\n",
       "        </tr>\n",
       "    </tbody>\n",
       "</table>"
      ],
      "text/plain": [
       "+--------+----------------+---------------+\n",
       "| dpt_id | average salary |     token     |\n",
       "+--------+----------------+---------------+\n",
       "|   5    |  33250.000000  | 3686895225251 |\n",
       "|   1    |  55000.000000  | 3686895225251 |\n",
       "|   4    |  31000.000000  | 3686895225251 |\n",
       "+--------+----------------+---------------+"
      ]
     },
     "execution_count": 9,
     "metadata": {},
     "output_type": "execute_result"
    }
   ],
   "source": [
    "%%sql\n",
    "SELECT dpt_id\n",
    "     , avg(salary) AS \"average salary\"\n",
    "     , bit_xor(sum(nn(A.hash))) OVER () as token\n",
    "FROM employee A\n",
    "GROUP BY dpt_id"
   ]
  },
  {
   "cell_type": "code",
   "execution_count": 10,
   "id": "2b959c79",
   "metadata": {
    "scrolled": true
   },
   "outputs": [
    {
     "data": {
      "text/html": [
       "<table>\n",
       "    <thead>\n",
       "        <tr>\n",
       "            <th>dpt_id</th>\n",
       "            <th>average salary</th>\n",
       "            <th>token</th>\n",
       "        </tr>\n",
       "    </thead>\n",
       "    <tbody>\n",
       "        <tr>\n",
       "            <td>5</td>\n",
       "            <td>33250.000000</td>\n",
       "            <td>4958773147229</td>\n",
       "        </tr>\n",
       "        <tr>\n",
       "            <td>1</td>\n",
       "            <td>55000.000000</td>\n",
       "            <td>4958773147229</td>\n",
       "        </tr>\n",
       "        <tr>\n",
       "            <td>4</td>\n",
       "            <td>31000.000000</td>\n",
       "            <td>4958773147229</td>\n",
       "        </tr>\n",
       "    </tbody>\n",
       "</table>"
      ],
      "text/plain": [
       "+--------+----------------+---------------+\n",
       "| dpt_id | average salary |     token     |\n",
       "+--------+----------------+---------------+\n",
       "|   5    |  33250.000000  | 4958773147229 |\n",
       "|   1    |  55000.000000  | 4958773147229 |\n",
       "|   4    |  31000.000000  | 4958773147229 |\n",
       "+--------+----------------+---------------+"
      ]
     },
     "execution_count": 10,
     "metadata": {},
     "output_type": "execute_result"
    }
   ],
   "source": [
    "%%sql\n",
    "SELECT DISTINCT dpt_id\n",
    "             , (SELECT avg(salary)\n",
    "                FROM employee B\n",
    "                WHERE A.dpt_id = B.dpt_id) AS \"average salary\"\n",
    "             , sum(nn(A.hash)) OVER () as token\n",
    "FROM employee A"
   ]
  },
  {
   "cell_type": "markdown",
   "id": "2f07d720",
   "metadata": {},
   "source": [
    "#### 4.3.2. Extended scope / Derived queries with no aggregation"
   ]
  },
  {
   "cell_type": "markdown",
   "id": "85d89a4d",
   "metadata": {},
   "source": [
    "##### An example of hash restoration after a set operation"
   ]
  },
  {
   "cell_type": "code",
   "execution_count": 11,
   "id": "02158bd1",
   "metadata": {},
   "outputs": [
    {
     "data": {
      "text/html": [
       "<table>\n",
       "    <thead>\n",
       "        <tr>\n",
       "            <th>emp_name</th>\n",
       "            <th>token</th>\n",
       "        </tr>\n",
       "    </thead>\n",
       "    <tbody>\n",
       "        <tr>\n",
       "            <td>John B. Smith</td>\n",
       "            <td>278758536371887</td>\n",
       "        </tr>\n",
       "        <tr>\n",
       "            <td>Ramesh K. Narayan</td>\n",
       "            <td>278758536371887</td>\n",
       "        </tr>\n",
       "        <tr>\n",
       "            <td>Ahmad V. Jabbar</td>\n",
       "            <td>278758536371887</td>\n",
       "        </tr>\n",
       "        <tr>\n",
       "            <td>Alicia J. Zelaya</td>\n",
       "            <td>278758536371887</td>\n",
       "        </tr>\n",
       "        <tr>\n",
       "            <td>Joyce A. English</td>\n",
       "            <td>278758536371887</td>\n",
       "        </tr>\n",
       "    </tbody>\n",
       "</table>"
      ],
      "text/plain": [
       "+-------------------+-----------------+\n",
       "|      emp_name     |      token      |\n",
       "+-------------------+-----------------+\n",
       "|   John B. Smith   | 278758536371887 |\n",
       "| Ramesh K. Narayan | 278758536371887 |\n",
       "|  Ahmad V. Jabbar  | 278758536371887 |\n",
       "|  Alicia J. Zelaya | 278758536371887 |\n",
       "|  Joyce A. English | 278758536371887 |\n",
       "+-------------------+-----------------+"
      ]
     },
     "execution_count": 11,
     "metadata": {},
     "output_type": "execute_result"
    }
   ],
   "source": [
    "%%sql\n",
    "SELECT emp_name\n",
    "     , salt_042(sum(nn(A.hash)) OVER ()) as token\n",
    "FROM employee A\n",
    "JOIN (\n",
    "    SELECT emp_id FROM employee\n",
    "    EXCEPT\n",
    "    SELECT manager_id FROM department\n",
    ") B ON A.emp_id = B.emp_id"
   ]
  },
  {
   "cell_type": "code",
   "execution_count": 12,
   "id": "bb06a321",
   "metadata": {},
   "outputs": [
    {
     "data": {
      "text/html": [
       "<table>\n",
       "    <thead>\n",
       "        <tr>\n",
       "            <th>emp_name</th>\n",
       "            <th>token</th>\n",
       "        </tr>\n",
       "    </thead>\n",
       "    <tbody>\n",
       "        <tr>\n",
       "            <td>John B. Smith</td>\n",
       "            <td>278758536371887</td>\n",
       "        </tr>\n",
       "        <tr>\n",
       "            <td>Joyce A. English</td>\n",
       "            <td>278758536371887</td>\n",
       "        </tr>\n",
       "        <tr>\n",
       "            <td>Ramesh K. Narayan</td>\n",
       "            <td>278758536371887</td>\n",
       "        </tr>\n",
       "        <tr>\n",
       "            <td>Ahmad V. Jabbar</td>\n",
       "            <td>278758536371887</td>\n",
       "        </tr>\n",
       "        <tr>\n",
       "            <td>Alicia J. Zelaya</td>\n",
       "            <td>278758536371887</td>\n",
       "        </tr>\n",
       "    </tbody>\n",
       "</table>"
      ],
      "text/plain": [
       "+-------------------+-----------------+\n",
       "|      emp_name     |      token      |\n",
       "+-------------------+-----------------+\n",
       "|   John B. Smith   | 278758536371887 |\n",
       "|  Joyce A. English | 278758536371887 |\n",
       "| Ramesh K. Narayan | 278758536371887 |\n",
       "|  Ahmad V. Jabbar  | 278758536371887 |\n",
       "|  Alicia J. Zelaya | 278758536371887 |\n",
       "+-------------------+-----------------+"
      ]
     },
     "execution_count": 12,
     "metadata": {},
     "output_type": "execute_result"
    }
   ],
   "source": [
    "%%sql\n",
    "SELECT emp_name, salt_042(sum(nn(A.hash)) OVER ()) as token\n",
    "FROM employee A\n",
    "WHERE NOT EXISTS (\n",
    "    SELECT 1\n",
    "    FROM department B\n",
    "    WHERE A.emp_id = B.manager_id\n",
    ")"
   ]
  },
  {
   "cell_type": "code",
   "execution_count": 13,
   "id": "4c267c66",
   "metadata": {},
   "outputs": [
    {
     "data": {
      "text/html": [
       "<table>\n",
       "    <thead>\n",
       "        <tr>\n",
       "            <th>emp_name</th>\n",
       "            <th>token</th>\n",
       "        </tr>\n",
       "    </thead>\n",
       "    <tbody>\n",
       "        <tr>\n",
       "            <td>John B. Smith</td>\n",
       "            <td>267715281565996</td>\n",
       "        </tr>\n",
       "        <tr>\n",
       "            <td>John B. Smith</td>\n",
       "            <td>267715281565996</td>\n",
       "        </tr>\n",
       "        <tr>\n",
       "            <td>John B. Smith</td>\n",
       "            <td>267715281565996</td>\n",
       "        </tr>\n",
       "        <tr>\n",
       "            <td>Franklin T. Wong</td>\n",
       "            <td>267715281565996</td>\n",
       "        </tr>\n",
       "        <tr>\n",
       "            <td>Franklin T. Wong</td>\n",
       "            <td>267715281565996</td>\n",
       "        </tr>\n",
       "        <tr>\n",
       "            <td>Franklin T. Wong</td>\n",
       "            <td>267715281565996</td>\n",
       "        </tr>\n",
       "        <tr>\n",
       "            <td>Franklin T. Wong</td>\n",
       "            <td>267715281565996</td>\n",
       "        </tr>\n",
       "        <tr>\n",
       "            <td>James E. Borg</td>\n",
       "            <td>267715281565996</td>\n",
       "        </tr>\n",
       "        <tr>\n",
       "            <td>Jennifer S. Wallace</td>\n",
       "            <td>267715281565996</td>\n",
       "        </tr>\n",
       "        <tr>\n",
       "            <td>Jennifer S. Wallace</td>\n",
       "            <td>267715281565996</td>\n",
       "        </tr>\n",
       "    </tbody>\n",
       "</table>"
      ],
      "text/plain": [
       "+---------------------+-----------------+\n",
       "|       emp_name      |      token      |\n",
       "+---------------------+-----------------+\n",
       "|    John B. Smith    | 267715281565996 |\n",
       "|    John B. Smith    | 267715281565996 |\n",
       "|    John B. Smith    | 267715281565996 |\n",
       "|   Franklin T. Wong  | 267715281565996 |\n",
       "|   Franklin T. Wong  | 267715281565996 |\n",
       "|   Franklin T. Wong  | 267715281565996 |\n",
       "|   Franklin T. Wong  | 267715281565996 |\n",
       "|    James E. Borg    | 267715281565996 |\n",
       "| Jennifer S. Wallace | 267715281565996 |\n",
       "| Jennifer S. Wallace | 267715281565996 |\n",
       "+---------------------+-----------------+"
      ]
     },
     "execution_count": 13,
     "metadata": {},
     "output_type": "execute_result"
    }
   ],
   "source": [
    "%%sql\n",
    "WITH temp AS (\n",
    "    SELECT emp_id, hash FROM dependent\n",
    "    UNION\n",
    "    SELECT manager_id as emp_id, hash FROM department\n",
    ")\n",
    "SELECT emp_name, salt_042(sum(nn(A.hash) + nn(B.hash)) OVER ()) as token\n",
    "FROM employee A\n",
    "JOIN temp B USING (emp_id)"
   ]
  },
  {
   "cell_type": "markdown",
   "id": "f535b772",
   "metadata": {},
   "source": [
    "#### 4.3.2. Extended scope / Common Table Expressions"
   ]
  },
  {
   "cell_type": "markdown",
   "id": "555973c6",
   "metadata": {},
   "source": [
    "##### An example of hash transmission in a recursive CTE"
   ]
  },
  {
   "cell_type": "code",
   "execution_count": 14,
   "id": "c1644654",
   "metadata": {},
   "outputs": [
    {
     "data": {
      "text/html": [
       "<table>\n",
       "    <thead>\n",
       "        <tr>\n",
       "            <th>emp_name</th>\n",
       "            <th>emp_id</th>\n",
       "            <th>supervisor_id</th>\n",
       "            <th>token</th>\n",
       "        </tr>\n",
       "    </thead>\n",
       "    <tbody>\n",
       "        <tr>\n",
       "            <td>John B. Smith</td>\n",
       "            <td>123456789</td>\n",
       "            <td>333445555</td>\n",
       "            <td>279415369579811</td>\n",
       "        </tr>\n",
       "        <tr>\n",
       "            <td>Franklin T. Wong</td>\n",
       "            <td>333445555</td>\n",
       "            <td>888665555</td>\n",
       "            <td>279415369579811</td>\n",
       "        </tr>\n",
       "        <tr>\n",
       "            <td>James E. Borg</td>\n",
       "            <td>888665555</td>\n",
       "            <td>None</td>\n",
       "            <td>279415369579811</td>\n",
       "        </tr>\n",
       "    </tbody>\n",
       "</table>"
      ],
      "text/plain": [
       "+------------------+-----------+---------------+-----------------+\n",
       "|     emp_name     |   emp_id  | supervisor_id |      token      |\n",
       "+------------------+-----------+---------------+-----------------+\n",
       "|  John B. Smith   | 123456789 |   333445555   | 279415369579811 |\n",
       "| Franklin T. Wong | 333445555 |   888665555   | 279415369579811 |\n",
       "|  James E. Borg   | 888665555 |      None     | 279415369579811 |\n",
       "+------------------+-----------+---------------+-----------------+"
      ]
     },
     "execution_count": 14,
     "metadata": {},
     "output_type": "execute_result"
    }
   ],
   "source": [
    "%%sql\n",
    "WITH RECURSIVE supervisor_hierarchy AS (\n",
    "  -- Anchor member: Find the supervisor of John B. Smith\n",
    "  SELECT emp_name\n",
    "       , emp_id\n",
    "       , supervisor_id\n",
    "       , hash\n",
    "  FROM employee\n",
    "  WHERE emp_name = 'John B. Smith'\n",
    "\n",
    "  UNION ALL\n",
    "\n",
    "  -- Recursive member: Find supervisors of the current supervisor\n",
    "  SELECT E.emp_name\n",
    "       , E.emp_id\n",
    "       , E.supervisor_id\n",
    "       , E.hash\n",
    "  FROM employee E\n",
    "  JOIN supervisor_hierarchy SH ON E.emp_id = SH.supervisor_id\n",
    ")\n",
    "SELECT emp_name\n",
    "     , emp_id\n",
    "     , supervisor_id\n",
    "     , salt_042(sum(nn(hash)) OVER ()) as token\n",
    "FROM supervisor_hierarchy"
   ]
  },
  {
   "cell_type": "markdown",
   "id": "de8aa844",
   "metadata": {},
   "source": [
    "### 4.4. Fingerprinting accuracy"
   ]
  },
  {
   "cell_type": "markdown",
   "id": "275bb5fc",
   "metadata": {},
   "source": [
    "#### 4.4.3. Worst-case example for false positives"
   ]
  },
  {
   "cell_type": "markdown",
   "id": "f6f535d8",
   "metadata": {},
   "source": [
    "##### Table 3 : Which employee works 5 hours on project 30?"
   ]
  },
  {
   "cell_type": "markdown",
   "id": "f3032184",
   "metadata": {},
   "source": [
    "$\\LaTeX$ table generated by executing the following cell."
   ]
  },
  {
   "cell_type": "code",
   "execution_count": 15,
   "id": "c2ba58d7",
   "metadata": {},
   "outputs": [
    {
     "name": "stdout",
     "output_type": "stream",
     "text": [
      "Token 2. Check that these tables are equivalent:\n"
     ]
    },
    {
     "data": {
      "text/html": [
       "<table border=\"1\" class=\"dataframe\">\n",
       "  <thead>\n",
       "    <tr style=\"text-align: right;\">\n",
       "      <th>address</th>\n",
       "      <th>birth</th>\n",
       "      <th>dpt_id</th>\n",
       "      <th>emp_id</th>\n",
       "      <th>emp_id_1</th>\n",
       "      <th>emp_name</th>\n",
       "      <th>hash</th>\n",
       "      <th>hash_1</th>\n",
       "      <th>hours</th>\n",
       "      <th>prj_id</th>\n",
       "      <th>salary</th>\n",
       "      <th>sex</th>\n",
       "      <th>supervisor_id</th>\n",
       "    </tr>\n",
       "  </thead>\n",
       "  <tbody>\n",
       "    <tr>\n",
       "      <td>980 Dallas, Houston TX</td>\n",
       "      <td>1969-03-29</td>\n",
       "      <td>4</td>\n",
       "      <td>987987987</td>\n",
       "      <td>987987987</td>\n",
       "      <td>Ahmad V. Jabbar</td>\n",
       "      <td>80402583985</td>\n",
       "      <td>684653974311</td>\n",
       "      <td>5.0</td>\n",
       "      <td>30</td>\n",
       "      <td>25000.00</td>\n",
       "      <td>M</td>\n",
       "      <td>987654321</td>\n",
       "    </tr>\n",
       "  </tbody>\n",
       "</table>"
      ],
      "text/plain": [
       "<IPython.core.display.HTML object>"
      ]
     },
     "metadata": {},
     "output_type": "display_data"
    },
    {
     "data": {
      "text/html": [
       "<table border=\"1\" class=\"dataframe\">\n",
       "  <thead>\n",
       "    <tr style=\"text-align: right;\">\n",
       "      <th>address</th>\n",
       "      <th>birth</th>\n",
       "      <th>dpt_id</th>\n",
       "      <th>emp_id</th>\n",
       "      <th>emp_id_1</th>\n",
       "      <th>emp_name</th>\n",
       "      <th>hash</th>\n",
       "      <th>hash_1</th>\n",
       "      <th>hours</th>\n",
       "      <th>prj_id</th>\n",
       "      <th>salary</th>\n",
       "      <th>sex</th>\n",
       "      <th>supervisor_id</th>\n",
       "    </tr>\n",
       "  </thead>\n",
       "  <tbody>\n",
       "    <tr>\n",
       "      <td>980 Dallas, Houston TX</td>\n",
       "      <td>1969-03-29</td>\n",
       "      <td>4</td>\n",
       "      <td>987987987</td>\n",
       "      <td>987987987</td>\n",
       "      <td>Ahmad V. Jabbar</td>\n",
       "      <td>684653974311</td>\n",
       "      <td>80402583985</td>\n",
       "      <td>5.0</td>\n",
       "      <td>30</td>\n",
       "      <td>25000.00</td>\n",
       "      <td>M</td>\n",
       "      <td>987654321</td>\n",
       "    </tr>\n",
       "  </tbody>\n",
       "</table>"
      ],
      "text/plain": [
       "<IPython.core.display.HTML object>"
      ]
     },
     "metadata": {},
     "output_type": "display_data"
    },
    {
     "name": "stdout",
     "output_type": "stream",
     "text": [
      "\n",
      "Token 2. Check that these tables are equivalent:\n"
     ]
    },
    {
     "data": {
      "text/html": [
       "<table border=\"1\" class=\"dataframe\">\n",
       "  <thead>\n",
       "    <tr style=\"text-align: right;\">\n",
       "      <th>address</th>\n",
       "      <th>birth</th>\n",
       "      <th>dpt_id</th>\n",
       "      <th>emp_id</th>\n",
       "      <th>emp_id_1</th>\n",
       "      <th>emp_name</th>\n",
       "      <th>hash</th>\n",
       "      <th>hash_1</th>\n",
       "      <th>hours</th>\n",
       "      <th>prj_id</th>\n",
       "      <th>salary</th>\n",
       "      <th>sex</th>\n",
       "      <th>supervisor_id</th>\n",
       "    </tr>\n",
       "  </thead>\n",
       "  <tbody>\n",
       "    <tr>\n",
       "      <td>980 Dallas, Houston TX</td>\n",
       "      <td>1969-03-29</td>\n",
       "      <td>4</td>\n",
       "      <td>987987987</td>\n",
       "      <td>987987987</td>\n",
       "      <td>Ahmad V. Jabbar</td>\n",
       "      <td>80402583985</td>\n",
       "      <td>684653974311</td>\n",
       "      <td>5.0</td>\n",
       "      <td>30</td>\n",
       "      <td>25000.00</td>\n",
       "      <td>M</td>\n",
       "      <td>987654321</td>\n",
       "    </tr>\n",
       "  </tbody>\n",
       "</table>"
      ],
      "text/plain": [
       "<IPython.core.display.HTML object>"
      ]
     },
     "metadata": {},
     "output_type": "display_data"
    },
    {
     "data": {
      "text/html": [
       "<table border=\"1\" class=\"dataframe\">\n",
       "  <thead>\n",
       "    <tr style=\"text-align: right;\">\n",
       "      <th>address</th>\n",
       "      <th>birth</th>\n",
       "      <th>dpt_id</th>\n",
       "      <th>emp_id</th>\n",
       "      <th>emp_id_1</th>\n",
       "      <th>emp_name</th>\n",
       "      <th>hash</th>\n",
       "      <th>hash_1</th>\n",
       "      <th>hours</th>\n",
       "      <th>prj_id</th>\n",
       "      <th>salary</th>\n",
       "      <th>sex</th>\n",
       "      <th>supervisor_id</th>\n",
       "    </tr>\n",
       "  </thead>\n",
       "  <tbody>\n",
       "    <tr>\n",
       "      <td>980 Dallas, Houston TX</td>\n",
       "      <td>1969-03-29</td>\n",
       "      <td>4</td>\n",
       "      <td>987987987</td>\n",
       "      <td>987987987</td>\n",
       "      <td>Ahmad V. Jabbar</td>\n",
       "      <td>684653974311</td>\n",
       "      <td>80402583985</td>\n",
       "      <td>5.0</td>\n",
       "      <td>30</td>\n",
       "      <td>25000.00</td>\n",
       "      <td>M</td>\n",
       "      <td>987654321</td>\n",
       "    </tr>\n",
       "  </tbody>\n",
       "</table>"
      ],
      "text/plain": [
       "<IPython.core.display.HTML object>"
      ]
     },
     "metadata": {},
     "output_type": "display_data"
    },
    {
     "name": "stdout",
     "output_type": "stream",
     "text": [
      "\n",
      "Token 2. Check that these tables are equivalent:\n"
     ]
    },
    {
     "data": {
      "text/html": [
       "<table border=\"1\" class=\"dataframe\">\n",
       "  <thead>\n",
       "    <tr style=\"text-align: right;\">\n",
       "      <th>address</th>\n",
       "      <th>birth</th>\n",
       "      <th>dpt_id</th>\n",
       "      <th>emp_id</th>\n",
       "      <th>emp_id_1</th>\n",
       "      <th>emp_name</th>\n",
       "      <th>hash</th>\n",
       "      <th>hash_1</th>\n",
       "      <th>hours</th>\n",
       "      <th>prj_id</th>\n",
       "      <th>salary</th>\n",
       "      <th>sex</th>\n",
       "      <th>supervisor_id</th>\n",
       "    </tr>\n",
       "  </thead>\n",
       "  <tbody>\n",
       "    <tr>\n",
       "      <td>980 Dallas, Houston TX</td>\n",
       "      <td>1969-03-29</td>\n",
       "      <td>4</td>\n",
       "      <td>987987987</td>\n",
       "      <td>987987987</td>\n",
       "      <td>Ahmad V. Jabbar</td>\n",
       "      <td>80402583985</td>\n",
       "      <td>684653974311</td>\n",
       "      <td>5.0</td>\n",
       "      <td>30</td>\n",
       "      <td>25000.00</td>\n",
       "      <td>M</td>\n",
       "      <td>987654321</td>\n",
       "    </tr>\n",
       "  </tbody>\n",
       "</table>"
      ],
      "text/plain": [
       "<IPython.core.display.HTML object>"
      ]
     },
     "metadata": {},
     "output_type": "display_data"
    },
    {
     "data": {
      "text/html": [
       "<table border=\"1\" class=\"dataframe\">\n",
       "  <thead>\n",
       "    <tr style=\"text-align: right;\">\n",
       "      <th>address</th>\n",
       "      <th>birth</th>\n",
       "      <th>dpt_id</th>\n",
       "      <th>emp_id</th>\n",
       "      <th>emp_id_1</th>\n",
       "      <th>emp_name</th>\n",
       "      <th>hash</th>\n",
       "      <th>hash_1</th>\n",
       "      <th>hours</th>\n",
       "      <th>prj_id</th>\n",
       "      <th>salary</th>\n",
       "      <th>sex</th>\n",
       "      <th>supervisor_id</th>\n",
       "    </tr>\n",
       "  </thead>\n",
       "  <tbody>\n",
       "    <tr>\n",
       "      <td>980 Dallas, Houston TX</td>\n",
       "      <td>1969-03-29</td>\n",
       "      <td>4</td>\n",
       "      <td>987987987</td>\n",
       "      <td>987987987</td>\n",
       "      <td>Ahmad V. Jabbar</td>\n",
       "      <td>684653974311</td>\n",
       "      <td>80402583985</td>\n",
       "      <td>5.0</td>\n",
       "      <td>30</td>\n",
       "      <td>25000.00</td>\n",
       "      <td>M</td>\n",
       "      <td>987654321</td>\n",
       "    </tr>\n",
       "  </tbody>\n",
       "</table>"
      ],
      "text/plain": [
       "<IPython.core.display.HTML object>"
      ]
     },
     "metadata": {},
     "output_type": "display_data"
    },
    {
     "name": "stdout",
     "output_type": "stream",
     "text": [
      "\n",
      "Token 2. Check that these tables are equivalent:\n"
     ]
    },
    {
     "data": {
      "text/html": [
       "<table border=\"1\" class=\"dataframe\">\n",
       "  <thead>\n",
       "    <tr style=\"text-align: right;\">\n",
       "      <th>address</th>\n",
       "      <th>birth</th>\n",
       "      <th>dpt_id</th>\n",
       "      <th>emp_id</th>\n",
       "      <th>emp_id_1</th>\n",
       "      <th>emp_name</th>\n",
       "      <th>hash</th>\n",
       "      <th>hash_1</th>\n",
       "      <th>hours</th>\n",
       "      <th>prj_id</th>\n",
       "      <th>salary</th>\n",
       "      <th>sex</th>\n",
       "      <th>supervisor_id</th>\n",
       "    </tr>\n",
       "  </thead>\n",
       "  <tbody>\n",
       "    <tr>\n",
       "      <td>980 Dallas, Houston TX</td>\n",
       "      <td>1969-03-29</td>\n",
       "      <td>4</td>\n",
       "      <td>987987987</td>\n",
       "      <td>987987987</td>\n",
       "      <td>Ahmad V. Jabbar</td>\n",
       "      <td>80402583985</td>\n",
       "      <td>684653974311</td>\n",
       "      <td>5.0</td>\n",
       "      <td>30</td>\n",
       "      <td>25000.00</td>\n",
       "      <td>M</td>\n",
       "      <td>987654321</td>\n",
       "    </tr>\n",
       "  </tbody>\n",
       "</table>"
      ],
      "text/plain": [
       "<IPython.core.display.HTML object>"
      ]
     },
     "metadata": {},
     "output_type": "display_data"
    },
    {
     "data": {
      "text/html": [
       "<table border=\"1\" class=\"dataframe\">\n",
       "  <thead>\n",
       "    <tr style=\"text-align: right;\">\n",
       "      <th>address</th>\n",
       "      <th>birth</th>\n",
       "      <th>dpt_id</th>\n",
       "      <th>emp_id</th>\n",
       "      <th>emp_id_1</th>\n",
       "      <th>emp_name</th>\n",
       "      <th>hash</th>\n",
       "      <th>hash_1</th>\n",
       "      <th>hours</th>\n",
       "      <th>prj_id</th>\n",
       "      <th>salary</th>\n",
       "      <th>sex</th>\n",
       "      <th>supervisor_id</th>\n",
       "    </tr>\n",
       "  </thead>\n",
       "  <tbody>\n",
       "    <tr>\n",
       "      <td>980 Dallas, Houston TX</td>\n",
       "      <td>1969-03-29</td>\n",
       "      <td>4</td>\n",
       "      <td>987987987</td>\n",
       "      <td>987987987</td>\n",
       "      <td>Ahmad V. Jabbar</td>\n",
       "      <td>684653974311</td>\n",
       "      <td>80402583985</td>\n",
       "      <td>5.0</td>\n",
       "      <td>30</td>\n",
       "      <td>25000.00</td>\n",
       "      <td>M</td>\n",
       "      <td>987654321</td>\n",
       "    </tr>\n",
       "  </tbody>\n",
       "</table>"
      ],
      "text/plain": [
       "<IPython.core.display.HTML object>"
      ]
     },
     "metadata": {},
     "output_type": "display_data"
    },
    {
     "name": "stdout",
     "output_type": "stream",
     "text": [
      "\n",
      "Token 2. Check that these tables are equivalent:\n"
     ]
    },
    {
     "data": {
      "text/html": [
       "<table border=\"1\" class=\"dataframe\">\n",
       "  <thead>\n",
       "    <tr style=\"text-align: right;\">\n",
       "      <th>address</th>\n",
       "      <th>birth</th>\n",
       "      <th>dpt_id</th>\n",
       "      <th>emp_id</th>\n",
       "      <th>emp_id_1</th>\n",
       "      <th>emp_name</th>\n",
       "      <th>hash</th>\n",
       "      <th>hash_1</th>\n",
       "      <th>hours</th>\n",
       "      <th>prj_id</th>\n",
       "      <th>salary</th>\n",
       "      <th>sex</th>\n",
       "      <th>supervisor_id</th>\n",
       "    </tr>\n",
       "  </thead>\n",
       "  <tbody>\n",
       "    <tr>\n",
       "      <td>980 Dallas, Houston TX</td>\n",
       "      <td>1969-03-29</td>\n",
       "      <td>4</td>\n",
       "      <td>987987987</td>\n",
       "      <td>987987987</td>\n",
       "      <td>Ahmad V. Jabbar</td>\n",
       "      <td>80402583985</td>\n",
       "      <td>684653974311</td>\n",
       "      <td>5.0</td>\n",
       "      <td>30</td>\n",
       "      <td>25000.00</td>\n",
       "      <td>M</td>\n",
       "      <td>987654321</td>\n",
       "    </tr>\n",
       "  </tbody>\n",
       "</table>"
      ],
      "text/plain": [
       "<IPython.core.display.HTML object>"
      ]
     },
     "metadata": {},
     "output_type": "display_data"
    },
    {
     "data": {
      "text/html": [
       "<table border=\"1\" class=\"dataframe\">\n",
       "  <thead>\n",
       "    <tr style=\"text-align: right;\">\n",
       "      <th>address</th>\n",
       "      <th>birth</th>\n",
       "      <th>dpt_id</th>\n",
       "      <th>emp_id</th>\n",
       "      <th>emp_id_1</th>\n",
       "      <th>emp_name</th>\n",
       "      <th>hash</th>\n",
       "      <th>hash_1</th>\n",
       "      <th>hours</th>\n",
       "      <th>prj_id</th>\n",
       "      <th>salary</th>\n",
       "      <th>sex</th>\n",
       "      <th>supervisor_id</th>\n",
       "    </tr>\n",
       "  </thead>\n",
       "  <tbody>\n",
       "    <tr>\n",
       "      <td>980 Dallas, Houston TX</td>\n",
       "      <td>1969-03-29</td>\n",
       "      <td>4</td>\n",
       "      <td>987987987</td>\n",
       "      <td>987987987</td>\n",
       "      <td>Ahmad V. Jabbar</td>\n",
       "      <td>684653974311</td>\n",
       "      <td>80402583985</td>\n",
       "      <td>5.0</td>\n",
       "      <td>30</td>\n",
       "      <td>25000.00</td>\n",
       "      <td>M</td>\n",
       "      <td>987654321</td>\n",
       "    </tr>\n",
       "  </tbody>\n",
       "</table>"
      ],
      "text/plain": [
       "<IPython.core.display.HTML object>"
      ]
     },
     "metadata": {},
     "output_type": "display_data"
    },
    {
     "name": "stdout",
     "output_type": "stream",
     "text": [
      "\n",
      "Token 6. Check that these tables are equivalent:\n"
     ]
    },
    {
     "data": {
      "text/html": [
       "<table border=\"1\" class=\"dataframe\">\n",
       "  <thead>\n",
       "    <tr style=\"text-align: right;\">\n",
       "      <th>address</th>\n",
       "      <th>birth</th>\n",
       "      <th>dpt_id</th>\n",
       "      <th>dpt_id_1</th>\n",
       "      <th>emp_id</th>\n",
       "      <th>emp_name</th>\n",
       "      <th>hash</th>\n",
       "      <th>hash_1</th>\n",
       "      <th>location</th>\n",
       "      <th>prj_id</th>\n",
       "      <th>prj_name</th>\n",
       "      <th>salary</th>\n",
       "      <th>sex</th>\n",
       "      <th>supervisor_id</th>\n",
       "    </tr>\n",
       "  </thead>\n",
       "  <tbody>\n",
       "    <tr>\n",
       "      <td>980 Dallas, Houston TX</td>\n",
       "      <td>1969-03-29</td>\n",
       "      <td>4</td>\n",
       "      <td>4</td>\n",
       "      <td>987987987</td>\n",
       "      <td>Ahmad V. Jabbar</td>\n",
       "      <td>939531984113</td>\n",
       "      <td>80402583985</td>\n",
       "      <td>Stafford</td>\n",
       "      <td>30</td>\n",
       "      <td>Newbenefits</td>\n",
       "      <td>25000.00</td>\n",
       "      <td>M</td>\n",
       "      <td>987654321</td>\n",
       "    </tr>\n",
       "  </tbody>\n",
       "</table>"
      ],
      "text/plain": [
       "<IPython.core.display.HTML object>"
      ]
     },
     "metadata": {},
     "output_type": "display_data"
    },
    {
     "data": {
      "text/html": [
       "<table border=\"1\" class=\"dataframe\">\n",
       "  <thead>\n",
       "    <tr style=\"text-align: right;\">\n",
       "      <th>address</th>\n",
       "      <th>birth</th>\n",
       "      <th>dpt_id</th>\n",
       "      <th>dpt_id_1</th>\n",
       "      <th>emp_id</th>\n",
       "      <th>emp_name</th>\n",
       "      <th>hash</th>\n",
       "      <th>hash_1</th>\n",
       "      <th>location</th>\n",
       "      <th>prj_id</th>\n",
       "      <th>prj_name</th>\n",
       "      <th>salary</th>\n",
       "      <th>sex</th>\n",
       "      <th>supervisor_id</th>\n",
       "    </tr>\n",
       "  </thead>\n",
       "  <tbody>\n",
       "    <tr>\n",
       "      <td>980 Dallas, Houston TX</td>\n",
       "      <td>1969-03-29</td>\n",
       "      <td>4</td>\n",
       "      <td>4</td>\n",
       "      <td>987987987</td>\n",
       "      <td>Ahmad V. Jabbar</td>\n",
       "      <td>80402583985</td>\n",
       "      <td>939531984113</td>\n",
       "      <td>Stafford</td>\n",
       "      <td>30</td>\n",
       "      <td>Newbenefits</td>\n",
       "      <td>25000.00</td>\n",
       "      <td>M</td>\n",
       "      <td>987654321</td>\n",
       "    </tr>\n",
       "  </tbody>\n",
       "</table>"
      ],
      "text/plain": [
       "<IPython.core.display.HTML object>"
      ]
     },
     "metadata": {},
     "output_type": "display_data"
    },
    {
     "name": "stdout",
     "output_type": "stream",
     "text": [
      "\n"
     ]
    }
   ],
   "source": [
    "import mysql.connector\n",
    "import re\n",
    "from pathlib import Path\n",
    "import pandas as pd\n",
    "from IPython.display import HTML\n",
    "\n",
    "DEST = Path(\"output/\")\n",
    "\n",
    "connection = mysql.connector.connect(\n",
    "    host=host,\n",
    "    user=username,\n",
    "    password=password,\n",
    "    database=database\n",
    ")\n",
    "\n",
    "\n",
    "\n",
    "def execute_query(cursor, query):\n",
    "    cursor.execute(query)\n",
    "    results = cursor.fetchall()\n",
    "    token_values = [row[-1] for row in results]  # last column is the token\n",
    "    return token_values[0]\n",
    "\n",
    "\n",
    "def process_queries(queries, formulas):\n",
    "    results = []\n",
    "    tokens = []\n",
    "    with connection.cursor() as cursor:\n",
    "        for (category, query) in queries:\n",
    "            if not query:\n",
    "                results.append([category, query, 0, 0])\n",
    "                continue\n",
    "            results.append([category, query])\n",
    "            for (i, formula) in enumerate(formulas):\n",
    "                query_with_token = query.replace(\"  \", f\", {formula} \")\n",
    "                try:\n",
    "                    token = execute_query(cursor, query_with_token)\n",
    "                except mysql.connector.Error as err:\n",
    "                    results[-1].append(\"\")\n",
    "                    continue\n",
    "                if token not in tokens:\n",
    "                    if len(tokens) % 2 != i:\n",
    "                        tokens.append(None)\n",
    "                    tokens.append(token)\n",
    "                index = tokens.index(token) + 1\n",
    "                results[-1].append(index)\n",
    "\n",
    "    convert = {}\n",
    "    i = 1\n",
    "    for result in results:\n",
    "        if not result[1]:\n",
    "            continue\n",
    "        t = result[2]\n",
    "        if not t:\n",
    "            continue\n",
    "        if t not in convert:\n",
    "            convert[t] = i\n",
    "            i += 2\n",
    "        result[2] = convert[t]\n",
    "\n",
    "    convert = {}\n",
    "    i = 2\n",
    "    for result in results:\n",
    "        if not result[1]:\n",
    "            continue\n",
    "        t = result[3]\n",
    "        if not t:\n",
    "            continue\n",
    "        if t not in convert:\n",
    "            convert[t] = i\n",
    "            i += 2\n",
    "        result[3] = convert[t]\n",
    "    \n",
    "    return results\n",
    "\n",
    "def deduplicate_column_names(df):\n",
    "    column_count = {}\n",
    "    new_columns = []\n",
    "    for col in df.columns:\n",
    "        if col in column_count:\n",
    "            column_count[col] += 1\n",
    "            new_name = f\"{col}_{column_count[col]}\"\n",
    "        else:\n",
    "            column_count[col] = 0\n",
    "            new_name = col\n",
    "        new_columns.append(new_name)\n",
    "    df.columns = new_columns\n",
    "    \n",
    "def check_results(results):\n",
    "    tables = {}\n",
    "    with connection.cursor() as cursor:\n",
    "        for (category, query, t1, t2) in results:\n",
    "            if not query:\n",
    "                continue\n",
    "            for i in range(2):\n",
    "                token = t1 if i == 0 else t2\n",
    "                if not token:\n",
    "                    continue\n",
    "                stars = \"A.*\" if i == 0 else \"A.*, B.*\"\n",
    "                query_with_stars = re.sub(r\"SELECT .+ FROM\", f\"SELECT {stars} FROM\", query, count=1)\n",
    "                try:\n",
    "                    cursor.execute(query_with_stars)\n",
    "                except mysql.connector.Error as err:\n",
    "                    continue\n",
    "                columns = [column[0] for column in cursor.description]\n",
    "                data = cursor.fetchall()\n",
    "                table = pd.DataFrame(data, columns=columns)\n",
    "                deduplicate_column_names(table)\n",
    "                table = table.reindex(sorted(table.columns), axis=1)\n",
    "                table = table.sort_values(by=list(table.columns))\n",
    "                if token not in tables:\n",
    "                    tables[token] = table\n",
    "                elif tables[token].to_string() != table.to_string():\n",
    "                    print(f\"Token {token}. Check that these tables are equivalent:\")\n",
    "                    display(HTML(tables[token].to_html(index=False)))\n",
    "                    display(HTML(table.to_html(index=False)))\n",
    "                    print()\n",
    "\n",
    "def write_latex_table(results, formula_kind, threshold):\n",
    "    path = DEST / f\"same_result_queries_{formula_kind}.tex\"\n",
    "    template = r\"\"\"\n",
    "    \\small\\sffamily\n",
    "    \\begin{tabular}{l|cc|l}\n",
    "    id. & $t_1$ & $t_2$ & raw query (before the injection of Formula~\\ref{eqn:formulas:%s}) \\\\\n",
    "    \\hline\n",
    "    %s\n",
    "    \\end{tabular}\n",
    "    \"\"\"\n",
    "    options = r\"basicstyle=\\scriptsize\\ttfamily,keepspaces=true\"\n",
    "    rows = []\n",
    "    previous_category = None\n",
    "    correct_tokens = set()\n",
    "    for (category, query, t1, t2) in results:\n",
    "        if not query:\n",
    "            rows.append(category)\n",
    "            continue\n",
    "        if category != previous_category:\n",
    "            i = 1\n",
    "            previous_category = category\n",
    "        else:\n",
    "            i += 1\n",
    "        if category == \"G\":\n",
    "            color_1 = \"black\"\n",
    "            if t1: correct_tokens.add(t1)\n",
    "            color_2 = \"black\"\n",
    "            if t2: correct_tokens.add(t2)\n",
    "        elif category == \"O\":\n",
    "            color_1 = \"black\" if t1 not in correct_tokens else \"ACMOrange\"\n",
    "            color_2 = \"black\" if t2 not in correct_tokens else \"ACMOrange\"\n",
    "        else:\n",
    "            color_1 = \"black\" if t1 not in correct_tokens else \"ACMRed\"\n",
    "            color_2 = \"black\" if t2 not in correct_tokens else \"ACMRed\"\n",
    "        t1 = r\"\\textcolor{%s}{%s}\" % (color_1, t1) if color_1 != \"black\" else t1\n",
    "        t2 = r\"\\textcolor{%s}{%s}\" % (color_2, t2) if color_2 != \"black\" else t2\n",
    "        query = query.replace(\"  \", \" \")\n",
    "        if len(query) > 100:\n",
    "            query = query.replace(\"hours = 5 AND prj_id = '30'\", r\"etc.\")\n",
    "            query = query.replace(\"'333445555', '987654321'\", r\"etc.\")\n",
    "        rows.append(fr\"${category}_{{{i}}}$ & {t1} & {t2} & \\lstinline[{options}]|{query}| \\\\\")\n",
    "    path.write_text(template % (formula_kind, \"\\n\".join(rows)))\n",
    "\n",
    "    \n",
    "queries = [\n",
    "    (\"G\", \"SELECT emp_name  FROM employee A WHERE emp_id IN (SELECT emp_id FROM works_on WHERE hours = 5 AND prj_id = '30')\"),\n",
    "    (r\"\\cline{1-3}\", \"\"),\n",
    "    (\"G\", \"SELECT A.emp_name  FROM employee A JOIN works_on B USING (emp_id) WHERE hours = 5 AND prj_id = '30'\"),\n",
    "    (\"G\", \"SELECT B.emp_name  FROM employee B JOIN works_on A USING (emp_id) WHERE hours = 5 AND prj_id = '30'\"),\n",
    "    (r\"\\cline{1-3}\", \"\"),\n",
    "    (\"G\", \"SELECT A.emp_name  FROM employee A, works_on B WHERE A.emp_id = B.emp_id AND hours = 5 AND prj_id = '30'\"),\n",
    "    (\"G\", \"SELECT B.emp_name  FROM employee B, works_on A WHERE A.emp_id = B.emp_id AND hours = 5 AND prj_id = '30'\"),\n",
    "    (r\"\\hline\", \"\"),\n",
    "    (\"O\", \"SELECT A.emp_name  FROM employee A RIGHT JOIN works_on B USING (emp_id) WHERE hours = 5 AND prj_id = '30'\"),\n",
    "    (\"O\", \"SELECT B.emp_name  FROM employee B RIGHT JOIN works_on A USING (emp_id) WHERE hours = 5 AND prj_id = '30'\"),\n",
    "    (r\"\\cline{1-3}\", \"\"),\n",
    "    (\"O\", \"SELECT A.emp_name  FROM employee A JOIN employee B USING (emp_id) JOIN works_on O USING (emp_id) WHERE hours = 5 AND prj_id = '30'\"),\n",
    "    (\"O\", \"SELECT B.emp_name  FROM employee B JOIN employee O USING (emp_id) JOIN works_on A USING (emp_id) WHERE hours = 5 AND prj_id = '30'\"),\n",
    "    (\"O\", \"SELECT O.emp_name  FROM employee O JOIN employee A USING (emp_id) JOIN works_on B USING (emp_id) WHERE hours = 5 AND prj_id = '30'\"),\n",
    "    (r\"\\cline{1-3}\", \"\"),\n",
    "    (\"O\", \"SELECT A.emp_name  FROM employee A JOIN works_on B USING (emp_id) JOIN project O USING (prj_id) WHERE hours = 5 AND prj_id = '30'\"),\n",
    "    (\"O\", \"SELECT B.emp_name  FROM employee B JOIN works_on O USING (emp_id) JOIN project A USING (prj_id) WHERE hours = 5 AND prj_id = '30'\"),\n",
    "    (\"O\", \"SELECT O.emp_name  FROM employee O JOIN works_on A USING (emp_id) JOIN project B USING (prj_id) WHERE hours = 5 AND prj_id = '30'\"),\n",
    "    (r\"\\hline\", \"\"),\n",
    "    (\"I\", \"SELECT A.emp_name  FROM employee A LEFT JOIN works_on B USING (emp_id) WHERE hours = 5 AND prj_id = '30'\"),\n",
    "    (\"I\", \"SELECT B.emp_name  FROM employee B LEFT JOIN works_on A USING (emp_id) WHERE hours = 5 AND prj_id = '30'\"),\n",
    "    (r\"\\cline{1-3}\", \"\"),\n",
    "    (\"I\", \"SELECT 'Ahmad V. Jabbar'  \"),\n",
    "    (r\"\\cline{1-3}\", \"\"),\n",
    "    (\"I\", \"SELECT emp_name  FROM employee A WHERE emp_name = 'Ahmad V. Jabbar'\"),\n",
    "    (\"I\", \"SELECT emp_name  FROM employee A WHERE emp_id = '987987987'\"),\n",
    "    (r\"\\cline{1-3}\", \"\"),\n",
    "    (\"I\", \"SELECT DISTINCT 'Ahmad V. Jabbar'  FROM employee A\"),\n",
    "    (\"I\", \"SELECT DISTINCT 'Ahmad V. Jabbar'  FROM employee A, works_on B\"),\n",
    "    (r\"\\cline{1-3}\", \"\"),\n",
    "    (\"I\", \"SELECT emp_name  FROM employee A JOIN works_on B USING (emp_id) WHERE hours = 5\"),\n",
    "    (r\"\\cline{1-3}\", \"\"),\n",
    "    (\"I\", \"SELECT A.emp_name  FROM employee A JOIN project B USING (dpt_id) WHERE prj_id = '30' and sex = 'M'\"),\n",
    "    (\"I\", \"SELECT B.emp_name  FROM employee B JOIN project A USING (dpt_id) WHERE prj_id = '30' and sex = 'M'\"),\n",
    "]\n",
    "formulas = [\n",
    "    \"salt_042(sum(nn(A.hash)) OVER ()) AS token\",\n",
    "    \"salt_042(sum(nn(A.hash) + nn(B.hash)) OVER ()) AS token\",\n",
    "]\n",
    "results = process_queries(queries, formulas)\n",
    "check_results(results)\n",
    "write_latex_table(results, \"basic\", 3)"
   ]
  },
  {
   "cell_type": "markdown",
   "id": "d9a94f25",
   "metadata": {},
   "source": [
    "#### 4.4.4. Accuracy theorem"
   ]
  },
  {
   "cell_type": "markdown",
   "id": "d77b83ec",
   "metadata": {},
   "source": [
    "##### Starring a query with a two-dimensional Formula 1.1"
   ]
  },
  {
   "cell_type": "markdown",
   "id": "1f00de13",
   "metadata": {},
   "source": [
    "Original query $Q$ :"
   ]
  },
  {
   "cell_type": "code",
   "execution_count": 16,
   "id": "2bac0d14",
   "metadata": {},
   "outputs": [
    {
     "data": {
      "text/html": [
       "<table>\n",
       "    <thead>\n",
       "        <tr>\n",
       "            <th>emp_id</th>\n",
       "            <th>location</th>\n",
       "            <th>token</th>\n",
       "        </tr>\n",
       "    </thead>\n",
       "    <tbody>\n",
       "        <tr>\n",
       "            <td>123456789</td>\n",
       "            <td>Bellaire</td>\n",
       "            <td>21571691843445</td>\n",
       "        </tr>\n",
       "        <tr>\n",
       "            <td>453453453</td>\n",
       "            <td>Bellaire</td>\n",
       "            <td>21571691843445</td>\n",
       "        </tr>\n",
       "        <tr>\n",
       "            <td>123456789</td>\n",
       "            <td>Sugarland</td>\n",
       "            <td>21571691843445</td>\n",
       "        </tr>\n",
       "        <tr>\n",
       "            <td>333445555</td>\n",
       "            <td>Sugarland</td>\n",
       "            <td>21571691843445</td>\n",
       "        </tr>\n",
       "        <tr>\n",
       "            <td>453453453</td>\n",
       "            <td>Sugarland</td>\n",
       "            <td>21571691843445</td>\n",
       "        </tr>\n",
       "        <tr>\n",
       "            <td>333445555</td>\n",
       "            <td>Houston</td>\n",
       "            <td>21571691843445</td>\n",
       "        </tr>\n",
       "        <tr>\n",
       "            <td>666884444</td>\n",
       "            <td>Houston</td>\n",
       "            <td>21571691843445</td>\n",
       "        </tr>\n",
       "        <tr>\n",
       "            <td>333445555</td>\n",
       "            <td>Stafford</td>\n",
       "            <td>21571691843445</td>\n",
       "        </tr>\n",
       "        <tr>\n",
       "            <td>987987987</td>\n",
       "            <td>Stafford</td>\n",
       "            <td>21571691843445</td>\n",
       "        </tr>\n",
       "        <tr>\n",
       "            <td>999887777</td>\n",
       "            <td>Stafford</td>\n",
       "            <td>21571691843445</td>\n",
       "        </tr>\n",
       "        <tr>\n",
       "            <td>888665555</td>\n",
       "            <td>Houston</td>\n",
       "            <td>21571691843445</td>\n",
       "        </tr>\n",
       "        <tr>\n",
       "            <td>987654321</td>\n",
       "            <td>Houston</td>\n",
       "            <td>21571691843445</td>\n",
       "        </tr>\n",
       "        <tr>\n",
       "            <td>987654321</td>\n",
       "            <td>Stafford</td>\n",
       "            <td>21571691843445</td>\n",
       "        </tr>\n",
       "    </tbody>\n",
       "</table>"
      ],
      "text/plain": [
       "+-----------+-----------+----------------+\n",
       "|   emp_id  |  location |     token      |\n",
       "+-----------+-----------+----------------+\n",
       "| 123456789 |  Bellaire | 21571691843445 |\n",
       "| 453453453 |  Bellaire | 21571691843445 |\n",
       "| 123456789 | Sugarland | 21571691843445 |\n",
       "| 333445555 | Sugarland | 21571691843445 |\n",
       "| 453453453 | Sugarland | 21571691843445 |\n",
       "| 333445555 |  Houston  | 21571691843445 |\n",
       "| 666884444 |  Houston  | 21571691843445 |\n",
       "| 333445555 |  Stafford | 21571691843445 |\n",
       "| 987987987 |  Stafford | 21571691843445 |\n",
       "| 999887777 |  Stafford | 21571691843445 |\n",
       "| 888665555 |  Houston  | 21571691843445 |\n",
       "| 987654321 |  Houston  | 21571691843445 |\n",
       "| 987654321 |  Stafford | 21571691843445 |\n",
       "+-----------+-----------+----------------+"
      ]
     },
     "execution_count": 16,
     "metadata": {},
     "output_type": "execute_result"
    }
   ],
   "source": [
    "%%sql\n",
    "SELECT DISTINCT emp_id\n",
    "              , location\n",
    "              , sum(nn(A.hash + B.hash)) OVER () as token\n",
    "FROM works_on A\n",
    "JOIN project B USING (prj_id)"
   ]
  },
  {
   "cell_type": "markdown",
   "id": "dfe44d2d",
   "metadata": {},
   "source": [
    "Starred query $Q^\\mathtt{*}$ :"
   ]
  },
  {
   "cell_type": "code",
   "execution_count": 17,
   "id": "7ef1611c",
   "metadata": {
    "scrolled": false
   },
   "outputs": [
    {
     "data": {
      "text/html": [
       "<table>\n",
       "    <thead>\n",
       "        <tr>\n",
       "            <th>emp_id</th>\n",
       "            <th>prj_id</th>\n",
       "            <th>hours</th>\n",
       "            <th>hash</th>\n",
       "            <th>prj_name</th>\n",
       "            <th>prj_id_1</th>\n",
       "            <th>location</th>\n",
       "            <th>dpt_id</th>\n",
       "            <th>hash_1</th>\n",
       "            <th>token</th>\n",
       "        </tr>\n",
       "    </thead>\n",
       "    <tbody>\n",
       "        <tr>\n",
       "            <td>123456789</td>\n",
       "            <td>1</td>\n",
       "            <td>32.5</td>\n",
       "            <td>279184522613</td>\n",
       "            <td>ProductX</td>\n",
       "            <td>1</td>\n",
       "            <td>Bellaire</td>\n",
       "            <td>5</td>\n",
       "            <td>73594669288</td>\n",
       "            <td>21571691843445</td>\n",
       "        </tr>\n",
       "        <tr>\n",
       "            <td>453453453</td>\n",
       "            <td>1</td>\n",
       "            <td>20.0</td>\n",
       "            <td>517992304620</td>\n",
       "            <td>ProductX</td>\n",
       "            <td>1</td>\n",
       "            <td>Bellaire</td>\n",
       "            <td>5</td>\n",
       "            <td>73594669288</td>\n",
       "            <td>21571691843445</td>\n",
       "        </tr>\n",
       "        <tr>\n",
       "            <td>123456789</td>\n",
       "            <td>2</td>\n",
       "            <td>7.5</td>\n",
       "            <td>1028708674921</td>\n",
       "            <td>ProductY</td>\n",
       "            <td>2</td>\n",
       "            <td>Sugarland</td>\n",
       "            <td>5</td>\n",
       "            <td>1051033373453</td>\n",
       "            <td>21571691843445</td>\n",
       "        </tr>\n",
       "        <tr>\n",
       "            <td>333445555</td>\n",
       "            <td>2</td>\n",
       "            <td>10.0</td>\n",
       "            <td>282407759508</td>\n",
       "            <td>ProductY</td>\n",
       "            <td>2</td>\n",
       "            <td>Sugarland</td>\n",
       "            <td>5</td>\n",
       "            <td>1051033373453</td>\n",
       "            <td>21571691843445</td>\n",
       "        </tr>\n",
       "        <tr>\n",
       "            <td>453453453</td>\n",
       "            <td>2</td>\n",
       "            <td>20.0</td>\n",
       "            <td>185761992105</td>\n",
       "            <td>ProductY</td>\n",
       "            <td>2</td>\n",
       "            <td>Sugarland</td>\n",
       "            <td>5</td>\n",
       "            <td>1051033373453</td>\n",
       "            <td>21571691843445</td>\n",
       "        </tr>\n",
       "        <tr>\n",
       "            <td>333445555</td>\n",
       "            <td>3</td>\n",
       "            <td>10.0</td>\n",
       "            <td>157334609274</td>\n",
       "            <td>ProductZ</td>\n",
       "            <td>3</td>\n",
       "            <td>Houston</td>\n",
       "            <td>5</td>\n",
       "            <td>895194892081</td>\n",
       "            <td>21571691843445</td>\n",
       "        </tr>\n",
       "        <tr>\n",
       "            <td>666884444</td>\n",
       "            <td>3</td>\n",
       "            <td>40.0</td>\n",
       "            <td>1022341745501</td>\n",
       "            <td>ProductZ</td>\n",
       "            <td>3</td>\n",
       "            <td>Houston</td>\n",
       "            <td>5</td>\n",
       "            <td>895194892081</td>\n",
       "            <td>21571691843445</td>\n",
       "        </tr>\n",
       "        <tr>\n",
       "            <td>333445555</td>\n",
       "            <td>10</td>\n",
       "            <td>10.0</td>\n",
       "            <td>420714306193</td>\n",
       "            <td>Computerization</td>\n",
       "            <td>10</td>\n",
       "            <td>Stafford</td>\n",
       "            <td>4</td>\n",
       "            <td>346439367427</td>\n",
       "            <td>21571691843445</td>\n",
       "        </tr>\n",
       "        <tr>\n",
       "            <td>987987987</td>\n",
       "            <td>10</td>\n",
       "            <td>35.0</td>\n",
       "            <td>970801606014</td>\n",
       "            <td>Computerization</td>\n",
       "            <td>10</td>\n",
       "            <td>Stafford</td>\n",
       "            <td>4</td>\n",
       "            <td>346439367427</td>\n",
       "            <td>21571691843445</td>\n",
       "        </tr>\n",
       "        <tr>\n",
       "            <td>999887777</td>\n",
       "            <td>10</td>\n",
       "            <td>10.0</td>\n",
       "            <td>801836667757</td>\n",
       "            <td>Computerization</td>\n",
       "            <td>10</td>\n",
       "            <td>Stafford</td>\n",
       "            <td>4</td>\n",
       "            <td>346439367427</td>\n",
       "            <td>21571691843445</td>\n",
       "        </tr>\n",
       "        <tr>\n",
       "            <td>333445555</td>\n",
       "            <td>20</td>\n",
       "            <td>10.0</td>\n",
       "            <td>455365746546</td>\n",
       "            <td>Reorganization</td>\n",
       "            <td>20</td>\n",
       "            <td>Houston</td>\n",
       "            <td>1</td>\n",
       "            <td>965900717480</td>\n",
       "            <td>21571691843445</td>\n",
       "        </tr>\n",
       "        <tr>\n",
       "            <td>888665555</td>\n",
       "            <td>20</td>\n",
       "            <td>16.0</td>\n",
       "            <td>938337434560</td>\n",
       "            <td>Reorganization</td>\n",
       "            <td>20</td>\n",
       "            <td>Houston</td>\n",
       "            <td>1</td>\n",
       "            <td>965900717480</td>\n",
       "            <td>21571691843445</td>\n",
       "        </tr>\n",
       "        <tr>\n",
       "            <td>987654321</td>\n",
       "            <td>20</td>\n",
       "            <td>15.0</td>\n",
       "            <td>1054884720384</td>\n",
       "            <td>Reorganization</td>\n",
       "            <td>20</td>\n",
       "            <td>Houston</td>\n",
       "            <td>1</td>\n",
       "            <td>965900717480</td>\n",
       "            <td>21571691843445</td>\n",
       "        </tr>\n",
       "        <tr>\n",
       "            <td>987654321</td>\n",
       "            <td>30</td>\n",
       "            <td>20.0</td>\n",
       "            <td>721607542957</td>\n",
       "            <td>Newbenefits</td>\n",
       "            <td>30</td>\n",
       "            <td>Stafford</td>\n",
       "            <td>4</td>\n",
       "            <td>939531984113</td>\n",
       "            <td>21571691843445</td>\n",
       "        </tr>\n",
       "        <tr>\n",
       "            <td>987987987</td>\n",
       "            <td>30</td>\n",
       "            <td>5.0</td>\n",
       "            <td>684653974311</td>\n",
       "            <td>Newbenefits</td>\n",
       "            <td>30</td>\n",
       "            <td>Stafford</td>\n",
       "            <td>4</td>\n",
       "            <td>939531984113</td>\n",
       "            <td>21571691843445</td>\n",
       "        </tr>\n",
       "        <tr>\n",
       "            <td>999887777</td>\n",
       "            <td>30</td>\n",
       "            <td>30.0</td>\n",
       "            <td>203462786024</td>\n",
       "            <td>Newbenefits</td>\n",
       "            <td>30</td>\n",
       "            <td>Stafford</td>\n",
       "            <td>4</td>\n",
       "            <td>939531984113</td>\n",
       "            <td>21571691843445</td>\n",
       "        </tr>\n",
       "    </tbody>\n",
       "</table>"
      ],
      "text/plain": [
       "+-----------+--------+-------+---------------+-----------------+----------+-----------+--------+---------------+----------------+\n",
       "|   emp_id  | prj_id | hours |      hash     |     prj_name    | prj_id_1 |  location | dpt_id |     hash_1    |     token      |\n",
       "+-----------+--------+-------+---------------+-----------------+----------+-----------+--------+---------------+----------------+\n",
       "| 123456789 |   1    |  32.5 |  279184522613 |     ProductX    |    1     |  Bellaire |   5    |  73594669288  | 21571691843445 |\n",
       "| 453453453 |   1    |  20.0 |  517992304620 |     ProductX    |    1     |  Bellaire |   5    |  73594669288  | 21571691843445 |\n",
       "| 123456789 |   2    |  7.5  | 1028708674921 |     ProductY    |    2     | Sugarland |   5    | 1051033373453 | 21571691843445 |\n",
       "| 333445555 |   2    |  10.0 |  282407759508 |     ProductY    |    2     | Sugarland |   5    | 1051033373453 | 21571691843445 |\n",
       "| 453453453 |   2    |  20.0 |  185761992105 |     ProductY    |    2     | Sugarland |   5    | 1051033373453 | 21571691843445 |\n",
       "| 333445555 |   3    |  10.0 |  157334609274 |     ProductZ    |    3     |  Houston  |   5    |  895194892081 | 21571691843445 |\n",
       "| 666884444 |   3    |  40.0 | 1022341745501 |     ProductZ    |    3     |  Houston  |   5    |  895194892081 | 21571691843445 |\n",
       "| 333445555 |   10   |  10.0 |  420714306193 | Computerization |    10    |  Stafford |   4    |  346439367427 | 21571691843445 |\n",
       "| 987987987 |   10   |  35.0 |  970801606014 | Computerization |    10    |  Stafford |   4    |  346439367427 | 21571691843445 |\n",
       "| 999887777 |   10   |  10.0 |  801836667757 | Computerization |    10    |  Stafford |   4    |  346439367427 | 21571691843445 |\n",
       "| 333445555 |   20   |  10.0 |  455365746546 |  Reorganization |    20    |  Houston  |   1    |  965900717480 | 21571691843445 |\n",
       "| 888665555 |   20   |  16.0 |  938337434560 |  Reorganization |    20    |  Houston  |   1    |  965900717480 | 21571691843445 |\n",
       "| 987654321 |   20   |  15.0 | 1054884720384 |  Reorganization |    20    |  Houston  |   1    |  965900717480 | 21571691843445 |\n",
       "| 987654321 |   30   |  20.0 |  721607542957 |   Newbenefits   |    30    |  Stafford |   4    |  939531984113 | 21571691843445 |\n",
       "| 987987987 |   30   |  5.0  |  684653974311 |   Newbenefits   |    30    |  Stafford |   4    |  939531984113 | 21571691843445 |\n",
       "| 999887777 |   30   |  30.0 |  203462786024 |   Newbenefits   |    30    |  Stafford |   4    |  939531984113 | 21571691843445 |\n",
       "+-----------+--------+-------+---------------+-----------------+----------+-----------+--------+---------------+----------------+"
      ]
     },
     "execution_count": 17,
     "metadata": {},
     "output_type": "execute_result"
    }
   ],
   "source": [
    "%%sql\n",
    "SELECT A.*\n",
    "     , B.*\n",
    "     , sum(nn(A.hash + B.hash)) OVER () as token\n",
    "FROM works_on A\n",
    "JOIN project B USING (prj_id)"
   ]
  },
  {
   "cell_type": "code",
   "execution_count": 18,
   "id": "f2d51303",
   "metadata": {},
   "outputs": [
    {
     "data": {
      "text/html": [
       "<table>\n",
       "    <thead>\n",
       "        <tr>\n",
       "            <th>prj_names</th>\n",
       "            <th>prj_ids</th>\n",
       "            <th>locations</th>\n",
       "            <th>dpt_ids</th>\n",
       "            <th>hashes</th>\n",
       "            <th>token</th>\n",
       "        </tr>\n",
       "    </thead>\n",
       "    <tbody>\n",
       "        <tr>\n",
       "            <td>[\"ProductX\"]</td>\n",
       "            <td>[1]</td>\n",
       "            <td>[\"Bellaire\"]</td>\n",
       "            <td>[5]</td>\n",
       "            <td>[73594669288]</td>\n",
       "            <td>548359225544</td>\n",
       "        </tr>\n",
       "        <tr>\n",
       "            <td>[\"ProductZ\", \"Reorganization\"]</td>\n",
       "            <td>[3, 20]</td>\n",
       "            <td>[\"Houston\", \"Houston\"]</td>\n",
       "            <td>[5, 1]</td>\n",
       "            <td>[895194892081, 965900717480]</td>\n",
       "            <td>548359225544</td>\n",
       "        </tr>\n",
       "        <tr>\n",
       "            <td>[\"Computerization\", \"Newbenefits\"]</td>\n",
       "            <td>[10, 30]</td>\n",
       "            <td>[\"Stafford\", \"Stafford\"]</td>\n",
       "            <td>[4, 4]</td>\n",
       "            <td>[346439367427, 939531984113]</td>\n",
       "            <td>548359225544</td>\n",
       "        </tr>\n",
       "        <tr>\n",
       "            <td>[\"ProductY\"]</td>\n",
       "            <td>[2]</td>\n",
       "            <td>[\"Sugarland\"]</td>\n",
       "            <td>[5]</td>\n",
       "            <td>[1051033373453]</td>\n",
       "            <td>548359225544</td>\n",
       "        </tr>\n",
       "    </tbody>\n",
       "</table>"
      ],
      "text/plain": [
       "+------------------------------------+----------+--------------------------+---------+------------------------------+--------------+\n",
       "|             prj_names              | prj_ids  |        locations         | dpt_ids |            hashes            |    token     |\n",
       "+------------------------------------+----------+--------------------------+---------+------------------------------+--------------+\n",
       "|            [\"ProductX\"]            |   [1]    |       [\"Bellaire\"]       |   [5]   |        [73594669288]         | 548359225544 |\n",
       "|   [\"ProductZ\", \"Reorganization\"]   | [3, 20]  |  [\"Houston\", \"Houston\"]  |  [5, 1] | [895194892081, 965900717480] | 548359225544 |\n",
       "| [\"Computerization\", \"Newbenefits\"] | [10, 30] | [\"Stafford\", \"Stafford\"] |  [4, 4] | [346439367427, 939531984113] | 548359225544 |\n",
       "|            [\"ProductY\"]            |   [2]    |      [\"Sugarland\"]       |   [5]   |       [1051033373453]        | 548359225544 |\n",
       "+------------------------------------+----------+--------------------------+---------+------------------------------+--------------+"
      ]
     },
     "execution_count": 18,
     "metadata": {},
     "output_type": "execute_result"
    }
   ],
   "source": [
    "%%sql\n",
    "SELECT json_arrayagg(A.prj_name) AS prj_names\n",
    "     , json_arrayagg(A.prj_id) AS prj_ids\n",
    "     , json_arrayagg(A.location) AS locations\n",
    "     , json_arrayagg(A.dpt_id ) AS dpt_ids\n",
    "     , json_arrayagg(A.hash) AS hashes\n",
    "     , bit_xor(sum(nn(hash))) OVER () as token\n",
    "from project A\n",
    "group by location"
   ]
  },
  {
   "cell_type": "markdown",
   "id": "cf010184",
   "metadata": {},
   "source": [
    "##### Starring a query with a one-dimensional Formula 1.2"
   ]
  },
  {
   "cell_type": "markdown",
   "id": "f6255b6d",
   "metadata": {},
   "source": [
    "Original query $Q$ :"
   ]
  },
  {
   "cell_type": "code",
   "execution_count": 19,
   "id": "e9168126",
   "metadata": {},
   "outputs": [
    {
     "data": {
      "text/html": [
       "<table>\n",
       "    <thead>\n",
       "        <tr>\n",
       "            <th>location</th>\n",
       "            <th>projects</th>\n",
       "            <th>token</th>\n",
       "        </tr>\n",
       "    </thead>\n",
       "    <tbody>\n",
       "        <tr>\n",
       "            <td>Bellaire</td>\n",
       "            <td>1</td>\n",
       "            <td>548359225544</td>\n",
       "        </tr>\n",
       "        <tr>\n",
       "            <td>Sugarland</td>\n",
       "            <td>1</td>\n",
       "            <td>548359225544</td>\n",
       "        </tr>\n",
       "        <tr>\n",
       "            <td>Houston</td>\n",
       "            <td>2</td>\n",
       "            <td>548359225544</td>\n",
       "        </tr>\n",
       "        <tr>\n",
       "            <td>Stafford</td>\n",
       "            <td>2</td>\n",
       "            <td>548359225544</td>\n",
       "        </tr>\n",
       "    </tbody>\n",
       "</table>"
      ],
      "text/plain": [
       "+-----------+----------+--------------+\n",
       "|  location | projects |    token     |\n",
       "+-----------+----------+--------------+\n",
       "|  Bellaire |    1     | 548359225544 |\n",
       "| Sugarland |    1     | 548359225544 |\n",
       "|  Houston  |    2     | 548359225544 |\n",
       "|  Stafford |    2     | 548359225544 |\n",
       "+-----------+----------+--------------+"
      ]
     },
     "execution_count": 19,
     "metadata": {},
     "output_type": "execute_result"
    }
   ],
   "source": [
    "%%sql\n",
    "SELECT location\n",
    "     , count(*) AS projects\n",
    "     , bit_xor(sum(nn(hash))) OVER () as token\n",
    "FROM project\n",
    "GROUP BY location"
   ]
  },
  {
   "cell_type": "markdown",
   "id": "aa262d04",
   "metadata": {},
   "source": [
    "Starred query $Q^\\mathtt{*}$ :"
   ]
  },
  {
   "cell_type": "code",
   "execution_count": 20,
   "id": "66fb02a7",
   "metadata": {},
   "outputs": [
    {
     "data": {
      "text/html": [
       "<table>\n",
       "    <thead>\n",
       "        <tr>\n",
       "            <th>prj_names</th>\n",
       "            <th>prj_ids</th>\n",
       "            <th>locations</th>\n",
       "            <th>dpt_ids</th>\n",
       "            <th>hashes</th>\n",
       "            <th>token</th>\n",
       "        </tr>\n",
       "    </thead>\n",
       "    <tbody>\n",
       "        <tr>\n",
       "            <td>[\"ProductX\"]</td>\n",
       "            <td>[1]</td>\n",
       "            <td>[\"Bellaire\"]</td>\n",
       "            <td>[5]</td>\n",
       "            <td>[73594669288]</td>\n",
       "            <td>548359225544</td>\n",
       "        </tr>\n",
       "        <tr>\n",
       "            <td>[\"ProductZ\", \"Reorganization\"]</td>\n",
       "            <td>[3, 20]</td>\n",
       "            <td>[\"Houston\", \"Houston\"]</td>\n",
       "            <td>[5, 1]</td>\n",
       "            <td>[895194892081, 965900717480]</td>\n",
       "            <td>548359225544</td>\n",
       "        </tr>\n",
       "        <tr>\n",
       "            <td>[\"Computerization\", \"Newbenefits\"]</td>\n",
       "            <td>[10, 30]</td>\n",
       "            <td>[\"Stafford\", \"Stafford\"]</td>\n",
       "            <td>[4, 4]</td>\n",
       "            <td>[346439367427, 939531984113]</td>\n",
       "            <td>548359225544</td>\n",
       "        </tr>\n",
       "        <tr>\n",
       "            <td>[\"ProductY\"]</td>\n",
       "            <td>[2]</td>\n",
       "            <td>[\"Sugarland\"]</td>\n",
       "            <td>[5]</td>\n",
       "            <td>[1051033373453]</td>\n",
       "            <td>548359225544</td>\n",
       "        </tr>\n",
       "    </tbody>\n",
       "</table>"
      ],
      "text/plain": [
       "+------------------------------------+----------+--------------------------+---------+------------------------------+--------------+\n",
       "|             prj_names              | prj_ids  |        locations         | dpt_ids |            hashes            |    token     |\n",
       "+------------------------------------+----------+--------------------------+---------+------------------------------+--------------+\n",
       "|            [\"ProductX\"]            |   [1]    |       [\"Bellaire\"]       |   [5]   |        [73594669288]         | 548359225544 |\n",
       "|   [\"ProductZ\", \"Reorganization\"]   | [3, 20]  |  [\"Houston\", \"Houston\"]  |  [5, 1] | [895194892081, 965900717480] | 548359225544 |\n",
       "| [\"Computerization\", \"Newbenefits\"] | [10, 30] | [\"Stafford\", \"Stafford\"] |  [4, 4] | [346439367427, 939531984113] | 548359225544 |\n",
       "|            [\"ProductY\"]            |   [2]    |      [\"Sugarland\"]       |   [5]   |       [1051033373453]        | 548359225544 |\n",
       "+------------------------------------+----------+--------------------------+---------+------------------------------+--------------+"
      ]
     },
     "execution_count": 20,
     "metadata": {},
     "output_type": "execute_result"
    }
   ],
   "source": [
    "%%sql\n",
    "SELECT json_arrayagg(A.prj_name) AS prj_names\n",
    "     , json_arrayagg(A.prj_id) AS prj_ids\n",
    "     , json_arrayagg(A.location) AS locations\n",
    "     , json_arrayagg(A.dpt_id ) AS dpt_ids\n",
    "     , json_arrayagg(A.hash) AS hashes\n",
    "     , bit_xor(sum(nn(hash))) OVER () as token\n",
    "from project A\n",
    "group by location"
   ]
  },
  {
   "cell_type": "markdown",
   "id": "02772c7a",
   "metadata": {},
   "source": [
    "##### An example of equivalent queries with distinct starred forms"
   ]
  },
  {
   "cell_type": "code",
   "execution_count": 21,
   "id": "d2d1afe7",
   "metadata": {},
   "outputs": [
    {
     "data": {
      "text/html": [
       "<table>\n",
       "    <thead>\n",
       "        <tr>\n",
       "            <th>subordinates</th>\n",
       "            <th>token</th>\n",
       "        </tr>\n",
       "    </thead>\n",
       "    <tbody>\n",
       "        <tr>\n",
       "            <td>7</td>\n",
       "            <td>277625524976375</td>\n",
       "        </tr>\n",
       "    </tbody>\n",
       "</table>"
      ],
      "text/plain": [
       "+--------------+-----------------+\n",
       "| subordinates |      token      |\n",
       "+--------------+-----------------+\n",
       "|      7       | 277625524976375 |\n",
       "+--------------+-----------------+"
      ]
     },
     "execution_count": 21,
     "metadata": {},
     "output_type": "execute_result"
    }
   ],
   "source": [
    "%%sql\n",
    "SELECT count(*) as subordinates\n",
    "     , salt_042(bit_xor(sum(nn(hash))) OVER ()) AS token\n",
    "FROM employee\n",
    "WHERE supervisor_id IS NOT NULL"
   ]
  },
  {
   "cell_type": "code",
   "execution_count": 22,
   "id": "47898629",
   "metadata": {},
   "outputs": [
    {
     "data": {
      "text/html": [
       "<table>\n",
       "    <thead>\n",
       "        <tr>\n",
       "            <th>subordinates</th>\n",
       "            <th>token</th>\n",
       "        </tr>\n",
       "    </thead>\n",
       "    <tbody>\n",
       "        <tr>\n",
       "            <td>7</td>\n",
       "            <td>276085499732552</td>\n",
       "        </tr>\n",
       "    </tbody>\n",
       "</table>"
      ],
      "text/plain": [
       "+--------------+-----------------+\n",
       "| subordinates |      token      |\n",
       "+--------------+-----------------+\n",
       "|      7       | 276085499732552 |\n",
       "+--------------+-----------------+"
      ]
     },
     "execution_count": 22,
     "metadata": {},
     "output_type": "execute_result"
    }
   ],
   "source": [
    "%%sql\n",
    "SELECT count(supervisor_id) as subordinates\n",
    "     , salt_042(bit_xor(sum(nn(hash))) OVER ()) AS token\n",
    "FROM employee"
   ]
  },
  {
   "cell_type": "markdown",
   "id": "93153aa4",
   "metadata": {},
   "source": [
    "Check: the starred queries produce different tables:"
   ]
  },
  {
   "cell_type": "code",
   "execution_count": 23,
   "id": "22979288",
   "metadata": {},
   "outputs": [
    {
     "data": {
      "text/html": [
       "<table>\n",
       "    <thead>\n",
       "        <tr>\n",
       "            <th>supervisors</th>\n",
       "        </tr>\n",
       "    </thead>\n",
       "    <tbody>\n",
       "        <tr>\n",
       "            <td>[\"333445555\", \"333445555\", \"333445555\", \"888665555\", \"888665555\", \"987654321\", \"987654321\"]</td>\n",
       "        </tr>\n",
       "    </tbody>\n",
       "</table>"
      ],
      "text/plain": [
       "+---------------------------------------------------------------------------------------------+\n",
       "|                                         supervisors                                         |\n",
       "+---------------------------------------------------------------------------------------------+\n",
       "| [\"333445555\", \"333445555\", \"333445555\", \"888665555\", \"888665555\", \"987654321\", \"987654321\"] |\n",
       "+---------------------------------------------------------------------------------------------+"
      ]
     },
     "execution_count": 23,
     "metadata": {},
     "output_type": "execute_result"
    }
   ],
   "source": [
    "%%sql\n",
    "SELECT json_arrayagg(supervisor_id) as supervisors\n",
    "FROM employee A\n",
    "WHERE supervisor_id IS NOT NULL"
   ]
  },
  {
   "cell_type": "code",
   "execution_count": 24,
   "id": "b6681595",
   "metadata": {
    "scrolled": true
   },
   "outputs": [
    {
     "data": {
      "text/html": [
       "<table>\n",
       "    <thead>\n",
       "        <tr>\n",
       "            <th>supervisors</th>\n",
       "        </tr>\n",
       "    </thead>\n",
       "    <tbody>\n",
       "        <tr>\n",
       "            <td>[null, \"333445555\", \"333445555\", \"333445555\", \"888665555\", \"888665555\", \"987654321\", \"987654321\"]</td>\n",
       "        </tr>\n",
       "    </tbody>\n",
       "</table>"
      ],
      "text/plain": [
       "+---------------------------------------------------------------------------------------------------+\n",
       "|                                            supervisors                                            |\n",
       "+---------------------------------------------------------------------------------------------------+\n",
       "| [null, \"333445555\", \"333445555\", \"333445555\", \"888665555\", \"888665555\", \"987654321\", \"987654321\"] |\n",
       "+---------------------------------------------------------------------------------------------------+"
      ]
     },
     "execution_count": 24,
     "metadata": {},
     "output_type": "execute_result"
    }
   ],
   "source": [
    "%%sql\n",
    "SELECT json_arrayagg(supervisor_id) as supervisors\n",
    "FROM employee A"
   ]
  },
  {
   "cell_type": "markdown",
   "id": "ab99e18f",
   "metadata": {},
   "source": [
    "##### An example of non-equivalent queries with distinct starred forms"
   ]
  },
  {
   "cell_type": "code",
   "execution_count": 25,
   "id": "d20f1133",
   "metadata": {},
   "outputs": [
    {
     "data": {
      "text/html": [
       "<table>\n",
       "    <thead>\n",
       "        <tr>\n",
       "            <th>emp_id</th>\n",
       "            <th>salary</th>\n",
       "            <th>token</th>\n",
       "        </tr>\n",
       "    </thead>\n",
       "    <tbody>\n",
       "        <tr>\n",
       "            <td>888665555</td>\n",
       "            <td>55000.00</td>\n",
       "            <td>280400549286766</td>\n",
       "        </tr>\n",
       "    </tbody>\n",
       "</table>"
      ],
      "text/plain": [
       "+-----------+----------+-----------------+\n",
       "|   emp_id  |  salary  |      token      |\n",
       "+-----------+----------+-----------------+\n",
       "| 888665555 | 55000.00 | 280400549286766 |\n",
       "+-----------+----------+-----------------+"
      ]
     },
     "execution_count": 25,
     "metadata": {},
     "output_type": "execute_result"
    }
   ],
   "source": [
    "%%sql\n",
    "SELECT emp_id, salary,\n",
    "    salt_042(sum(nn(hash)) OVER ()) AS token\n",
    "FROM employee\n",
    "WHERE salary = (\n",
    "  SELECT max(salary)\n",
    "  FROM employee\n",
    ")"
   ]
  },
  {
   "cell_type": "code",
   "execution_count": 26,
   "id": "54e8198b",
   "metadata": {},
   "outputs": [
    {
     "data": {
      "text/html": [
       "<table>\n",
       "    <thead>\n",
       "        <tr>\n",
       "            <th>emp_id</th>\n",
       "            <th>salary</th>\n",
       "            <th>token</th>\n",
       "        </tr>\n",
       "    </thead>\n",
       "    <tbody>\n",
       "        <tr>\n",
       "            <td>888665555</td>\n",
       "            <td>55000.00</td>\n",
       "            <td>276085499732552</td>\n",
       "        </tr>\n",
       "    </tbody>\n",
       "</table>"
      ],
      "text/plain": [
       "+-----------+----------+-----------------+\n",
       "|   emp_id  |  salary  |      token      |\n",
       "+-----------+----------+-----------------+\n",
       "| 888665555 | 55000.00 | 276085499732552 |\n",
       "+-----------+----------+-----------------+"
      ]
     },
     "execution_count": 26,
     "metadata": {},
     "output_type": "execute_result"
    }
   ],
   "source": [
    "%%sql\n",
    "SELECT emp_id, salary,\n",
    "    salt_042(sum(nn(hash)) OVER ()) AS token\n",
    "FROM employee\n",
    "ORDER BY salary DESC\n",
    "LIMIT 1"
   ]
  },
  {
   "cell_type": "markdown",
   "id": "5ead82ff",
   "metadata": {},
   "source": [
    "Check: the starred queries produce different tables:"
   ]
  },
  {
   "cell_type": "code",
   "execution_count": 27,
   "id": "cbf12ffc",
   "metadata": {
    "scrolled": true
   },
   "outputs": [
    {
     "data": {
      "text/html": [
       "<table>\n",
       "    <thead>\n",
       "        <tr>\n",
       "            <th>emp_name</th>\n",
       "            <th>emp_id</th>\n",
       "            <th>birth</th>\n",
       "            <th>address</th>\n",
       "            <th>sex</th>\n",
       "            <th>salary</th>\n",
       "            <th>supervisor_id</th>\n",
       "            <th>dpt_id</th>\n",
       "            <th>hash</th>\n",
       "        </tr>\n",
       "    </thead>\n",
       "    <tbody>\n",
       "        <tr>\n",
       "            <td>James E. Borg</td>\n",
       "            <td>888665555</td>\n",
       "            <td>1937-11-10</td>\n",
       "            <td>450 Stone, Houston TX</td>\n",
       "            <td>M</td>\n",
       "            <td>55000.00</td>\n",
       "            <td>None</td>\n",
       "            <td>1</td>\n",
       "            <td>680499103611</td>\n",
       "        </tr>\n",
       "    </tbody>\n",
       "</table>"
      ],
      "text/plain": [
       "+---------------+-----------+------------+-----------------------+-----+----------+---------------+--------+--------------+\n",
       "|    emp_name   |   emp_id  |   birth    |        address        | sex |  salary  | supervisor_id | dpt_id |     hash     |\n",
       "+---------------+-----------+------------+-----------------------+-----+----------+---------------+--------+--------------+\n",
       "| James E. Borg | 888665555 | 1937-11-10 | 450 Stone, Houston TX |  M  | 55000.00 |      None     |   1    | 680499103611 |\n",
       "+---------------+-----------+------------+-----------------------+-----+----------+---------------+--------+--------------+"
      ]
     },
     "execution_count": 27,
     "metadata": {},
     "output_type": "execute_result"
    }
   ],
   "source": [
    "%%sql\n",
    "SELECT *\n",
    "FROM employee\n",
    "WHERE salary = (\n",
    "  SELECT max(salary)\n",
    "  FROM employee\n",
    ")"
   ]
  },
  {
   "cell_type": "code",
   "execution_count": 28,
   "id": "76b6af24",
   "metadata": {},
   "outputs": [
    {
     "data": {
      "text/html": [
       "<table>\n",
       "    <thead>\n",
       "        <tr>\n",
       "            <th>emp_name</th>\n",
       "            <th>emp_id</th>\n",
       "            <th>birth</th>\n",
       "            <th>address</th>\n",
       "            <th>sex</th>\n",
       "            <th>salary</th>\n",
       "            <th>supervisor_id</th>\n",
       "            <th>dpt_id</th>\n",
       "            <th>hash</th>\n",
       "        </tr>\n",
       "    </thead>\n",
       "    <tbody>\n",
       "        <tr>\n",
       "            <td>John B. Smith</td>\n",
       "            <td>123456789</td>\n",
       "            <td>1965-01-09</td>\n",
       "            <td>731 Fondren, Houston TX</td>\n",
       "            <td>M</td>\n",
       "            <td>30000.00</td>\n",
       "            <td>333445555</td>\n",
       "            <td>5</td>\n",
       "            <td>349954097366</td>\n",
       "        </tr>\n",
       "        <tr>\n",
       "            <td>Franklin T. Wong</td>\n",
       "            <td>333445555</td>\n",
       "            <td>1965-12-08</td>\n",
       "            <td>638 Voss, Houston TX</td>\n",
       "            <td>M</td>\n",
       "            <td>40000.00</td>\n",
       "            <td>888665555</td>\n",
       "            <td>5</td>\n",
       "            <td>875741831397</td>\n",
       "        </tr>\n",
       "        <tr>\n",
       "            <td>Joyce A. English</td>\n",
       "            <td>453453453</td>\n",
       "            <td>1972-07-31</td>\n",
       "            <td>5631 Rice, Houston TX</td>\n",
       "            <td>F</td>\n",
       "            <td>25000.00</td>\n",
       "            <td>333445555</td>\n",
       "            <td>5</td>\n",
       "            <td>769098430263</td>\n",
       "        </tr>\n",
       "        <tr>\n",
       "            <td>Ramesh K. Narayan</td>\n",
       "            <td>666884444</td>\n",
       "            <td>1962-09-15</td>\n",
       "            <td>975 Fire Oak, Humble TX</td>\n",
       "            <td>M</td>\n",
       "            <td>38000.00</td>\n",
       "            <td>333445555</td>\n",
       "            <td>5</td>\n",
       "            <td>840358962531</td>\n",
       "        </tr>\n",
       "        <tr>\n",
       "            <td>James E. Borg</td>\n",
       "            <td>888665555</td>\n",
       "            <td>1937-11-10</td>\n",
       "            <td>450 Stone, Houston TX</td>\n",
       "            <td>M</td>\n",
       "            <td>55000.00</td>\n",
       "            <td>None</td>\n",
       "            <td>1</td>\n",
       "            <td>680499103611</td>\n",
       "        </tr>\n",
       "        <tr>\n",
       "            <td>Jennifer S. Wallace</td>\n",
       "            <td>987654321</td>\n",
       "            <td>1941-06-20</td>\n",
       "            <td>291 Berry, Bellaire TX</td>\n",
       "            <td>F</td>\n",
       "            <td>43000.00</td>\n",
       "            <td>888665555</td>\n",
       "            <td>4</td>\n",
       "            <td>1082708607811</td>\n",
       "        </tr>\n",
       "        <tr>\n",
       "            <td>Ahmad V. Jabbar</td>\n",
       "            <td>987987987</td>\n",
       "            <td>1969-03-29</td>\n",
       "            <td>980 Dallas, Houston TX</td>\n",
       "            <td>M</td>\n",
       "            <td>25000.00</td>\n",
       "            <td>987654321</td>\n",
       "            <td>4</td>\n",
       "            <td>80402583985</td>\n",
       "        </tr>\n",
       "        <tr>\n",
       "            <td>Alicia J. Zelaya</td>\n",
       "            <td>999887777</td>\n",
       "            <td>1968-01-19</td>\n",
       "            <td>3321 Castle, Spring TX</td>\n",
       "            <td>F</td>\n",
       "            <td>25000.00</td>\n",
       "            <td>987654321</td>\n",
       "            <td>4</td>\n",
       "            <td>280009530265</td>\n",
       "        </tr>\n",
       "    </tbody>\n",
       "</table>"
      ],
      "text/plain": [
       "+---------------------+-----------+------------+-------------------------+-----+----------+---------------+--------+---------------+\n",
       "|       emp_name      |   emp_id  |   birth    |         address         | sex |  salary  | supervisor_id | dpt_id |      hash     |\n",
       "+---------------------+-----------+------------+-------------------------+-----+----------+---------------+--------+---------------+\n",
       "|    John B. Smith    | 123456789 | 1965-01-09 | 731 Fondren, Houston TX |  M  | 30000.00 |   333445555   |   5    |  349954097366 |\n",
       "|   Franklin T. Wong  | 333445555 | 1965-12-08 |   638 Voss, Houston TX  |  M  | 40000.00 |   888665555   |   5    |  875741831397 |\n",
       "|   Joyce A. English  | 453453453 | 1972-07-31 |  5631 Rice, Houston TX  |  F  | 25000.00 |   333445555   |   5    |  769098430263 |\n",
       "|  Ramesh K. Narayan  | 666884444 | 1962-09-15 | 975 Fire Oak, Humble TX |  M  | 38000.00 |   333445555   |   5    |  840358962531 |\n",
       "|    James E. Borg    | 888665555 | 1937-11-10 |  450 Stone, Houston TX  |  M  | 55000.00 |      None     |   1    |  680499103611 |\n",
       "| Jennifer S. Wallace | 987654321 | 1941-06-20 |  291 Berry, Bellaire TX |  F  | 43000.00 |   888665555   |   4    | 1082708607811 |\n",
       "|   Ahmad V. Jabbar   | 987987987 | 1969-03-29 |  980 Dallas, Houston TX |  M  | 25000.00 |   987654321   |   4    |  80402583985  |\n",
       "|   Alicia J. Zelaya  | 999887777 | 1968-01-19 |  3321 Castle, Spring TX |  F  | 25000.00 |   987654321   |   4    |  280009530265 |\n",
       "+---------------------+-----------+------------+-------------------------+-----+----------+---------------+--------+---------------+"
      ]
     },
     "execution_count": 28,
     "metadata": {},
     "output_type": "execute_result"
    }
   ],
   "source": [
    "%%sql\n",
    "SELECT *\n",
    "FROM employee"
   ]
  },
  {
   "cell_type": "markdown",
   "id": "4f65d6d1",
   "metadata": {},
   "source": [
    "#### 4.4.5. Extensions and limitations / Limitations relative to SQL errors"
   ]
  },
  {
   "cell_type": "markdown",
   "id": "7aa627e6",
   "metadata": {},
   "source": [
    "Detection of Brass' and Goldberg's semantic errors."
   ]
  },
  {
   "cell_type": "markdown",
   "id": "a0c055a0",
   "metadata": {},
   "source": [
    "##### Error 1. Inconsistent condition. Empty result: no token.\n",
    "##### Error 2. Unnecessary DISTINCT. Undetectable.\n",
    "##### Error 3. Constant output column. Undetectable.\n",
    "##### Error 4. Duplicate output column. Undetectable.\n",
    "##### Error 5. Unused tuple variable. OK."
   ]
  },
  {
   "cell_type": "code",
   "execution_count": 29,
   "id": "8ec20631",
   "metadata": {},
   "outputs": [
    {
     "data": {
      "text/html": [
       "<table>\n",
       "    <thead>\n",
       "        <tr>\n",
       "            <th>dpt_name</th>\n",
       "            <th>token</th>\n",
       "        </tr>\n",
       "    </thead>\n",
       "    <tbody>\n",
       "        <tr>\n",
       "            <td>Research</td>\n",
       "            <td>259775512077421</td>\n",
       "        </tr>\n",
       "        <tr>\n",
       "            <td>Administration</td>\n",
       "            <td>259775512077421</td>\n",
       "        </tr>\n",
       "        <tr>\n",
       "            <td>Headquarters</td>\n",
       "            <td>259775512077421</td>\n",
       "        </tr>\n",
       "    </tbody>\n",
       "</table>"
      ],
      "text/plain": [
       "+----------------+-----------------+\n",
       "|    dpt_name    |      token      |\n",
       "+----------------+-----------------+\n",
       "|    Research    | 259775512077421 |\n",
       "| Administration | 259775512077421 |\n",
       "|  Headquarters  | 259775512077421 |\n",
       "+----------------+-----------------+"
      ]
     },
     "execution_count": 29,
     "metadata": {},
     "output_type": "execute_result"
    }
   ],
   "source": [
    "%%sql\n",
    "SELECT DISTINCT dpt_name, salt_042(sum(nn(A.hash)) OVER ()) AS token\n",
    "FROM department A, employee B"
   ]
  },
  {
   "cell_type": "code",
   "execution_count": 30,
   "id": "aed6dfab",
   "metadata": {},
   "outputs": [
    {
     "data": {
      "text/html": [
       "<table>\n",
       "    <thead>\n",
       "        <tr>\n",
       "            <th>dpt_name</th>\n",
       "            <th>token</th>\n",
       "        </tr>\n",
       "    </thead>\n",
       "    <tbody>\n",
       "        <tr>\n",
       "            <td>Headquarters</td>\n",
       "            <td>279141288002074</td>\n",
       "        </tr>\n",
       "        <tr>\n",
       "            <td>Administration</td>\n",
       "            <td>279141288002074</td>\n",
       "        </tr>\n",
       "        <tr>\n",
       "            <td>Research</td>\n",
       "            <td>279141288002074</td>\n",
       "        </tr>\n",
       "    </tbody>\n",
       "</table>"
      ],
      "text/plain": [
       "+----------------+-----------------+\n",
       "|    dpt_name    |      token      |\n",
       "+----------------+-----------------+\n",
       "|  Headquarters  | 279141288002074 |\n",
       "| Administration | 279141288002074 |\n",
       "|    Research    | 279141288002074 |\n",
       "+----------------+-----------------+"
      ]
     },
     "execution_count": 30,
     "metadata": {},
     "output_type": "execute_result"
    }
   ],
   "source": [
    "%%sql\n",
    "SELECT dpt_name, salt_042(sum(nn(A.hash)) OVER ()) AS token\n",
    "FROM department A"
   ]
  },
  {
   "cell_type": "markdown",
   "id": "34590401",
   "metadata": {},
   "source": [
    "##### Error 6. Unnecessary join (?). Undetectable."
   ]
  },
  {
   "cell_type": "code",
   "execution_count": 31,
   "id": "9a12943e",
   "metadata": {},
   "outputs": [
    {
     "data": {
      "text/html": [
       "<table>\n",
       "    <thead>\n",
       "        <tr>\n",
       "            <th>emp_id</th>\n",
       "            <th>dpd_name</th>\n",
       "            <th>token</th>\n",
       "        </tr>\n",
       "    </thead>\n",
       "    <tbody>\n",
       "        <tr>\n",
       "            <td>123456789</td>\n",
       "            <td>Alice</td>\n",
       "            <td>277256991938310</td>\n",
       "        </tr>\n",
       "        <tr>\n",
       "            <td>123456789</td>\n",
       "            <td>Elizabeth</td>\n",
       "            <td>277256991938310</td>\n",
       "        </tr>\n",
       "        <tr>\n",
       "            <td>123456789</td>\n",
       "            <td>Michael</td>\n",
       "            <td>277256991938310</td>\n",
       "        </tr>\n",
       "        <tr>\n",
       "            <td>333445555</td>\n",
       "            <td>Alice</td>\n",
       "            <td>277256991938310</td>\n",
       "        </tr>\n",
       "        <tr>\n",
       "            <td>333445555</td>\n",
       "            <td>Joy</td>\n",
       "            <td>277256991938310</td>\n",
       "        </tr>\n",
       "        <tr>\n",
       "            <td>333445555</td>\n",
       "            <td>Theodore</td>\n",
       "            <td>277256991938310</td>\n",
       "        </tr>\n",
       "        <tr>\n",
       "            <td>987654321</td>\n",
       "            <td>Abner</td>\n",
       "            <td>277256991938310</td>\n",
       "        </tr>\n",
       "    </tbody>\n",
       "</table>"
      ],
      "text/plain": [
       "+-----------+-----------+-----------------+\n",
       "|   emp_id  |  dpd_name |      token      |\n",
       "+-----------+-----------+-----------------+\n",
       "| 123456789 |   Alice   | 277256991938310 |\n",
       "| 123456789 | Elizabeth | 277256991938310 |\n",
       "| 123456789 |  Michael  | 277256991938310 |\n",
       "| 333445555 |   Alice   | 277256991938310 |\n",
       "| 333445555 |    Joy    | 277256991938310 |\n",
       "| 333445555 |  Theodore | 277256991938310 |\n",
       "| 987654321 |   Abner   | 277256991938310 |\n",
       "+-----------+-----------+-----------------+"
      ]
     },
     "execution_count": 31,
     "metadata": {},
     "output_type": "execute_result"
    }
   ],
   "source": [
    "%%sql\n",
    "SELECT emp_id, dpd_name, salt_042(sum(nn(A.hash)) OVER ()) AS token\n",
    "FROM dependent A JOIN employee B USING (emp_id)"
   ]
  },
  {
   "cell_type": "code",
   "execution_count": 32,
   "id": "7fce665c",
   "metadata": {},
   "outputs": [
    {
     "data": {
      "text/html": [
       "<table>\n",
       "    <thead>\n",
       "        <tr>\n",
       "            <th>emp_id</th>\n",
       "            <th>dpd_name</th>\n",
       "            <th>token</th>\n",
       "        </tr>\n",
       "    </thead>\n",
       "    <tbody>\n",
       "        <tr>\n",
       "            <td>123456789</td>\n",
       "            <td>Alice</td>\n",
       "            <td>277256991938310</td>\n",
       "        </tr>\n",
       "        <tr>\n",
       "            <td>123456789</td>\n",
       "            <td>Elizabeth</td>\n",
       "            <td>277256991938310</td>\n",
       "        </tr>\n",
       "        <tr>\n",
       "            <td>123456789</td>\n",
       "            <td>Michael</td>\n",
       "            <td>277256991938310</td>\n",
       "        </tr>\n",
       "        <tr>\n",
       "            <td>333445555</td>\n",
       "            <td>Alice</td>\n",
       "            <td>277256991938310</td>\n",
       "        </tr>\n",
       "        <tr>\n",
       "            <td>333445555</td>\n",
       "            <td>Joy</td>\n",
       "            <td>277256991938310</td>\n",
       "        </tr>\n",
       "        <tr>\n",
       "            <td>333445555</td>\n",
       "            <td>Theodore</td>\n",
       "            <td>277256991938310</td>\n",
       "        </tr>\n",
       "        <tr>\n",
       "            <td>987654321</td>\n",
       "            <td>Abner</td>\n",
       "            <td>277256991938310</td>\n",
       "        </tr>\n",
       "    </tbody>\n",
       "</table>"
      ],
      "text/plain": [
       "+-----------+-----------+-----------------+\n",
       "|   emp_id  |  dpd_name |      token      |\n",
       "+-----------+-----------+-----------------+\n",
       "| 123456789 |   Alice   | 277256991938310 |\n",
       "| 123456789 | Elizabeth | 277256991938310 |\n",
       "| 123456789 |  Michael  | 277256991938310 |\n",
       "| 333445555 |   Alice   | 277256991938310 |\n",
       "| 333445555 |    Joy    | 277256991938310 |\n",
       "| 333445555 |  Theodore | 277256991938310 |\n",
       "| 987654321 |   Abner   | 277256991938310 |\n",
       "+-----------+-----------+-----------------+"
      ]
     },
     "execution_count": 32,
     "metadata": {},
     "output_type": "execute_result"
    }
   ],
   "source": [
    "%%sql\n",
    "SELECT emp_id, dpd_name, salt_042(sum(nn(A.hash)) OVER ()) AS token\n",
    "FROM dependent A"
   ]
  },
  {
   "cell_type": "markdown",
   "id": "0c7f238f",
   "metadata": {},
   "source": [
    "##### Error 7. Tuple variables are always identical (?). Undetectable.\n",
    "##### Error 8. Implied, tautological, or inconsistent sub-condition. Undetectable.\n",
    "##### Error 9. Comparison with NULL. Empty result: no token.\n",
    "##### Error 10. NULL value in IN/ANY/ALL subquery. Empty result: no token."
   ]
  },
  {
   "cell_type": "code",
   "execution_count": 33,
   "id": "8ed3e902",
   "metadata": {},
   "outputs": [
    {
     "data": {
      "text/html": [
       "<table>\n",
       "    <thead>\n",
       "        <tr>\n",
       "            <th>emp_id</th>\n",
       "            <th>emp_name</th>\n",
       "        </tr>\n",
       "    </thead>\n",
       "    <tbody>\n",
       "    </tbody>\n",
       "</table>"
      ],
      "text/plain": [
       "+--------+----------+\n",
       "| emp_id | emp_name |\n",
       "+--------+----------+\n",
       "+--------+----------+"
      ]
     },
     "execution_count": 33,
     "metadata": {},
     "output_type": "execute_result"
    }
   ],
   "source": [
    "%%sql\n",
    "-- Employees who don't supervise anyone (incorrect)\n",
    "SELECT emp_id, emp_name\n",
    "FROM employee\n",
    "WHERE emp_id NOT IN (\n",
    "    SELECT supervisor_id\n",
    "    from employee\n",
    ")"
   ]
  },
  {
   "cell_type": "code",
   "execution_count": 34,
   "id": "c4f755f6",
   "metadata": {},
   "outputs": [
    {
     "data": {
      "text/html": [
       "<table>\n",
       "    <thead>\n",
       "        <tr>\n",
       "            <th>emp_id</th>\n",
       "            <th>emp_name</th>\n",
       "        </tr>\n",
       "    </thead>\n",
       "    <tbody>\n",
       "        <tr>\n",
       "            <td>123456789</td>\n",
       "            <td>John B. Smith</td>\n",
       "        </tr>\n",
       "        <tr>\n",
       "            <td>453453453</td>\n",
       "            <td>Joyce A. English</td>\n",
       "        </tr>\n",
       "        <tr>\n",
       "            <td>666884444</td>\n",
       "            <td>Ramesh K. Narayan</td>\n",
       "        </tr>\n",
       "        <tr>\n",
       "            <td>987987987</td>\n",
       "            <td>Ahmad V. Jabbar</td>\n",
       "        </tr>\n",
       "        <tr>\n",
       "            <td>999887777</td>\n",
       "            <td>Alicia J. Zelaya</td>\n",
       "        </tr>\n",
       "    </tbody>\n",
       "</table>"
      ],
      "text/plain": [
       "+-----------+-------------------+\n",
       "|   emp_id  |      emp_name     |\n",
       "+-----------+-------------------+\n",
       "| 123456789 |   John B. Smith   |\n",
       "| 453453453 |  Joyce A. English |\n",
       "| 666884444 | Ramesh K. Narayan |\n",
       "| 987987987 |  Ahmad V. Jabbar  |\n",
       "| 999887777 |  Alicia J. Zelaya |\n",
       "+-----------+-------------------+"
      ]
     },
     "execution_count": 34,
     "metadata": {},
     "output_type": "execute_result"
    }
   ],
   "source": [
    "%%sql\n",
    "-- Employees who don't supervise anyone (incorrect)\n",
    "SELECT emp_id, emp_name\n",
    "FROM employee A\n",
    "WHERE NOT EXISTS (\n",
    "    SELECT *\n",
    "    FROM employee B\n",
    "    WHERE A.emp_id = B.supervisor_id\n",
    ")"
   ]
  },
  {
   "cell_type": "markdown",
   "id": "9314afb3",
   "metadata": {},
   "source": [
    "##### Error 11. Unnecessarily general comparison operator. Undetectable.\n",
    "##### Error 12. LIKE without wildcards (equivalent to equality). Undetectable.\n",
    "##### Error 13. Unnecessarily complicated SELECT in EXISTS-subquery (column names or DISTINCT). Undetectable.\n",
    "##### Error 14. IN/EXISTS condition can be replaced by comparison. Undetectable.\n",
    "##### Error 15. Unnecessary aggregation function. Detectable (different formulas)."
   ]
  },
  {
   "cell_type": "code",
   "execution_count": 35,
   "id": "c9dd6480",
   "metadata": {},
   "outputs": [
    {
     "data": {
      "text/html": [
       "<table>\n",
       "    <thead>\n",
       "        <tr>\n",
       "            <th>max(salary)</th>\n",
       "            <th>token</th>\n",
       "        </tr>\n",
       "    </thead>\n",
       "    <tbody>\n",
       "        <tr>\n",
       "            <td>30000.00</td>\n",
       "            <td>279989063774716</td>\n",
       "        </tr>\n",
       "        <tr>\n",
       "            <td>40000.00</td>\n",
       "            <td>279989063774716</td>\n",
       "        </tr>\n",
       "        <tr>\n",
       "            <td>25000.00</td>\n",
       "            <td>279989063774716</td>\n",
       "        </tr>\n",
       "        <tr>\n",
       "            <td>38000.00</td>\n",
       "            <td>279989063774716</td>\n",
       "        </tr>\n",
       "        <tr>\n",
       "            <td>55000.00</td>\n",
       "            <td>279989063774716</td>\n",
       "        </tr>\n",
       "        <tr>\n",
       "            <td>43000.00</td>\n",
       "            <td>279989063774716</td>\n",
       "        </tr>\n",
       "    </tbody>\n",
       "</table>"
      ],
      "text/plain": [
       "+-------------+-----------------+\n",
       "| max(salary) |      token      |\n",
       "+-------------+-----------------+\n",
       "|   30000.00  | 279989063774716 |\n",
       "|   40000.00  | 279989063774716 |\n",
       "|   25000.00  | 279989063774716 |\n",
       "|   38000.00  | 279989063774716 |\n",
       "|   55000.00  | 279989063774716 |\n",
       "|   43000.00  | 279989063774716 |\n",
       "+-------------+-----------------+"
      ]
     },
     "execution_count": 35,
     "metadata": {},
     "output_type": "execute_result"
    }
   ],
   "source": [
    "%%sql\n",
    "SELECT max(salary), salt_042(bit_xor(sum(nn(A.hash))) OVER ()) AS token\n",
    "FROM employee A\n",
    "GROUP BY salary"
   ]
  },
  {
   "cell_type": "code",
   "execution_count": 36,
   "id": "5172f7f5",
   "metadata": {},
   "outputs": [
    {
     "data": {
      "text/html": [
       "<table>\n",
       "    <thead>\n",
       "        <tr>\n",
       "            <th>salary</th>\n",
       "            <th>token</th>\n",
       "        </tr>\n",
       "    </thead>\n",
       "    <tbody>\n",
       "        <tr>\n",
       "            <td>30000.00</td>\n",
       "            <td>276085499732552</td>\n",
       "        </tr>\n",
       "        <tr>\n",
       "            <td>40000.00</td>\n",
       "            <td>276085499732552</td>\n",
       "        </tr>\n",
       "        <tr>\n",
       "            <td>25000.00</td>\n",
       "            <td>276085499732552</td>\n",
       "        </tr>\n",
       "        <tr>\n",
       "            <td>38000.00</td>\n",
       "            <td>276085499732552</td>\n",
       "        </tr>\n",
       "        <tr>\n",
       "            <td>55000.00</td>\n",
       "            <td>276085499732552</td>\n",
       "        </tr>\n",
       "        <tr>\n",
       "            <td>43000.00</td>\n",
       "            <td>276085499732552</td>\n",
       "        </tr>\n",
       "    </tbody>\n",
       "</table>"
      ],
      "text/plain": [
       "+----------+-----------------+\n",
       "|  salary  |      token      |\n",
       "+----------+-----------------+\n",
       "| 30000.00 | 276085499732552 |\n",
       "| 40000.00 | 276085499732552 |\n",
       "| 25000.00 | 276085499732552 |\n",
       "| 38000.00 | 276085499732552 |\n",
       "| 55000.00 | 276085499732552 |\n",
       "| 43000.00 | 276085499732552 |\n",
       "+----------+-----------------+"
      ]
     },
     "execution_count": 36,
     "metadata": {},
     "output_type": "execute_result"
    }
   ],
   "source": [
    "%%sql\n",
    "SELECT DISTINCT salary, salt_042(sum(nn(A.hash)) OVER ()) AS token\n",
    "FROM employee A"
   ]
  },
  {
   "cell_type": "markdown",
   "id": "51800220",
   "metadata": {},
   "source": [
    "##### Error 16. Unnecessary DISTINCT in aggregation function. Undetectable."
   ]
  },
  {
   "cell_type": "code",
   "execution_count": 37,
   "id": "6c0c38e8",
   "metadata": {},
   "outputs": [
    {
     "data": {
      "text/html": [
       "<table>\n",
       "    <thead>\n",
       "        <tr>\n",
       "            <th>max(DISTINCT salary)</th>\n",
       "            <th>max(salary)</th>\n",
       "        </tr>\n",
       "    </thead>\n",
       "    <tbody>\n",
       "        <tr>\n",
       "            <td>55000.00</td>\n",
       "            <td>55000.00</td>\n",
       "        </tr>\n",
       "        <tr>\n",
       "            <td>43000.00</td>\n",
       "            <td>43000.00</td>\n",
       "        </tr>\n",
       "        <tr>\n",
       "            <td>40000.00</td>\n",
       "            <td>40000.00</td>\n",
       "        </tr>\n",
       "    </tbody>\n",
       "</table>"
      ],
      "text/plain": [
       "+----------------------+-------------+\n",
       "| max(DISTINCT salary) | max(salary) |\n",
       "+----------------------+-------------+\n",
       "|       55000.00       |   55000.00  |\n",
       "|       43000.00       |   43000.00  |\n",
       "|       40000.00       |   40000.00  |\n",
       "+----------------------+-------------+"
      ]
     },
     "execution_count": 37,
     "metadata": {},
     "output_type": "execute_result"
    }
   ],
   "source": [
    "%%sql\n",
    "SELECT max(DISTINCT salary), max(salary)\n",
    "FROM employee\n",
    "GROUP BY dpt_id"
   ]
  },
  {
   "cell_type": "markdown",
   "id": "f4e97cc8",
   "metadata": {},
   "source": [
    "##### Error 17. Unnecessary argument of COUNT. Undetectable."
   ]
  },
  {
   "cell_type": "code",
   "execution_count": 38,
   "id": "b3a25da1",
   "metadata": {},
   "outputs": [
    {
     "data": {
      "text/html": [
       "<table>\n",
       "    <thead>\n",
       "        <tr>\n",
       "            <th>count(dpt_id)</th>\n",
       "        </tr>\n",
       "    </thead>\n",
       "    <tbody>\n",
       "        <tr>\n",
       "            <td>4</td>\n",
       "        </tr>\n",
       "    </tbody>\n",
       "</table>"
      ],
      "text/plain": [
       "+---------------+\n",
       "| count(dpt_id) |\n",
       "+---------------+\n",
       "|       4       |\n",
       "+---------------+"
      ]
     },
     "execution_count": 38,
     "metadata": {},
     "output_type": "execute_result"
    }
   ],
   "source": [
    "%%sql\n",
    "SELECT count(dpt_id)\n",
    "FROM employee\n",
    "WHERE dpt_id = 5"
   ]
  },
  {
   "cell_type": "code",
   "execution_count": 39,
   "id": "6a51a33f",
   "metadata": {},
   "outputs": [
    {
     "data": {
      "text/html": [
       "<table>\n",
       "    <thead>\n",
       "        <tr>\n",
       "            <th>count(*)</th>\n",
       "        </tr>\n",
       "    </thead>\n",
       "    <tbody>\n",
       "        <tr>\n",
       "            <td>4</td>\n",
       "        </tr>\n",
       "    </tbody>\n",
       "</table>"
      ],
      "text/plain": [
       "+----------+\n",
       "| count(*) |\n",
       "+----------+\n",
       "|    4     |\n",
       "+----------+"
      ]
     },
     "execution_count": 39,
     "metadata": {},
     "output_type": "execute_result"
    }
   ],
   "source": [
    "%%sql\n",
    "SELECT count(*)\n",
    "FROM employee\n",
    "WHERE dpt_id = 5"
   ]
  },
  {
   "cell_type": "markdown",
   "id": "7187a514",
   "metadata": {},
   "source": [
    "##### Error 18. Unnecessary GROUP BY in EXISTS subquery. Undetectable.\n",
    "##### Error 19. GROUP BY with singleton groups. Detectable (different formulas).\n",
    "##### Error 20. GROUP BY with only a single group. Undetectable."
   ]
  },
  {
   "cell_type": "code",
   "execution_count": 40,
   "id": "eef36120",
   "metadata": {},
   "outputs": [
    {
     "data": {
      "text/html": [
       "<table>\n",
       "    <thead>\n",
       "        <tr>\n",
       "            <th>max(salary)</th>\n",
       "            <th>token</th>\n",
       "        </tr>\n",
       "    </thead>\n",
       "    <tbody>\n",
       "        <tr>\n",
       "            <td>40000.00</td>\n",
       "            <td>278244012370496</td>\n",
       "        </tr>\n",
       "    </tbody>\n",
       "</table>"
      ],
      "text/plain": [
       "+-------------+-----------------+\n",
       "| max(salary) |      token      |\n",
       "+-------------+-----------------+\n",
       "|   40000.00  | 278244012370496 |\n",
       "+-------------+-----------------+"
      ]
     },
     "execution_count": 40,
     "metadata": {},
     "output_type": "execute_result"
    }
   ],
   "source": [
    "%%sql\n",
    "SELECT max(salary), salt_042(bit_xor(sum(nn(A.hash))) OVER ()) AS token\n",
    "FROM employee A\n",
    "WHERE dpt_id = 5"
   ]
  },
  {
   "cell_type": "code",
   "execution_count": 41,
   "id": "8ae85677",
   "metadata": {},
   "outputs": [
    {
     "data": {
      "text/html": [
       "<table>\n",
       "    <thead>\n",
       "        <tr>\n",
       "            <th>max(salary)</th>\n",
       "            <th>token</th>\n",
       "        </tr>\n",
       "    </thead>\n",
       "    <tbody>\n",
       "        <tr>\n",
       "            <td>40000.00</td>\n",
       "            <td>278244012370496</td>\n",
       "        </tr>\n",
       "    </tbody>\n",
       "</table>"
      ],
      "text/plain": [
       "+-------------+-----------------+\n",
       "| max(salary) |      token      |\n",
       "+-------------+-----------------+\n",
       "|   40000.00  | 278244012370496 |\n",
       "+-------------+-----------------+"
      ]
     },
     "execution_count": 41,
     "metadata": {},
     "output_type": "execute_result"
    }
   ],
   "source": [
    "%%sql\n",
    "SELECT max(salary), salt_042(bit_xor(sum(nn(A.hash))) OVER ()) AS token\n",
    "FROM employee A\n",
    "WHERE dpt_id = 5\n",
    "GROUP BY dpt_id"
   ]
  },
  {
   "cell_type": "markdown",
   "id": "38bbca2f",
   "metadata": {},
   "source": [
    "##### Error 21. Unnecessary GROUP BY attribute. Undetectable."
   ]
  },
  {
   "cell_type": "code",
   "execution_count": 42,
   "id": "3388b66f",
   "metadata": {},
   "outputs": [
    {
     "data": {
      "text/html": [
       "<table>\n",
       "    <thead>\n",
       "        <tr>\n",
       "            <th>emp_id</th>\n",
       "            <th>emp_name</th>\n",
       "            <th>count(*)</th>\n",
       "            <th>token</th>\n",
       "        </tr>\n",
       "    </thead>\n",
       "    <tbody>\n",
       "        <tr>\n",
       "            <td>123456789</td>\n",
       "            <td>John B. Smith</td>\n",
       "            <td>3</td>\n",
       "            <td>278125236185468</td>\n",
       "        </tr>\n",
       "        <tr>\n",
       "            <td>333445555</td>\n",
       "            <td>Franklin T. Wong</td>\n",
       "            <td>3</td>\n",
       "            <td>278125236185468</td>\n",
       "        </tr>\n",
       "        <tr>\n",
       "            <td>987654321</td>\n",
       "            <td>Jennifer S. Wallace</td>\n",
       "            <td>1</td>\n",
       "            <td>278125236185468</td>\n",
       "        </tr>\n",
       "    </tbody>\n",
       "</table>"
      ],
      "text/plain": [
       "+-----------+---------------------+----------+-----------------+\n",
       "|   emp_id  |       emp_name      | count(*) |      token      |\n",
       "+-----------+---------------------+----------+-----------------+\n",
       "| 123456789 |    John B. Smith    |    3     | 278125236185468 |\n",
       "| 333445555 |   Franklin T. Wong  |    3     | 278125236185468 |\n",
       "| 987654321 | Jennifer S. Wallace |    1     | 278125236185468 |\n",
       "+-----------+---------------------+----------+-----------------+"
      ]
     },
     "execution_count": 42,
     "metadata": {},
     "output_type": "execute_result"
    }
   ],
   "source": [
    "%%sql\n",
    "SELECT emp_id, emp_name, count(*), salt_042(bit_xor(sum(nn(A.hash))) OVER ()) AS token\n",
    "FROM dependent A JOIN employee B USING (emp_id)\n",
    "GROUP BY emp_id, emp_name"
   ]
  },
  {
   "cell_type": "code",
   "execution_count": 43,
   "id": "ea107279",
   "metadata": {},
   "outputs": [
    {
     "data": {
      "text/html": [
       "<table>\n",
       "    <thead>\n",
       "        <tr>\n",
       "            <th>emp_id</th>\n",
       "            <th>emp_name</th>\n",
       "            <th>count(*)</th>\n",
       "            <th>token</th>\n",
       "        </tr>\n",
       "    </thead>\n",
       "    <tbody>\n",
       "        <tr>\n",
       "            <td>123456789</td>\n",
       "            <td>John B. Smith</td>\n",
       "            <td>3</td>\n",
       "            <td>278125236185468</td>\n",
       "        </tr>\n",
       "        <tr>\n",
       "            <td>333445555</td>\n",
       "            <td>Franklin T. Wong</td>\n",
       "            <td>3</td>\n",
       "            <td>278125236185468</td>\n",
       "        </tr>\n",
       "        <tr>\n",
       "            <td>987654321</td>\n",
       "            <td>Jennifer S. Wallace</td>\n",
       "            <td>1</td>\n",
       "            <td>278125236185468</td>\n",
       "        </tr>\n",
       "    </tbody>\n",
       "</table>"
      ],
      "text/plain": [
       "+-----------+---------------------+----------+-----------------+\n",
       "|   emp_id  |       emp_name      | count(*) |      token      |\n",
       "+-----------+---------------------+----------+-----------------+\n",
       "| 123456789 |    John B. Smith    |    3     | 278125236185468 |\n",
       "| 333445555 |   Franklin T. Wong  |    3     | 278125236185468 |\n",
       "| 987654321 | Jennifer S. Wallace |    1     | 278125236185468 |\n",
       "+-----------+---------------------+----------+-----------------+"
      ]
     },
     "execution_count": 43,
     "metadata": {},
     "output_type": "execute_result"
    }
   ],
   "source": [
    "%%sql\n",
    "SELECT emp_id, emp_name, count(*), salt_042(bit_xor(sum(nn(A.hash))) OVER ()) AS token\n",
    "FROM dependent A JOIN employee B USING (emp_id)\n",
    "GROUP BY emp_id"
   ]
  },
  {
   "cell_type": "markdown",
   "id": "ddc02022",
   "metadata": {},
   "source": [
    "##### Error 22. GROUP BY can be replaced by DISTINCT. Detectable (different formulas).\n",
    "##### Error 23. UNION can be replaced by OR. Undetectable."
   ]
  },
  {
   "cell_type": "code",
   "execution_count": 44,
   "id": "dac0957d",
   "metadata": {},
   "outputs": [
    {
     "data": {
      "text/html": [
       "<table>\n",
       "    <thead>\n",
       "        <tr>\n",
       "            <th>emp_name</th>\n",
       "            <th>emp_id</th>\n",
       "            <th>birth</th>\n",
       "            <th>address</th>\n",
       "            <th>sex</th>\n",
       "            <th>salary</th>\n",
       "            <th>supervisor_id</th>\n",
       "            <th>dpt_id</th>\n",
       "            <th>hash</th>\n",
       "            <th>token</th>\n",
       "        </tr>\n",
       "    </thead>\n",
       "    <tbody>\n",
       "        <tr>\n",
       "            <td>Jennifer S. Wallace</td>\n",
       "            <td>987654321</td>\n",
       "            <td>1941-06-20</td>\n",
       "            <td>291 Berry, Bellaire TX</td>\n",
       "            <td>F</td>\n",
       "            <td>43000.00</td>\n",
       "            <td>888665555</td>\n",
       "            <td>4</td>\n",
       "            <td>1082708607811</td>\n",
       "            <td>277625524976375</td>\n",
       "        </tr>\n",
       "        <tr>\n",
       "            <td>Ahmad V. Jabbar</td>\n",
       "            <td>987987987</td>\n",
       "            <td>1969-03-29</td>\n",
       "            <td>980 Dallas, Houston TX</td>\n",
       "            <td>M</td>\n",
       "            <td>25000.00</td>\n",
       "            <td>987654321</td>\n",
       "            <td>4</td>\n",
       "            <td>80402583985</td>\n",
       "            <td>277625524976375</td>\n",
       "        </tr>\n",
       "        <tr>\n",
       "            <td>Alicia J. Zelaya</td>\n",
       "            <td>999887777</td>\n",
       "            <td>1968-01-19</td>\n",
       "            <td>3321 Castle, Spring TX</td>\n",
       "            <td>F</td>\n",
       "            <td>25000.00</td>\n",
       "            <td>987654321</td>\n",
       "            <td>4</td>\n",
       "            <td>280009530265</td>\n",
       "            <td>277625524976375</td>\n",
       "        </tr>\n",
       "        <tr>\n",
       "            <td>John B. Smith</td>\n",
       "            <td>123456789</td>\n",
       "            <td>1965-01-09</td>\n",
       "            <td>731 Fondren, Houston TX</td>\n",
       "            <td>M</td>\n",
       "            <td>30000.00</td>\n",
       "            <td>333445555</td>\n",
       "            <td>5</td>\n",
       "            <td>349954097366</td>\n",
       "            <td>277625524976375</td>\n",
       "        </tr>\n",
       "        <tr>\n",
       "            <td>Franklin T. Wong</td>\n",
       "            <td>333445555</td>\n",
       "            <td>1965-12-08</td>\n",
       "            <td>638 Voss, Houston TX</td>\n",
       "            <td>M</td>\n",
       "            <td>40000.00</td>\n",
       "            <td>888665555</td>\n",
       "            <td>5</td>\n",
       "            <td>875741831397</td>\n",
       "            <td>277625524976375</td>\n",
       "        </tr>\n",
       "        <tr>\n",
       "            <td>Joyce A. English</td>\n",
       "            <td>453453453</td>\n",
       "            <td>1972-07-31</td>\n",
       "            <td>5631 Rice, Houston TX</td>\n",
       "            <td>F</td>\n",
       "            <td>25000.00</td>\n",
       "            <td>333445555</td>\n",
       "            <td>5</td>\n",
       "            <td>769098430263</td>\n",
       "            <td>277625524976375</td>\n",
       "        </tr>\n",
       "        <tr>\n",
       "            <td>Ramesh K. Narayan</td>\n",
       "            <td>666884444</td>\n",
       "            <td>1962-09-15</td>\n",
       "            <td>975 Fire Oak, Humble TX</td>\n",
       "            <td>M</td>\n",
       "            <td>38000.00</td>\n",
       "            <td>333445555</td>\n",
       "            <td>5</td>\n",
       "            <td>840358962531</td>\n",
       "            <td>277625524976375</td>\n",
       "        </tr>\n",
       "    </tbody>\n",
       "</table>"
      ],
      "text/plain": [
       "+---------------------+-----------+------------+-------------------------+-----+----------+---------------+--------+---------------+-----------------+\n",
       "|       emp_name      |   emp_id  |   birth    |         address         | sex |  salary  | supervisor_id | dpt_id |      hash     |      token      |\n",
       "+---------------------+-----------+------------+-------------------------+-----+----------+---------------+--------+---------------+-----------------+\n",
       "| Jennifer S. Wallace | 987654321 | 1941-06-20 |  291 Berry, Bellaire TX |  F  | 43000.00 |   888665555   |   4    | 1082708607811 | 277625524976375 |\n",
       "|   Ahmad V. Jabbar   | 987987987 | 1969-03-29 |  980 Dallas, Houston TX |  M  | 25000.00 |   987654321   |   4    |  80402583985  | 277625524976375 |\n",
       "|   Alicia J. Zelaya  | 999887777 | 1968-01-19 |  3321 Castle, Spring TX |  F  | 25000.00 |   987654321   |   4    |  280009530265 | 277625524976375 |\n",
       "|    John B. Smith    | 123456789 | 1965-01-09 | 731 Fondren, Houston TX |  M  | 30000.00 |   333445555   |   5    |  349954097366 | 277625524976375 |\n",
       "|   Franklin T. Wong  | 333445555 | 1965-12-08 |   638 Voss, Houston TX  |  M  | 40000.00 |   888665555   |   5    |  875741831397 | 277625524976375 |\n",
       "|   Joyce A. English  | 453453453 | 1972-07-31 |  5631 Rice, Houston TX  |  F  | 25000.00 |   333445555   |   5    |  769098430263 | 277625524976375 |\n",
       "|  Ramesh K. Narayan  | 666884444 | 1962-09-15 | 975 Fire Oak, Humble TX |  M  | 38000.00 |   333445555   |   5    |  840358962531 | 277625524976375 |\n",
       "+---------------------+-----------+------------+-------------------------+-----+----------+---------------+--------+---------------+-----------------+"
      ]
     },
     "execution_count": 44,
     "metadata": {},
     "output_type": "execute_result"
    }
   ],
   "source": [
    "%%sql\n",
    "SELECT *, salt_042(sum(nn(A.hash)) OVER ()) AS token\n",
    "FROM employee A\n",
    "WHERE dpt_id = 5 or dpt_id = 4"
   ]
  },
  {
   "cell_type": "code",
   "execution_count": 45,
   "id": "ebeb4096",
   "metadata": {},
   "outputs": [
    {
     "data": {
      "text/html": [
       "<table>\n",
       "    <thead>\n",
       "        <tr>\n",
       "            <th>emp_name</th>\n",
       "            <th>emp_id</th>\n",
       "            <th>birth</th>\n",
       "            <th>address</th>\n",
       "            <th>sex</th>\n",
       "            <th>salary</th>\n",
       "            <th>supervisor_id</th>\n",
       "            <th>dpt_id</th>\n",
       "            <th>hash</th>\n",
       "            <th>token</th>\n",
       "        </tr>\n",
       "    </thead>\n",
       "    <tbody>\n",
       "        <tr>\n",
       "            <td>Jennifer S. Wallace</td>\n",
       "            <td>987654321</td>\n",
       "            <td>1941-06-20</td>\n",
       "            <td>291 Berry, Bellaire TX</td>\n",
       "            <td>F</td>\n",
       "            <td>43000.00</td>\n",
       "            <td>888665555</td>\n",
       "            <td>4</td>\n",
       "            <td>1082708607811</td>\n",
       "            <td>277625524976375</td>\n",
       "        </tr>\n",
       "        <tr>\n",
       "            <td>Ahmad V. Jabbar</td>\n",
       "            <td>987987987</td>\n",
       "            <td>1969-03-29</td>\n",
       "            <td>980 Dallas, Houston TX</td>\n",
       "            <td>M</td>\n",
       "            <td>25000.00</td>\n",
       "            <td>987654321</td>\n",
       "            <td>4</td>\n",
       "            <td>80402583985</td>\n",
       "            <td>277625524976375</td>\n",
       "        </tr>\n",
       "        <tr>\n",
       "            <td>Alicia J. Zelaya</td>\n",
       "            <td>999887777</td>\n",
       "            <td>1968-01-19</td>\n",
       "            <td>3321 Castle, Spring TX</td>\n",
       "            <td>F</td>\n",
       "            <td>25000.00</td>\n",
       "            <td>987654321</td>\n",
       "            <td>4</td>\n",
       "            <td>280009530265</td>\n",
       "            <td>277625524976375</td>\n",
       "        </tr>\n",
       "        <tr>\n",
       "            <td>John B. Smith</td>\n",
       "            <td>123456789</td>\n",
       "            <td>1965-01-09</td>\n",
       "            <td>731 Fondren, Houston TX</td>\n",
       "            <td>M</td>\n",
       "            <td>30000.00</td>\n",
       "            <td>333445555</td>\n",
       "            <td>5</td>\n",
       "            <td>349954097366</td>\n",
       "            <td>277625524976375</td>\n",
       "        </tr>\n",
       "        <tr>\n",
       "            <td>Franklin T. Wong</td>\n",
       "            <td>333445555</td>\n",
       "            <td>1965-12-08</td>\n",
       "            <td>638 Voss, Houston TX</td>\n",
       "            <td>M</td>\n",
       "            <td>40000.00</td>\n",
       "            <td>888665555</td>\n",
       "            <td>5</td>\n",
       "            <td>875741831397</td>\n",
       "            <td>277625524976375</td>\n",
       "        </tr>\n",
       "        <tr>\n",
       "            <td>Joyce A. English</td>\n",
       "            <td>453453453</td>\n",
       "            <td>1972-07-31</td>\n",
       "            <td>5631 Rice, Houston TX</td>\n",
       "            <td>F</td>\n",
       "            <td>25000.00</td>\n",
       "            <td>333445555</td>\n",
       "            <td>5</td>\n",
       "            <td>769098430263</td>\n",
       "            <td>277625524976375</td>\n",
       "        </tr>\n",
       "        <tr>\n",
       "            <td>Ramesh K. Narayan</td>\n",
       "            <td>666884444</td>\n",
       "            <td>1962-09-15</td>\n",
       "            <td>975 Fire Oak, Humble TX</td>\n",
       "            <td>M</td>\n",
       "            <td>38000.00</td>\n",
       "            <td>333445555</td>\n",
       "            <td>5</td>\n",
       "            <td>840358962531</td>\n",
       "            <td>277625524976375</td>\n",
       "        </tr>\n",
       "    </tbody>\n",
       "</table>"
      ],
      "text/plain": [
       "+---------------------+-----------+------------+-------------------------+-----+----------+---------------+--------+---------------+-----------------+\n",
       "|       emp_name      |   emp_id  |   birth    |         address         | sex |  salary  | supervisor_id | dpt_id |      hash     |      token      |\n",
       "+---------------------+-----------+------------+-------------------------+-----+----------+---------------+--------+---------------+-----------------+\n",
       "| Jennifer S. Wallace | 987654321 | 1941-06-20 |  291 Berry, Bellaire TX |  F  | 43000.00 |   888665555   |   4    | 1082708607811 | 277625524976375 |\n",
       "|   Ahmad V. Jabbar   | 987987987 | 1969-03-29 |  980 Dallas, Houston TX |  M  | 25000.00 |   987654321   |   4    |  80402583985  | 277625524976375 |\n",
       "|   Alicia J. Zelaya  | 999887777 | 1968-01-19 |  3321 Castle, Spring TX |  F  | 25000.00 |   987654321   |   4    |  280009530265 | 277625524976375 |\n",
       "|    John B. Smith    | 123456789 | 1965-01-09 | 731 Fondren, Houston TX |  M  | 30000.00 |   333445555   |   5    |  349954097366 | 277625524976375 |\n",
       "|   Franklin T. Wong  | 333445555 | 1965-12-08 |   638 Voss, Houston TX  |  M  | 40000.00 |   888665555   |   5    |  875741831397 | 277625524976375 |\n",
       "|   Joyce A. English  | 453453453 | 1972-07-31 |  5631 Rice, Houston TX  |  F  | 25000.00 |   333445555   |   5    |  769098430263 | 277625524976375 |\n",
       "|  Ramesh K. Narayan  | 666884444 | 1962-09-15 | 975 Fire Oak, Humble TX |  M  | 38000.00 |   333445555   |   5    |  840358962531 | 277625524976375 |\n",
       "+---------------------+-----------+------------+-------------------------+-----+----------+---------------+--------+---------------+-----------------+"
      ]
     },
     "execution_count": 45,
     "metadata": {},
     "output_type": "execute_result"
    }
   ],
   "source": [
    "%%sql\n",
    "WITH A AS (\n",
    "    SELECT *\n",
    "    FROM employee\n",
    "    WHERE dpt_id = 4\n",
    "    UNION ALL\n",
    "    SELECT *\n",
    "    FROM employee\n",
    "    WHERE dpt_id = 5\n",
    ")\n",
    "SELECT *, salt_042(sum(nn(A.hash)) OVER ()) AS token\n",
    "FROM A"
   ]
  },
  {
   "cell_type": "markdown",
   "id": "c6d12cf8",
   "metadata": {},
   "source": [
    "- Error 24. Unnecessary ORDER BY term. Undetectable.\n",
    "- Error 25. Inefficient HAVING. Undetectable."
   ]
  },
  {
   "cell_type": "code",
   "execution_count": 46,
   "id": "5652921f",
   "metadata": {},
   "outputs": [
    {
     "data": {
      "text/html": [
       "<table>\n",
       "    <thead>\n",
       "        <tr>\n",
       "            <th>dpt_id</th>\n",
       "            <th>dpt_id_1</th>\n",
       "            <th>dpt_name</th>\n",
       "            <th>count(*)</th>\n",
       "            <th>token</th>\n",
       "        </tr>\n",
       "    </thead>\n",
       "    <tbody>\n",
       "        <tr>\n",
       "            <td>1</td>\n",
       "            <td>1</td>\n",
       "            <td>Headquarters</td>\n",
       "            <td>1</td>\n",
       "            <td>279422905212716</td>\n",
       "        </tr>\n",
       "        <tr>\n",
       "            <td>4</td>\n",
       "            <td>4</td>\n",
       "            <td>Administration</td>\n",
       "            <td>3</td>\n",
       "            <td>279422905212716</td>\n",
       "        </tr>\n",
       "        <tr>\n",
       "            <td>5</td>\n",
       "            <td>5</td>\n",
       "            <td>Research</td>\n",
       "            <td>4</td>\n",
       "            <td>279422905212716</td>\n",
       "        </tr>\n",
       "    </tbody>\n",
       "</table>"
      ],
      "text/plain": [
       "+--------+----------+----------------+----------+-----------------+\n",
       "| dpt_id | dpt_id_1 |    dpt_name    | count(*) |      token      |\n",
       "+--------+----------+----------------+----------+-----------------+\n",
       "|   1    |    1     |  Headquarters  |    1     | 279422905212716 |\n",
       "|   4    |    4     | Administration |    3     | 279422905212716 |\n",
       "|   5    |    5     |    Research    |    4     | 279422905212716 |\n",
       "+--------+----------+----------------+----------+-----------------+"
      ]
     },
     "execution_count": 46,
     "metadata": {},
     "output_type": "execute_result"
    }
   ],
   "source": [
    "%%sql\n",
    "SELECT A.dpt_id, B.dpt_id, A.dpt_name, count(*), salt_042(bit_xor(sum(nn(A.hash))) OVER ()) AS token\n",
    "FROM department A, employee B\n",
    "WHERE A.dpt_id = B.dpt_id\n",
    "GROUP BY A.dpt_id, A.dpt_name\n",
    "ORDER BY A.dpt_id"
   ]
  },
  {
   "cell_type": "code",
   "execution_count": 47,
   "id": "4261ebee",
   "metadata": {},
   "outputs": [
    {
     "data": {
      "text/html": [
       "<table>\n",
       "    <thead>\n",
       "        <tr>\n",
       "            <th>dpt_id</th>\n",
       "            <th>dpt_id_1</th>\n",
       "            <th>dpt_name</th>\n",
       "            <th>count(*)</th>\n",
       "            <th>token</th>\n",
       "        </tr>\n",
       "    </thead>\n",
       "    <tbody>\n",
       "        <tr>\n",
       "            <td>1</td>\n",
       "            <td>1</td>\n",
       "            <td>Headquarters</td>\n",
       "            <td>1</td>\n",
       "            <td>279422905212716</td>\n",
       "        </tr>\n",
       "        <tr>\n",
       "            <td>4</td>\n",
       "            <td>4</td>\n",
       "            <td>Administration</td>\n",
       "            <td>3</td>\n",
       "            <td>279422905212716</td>\n",
       "        </tr>\n",
       "        <tr>\n",
       "            <td>5</td>\n",
       "            <td>5</td>\n",
       "            <td>Research</td>\n",
       "            <td>4</td>\n",
       "            <td>279422905212716</td>\n",
       "        </tr>\n",
       "    </tbody>\n",
       "</table>"
      ],
      "text/plain": [
       "+--------+----------+----------------+----------+-----------------+\n",
       "| dpt_id | dpt_id_1 |    dpt_name    | count(*) |      token      |\n",
       "+--------+----------+----------------+----------+-----------------+\n",
       "|   1    |    1     |  Headquarters  |    1     | 279422905212716 |\n",
       "|   4    |    4     | Administration |    3     | 279422905212716 |\n",
       "|   5    |    5     |    Research    |    4     | 279422905212716 |\n",
       "+--------+----------+----------------+----------+-----------------+"
      ]
     },
     "execution_count": 47,
     "metadata": {},
     "output_type": "execute_result"
    }
   ],
   "source": [
    "%%sql\n",
    "SELECT A.dpt_id, B.dpt_id, A.dpt_name, count(*), salt_042(bit_xor(sum(nn(A.hash))) OVER ()) AS token\n",
    "FROM department A, employee B\n",
    "GROUP BY A.dpt_id, B.dpt_id, A.dpt_name\n",
    "HAVING A.dpt_id = B.dpt_id\n",
    "ORDER BY A.dpt_id"
   ]
  },
  {
   "cell_type": "markdown",
   "id": "4288d668",
   "metadata": {},
   "source": [
    "##### Error 26. Inefficient UNION. Undetectable.\n",
    "##### Error 27. Missing join condition. Undetectable if the result is the same (which is rare).\n",
    "##### Error 28. Error 28. Uncorrelated EXISTS-subquery. Undetectable if the result is the same.\n",
    "##### Error 29. SELECT in subquery uses no tuple variable of subquery. Undetectable if the result is the same."
   ]
  },
  {
   "cell_type": "code",
   "execution_count": 48,
   "id": "8811ae65",
   "metadata": {},
   "outputs": [
    {
     "data": {
      "text/html": [
       "<table>\n",
       "    <thead>\n",
       "        <tr>\n",
       "            <th>emp_id</th>\n",
       "            <th>emp_name</th>\n",
       "            <th>token</th>\n",
       "        </tr>\n",
       "    </thead>\n",
       "    <tbody>\n",
       "        <tr>\n",
       "            <td>123456789</td>\n",
       "            <td>John B. Smith</td>\n",
       "            <td>278738284261611</td>\n",
       "        </tr>\n",
       "        <tr>\n",
       "            <td>333445555</td>\n",
       "            <td>Franklin T. Wong</td>\n",
       "            <td>278738284261611</td>\n",
       "        </tr>\n",
       "        <tr>\n",
       "            <td>987654321</td>\n",
       "            <td>Jennifer S. Wallace</td>\n",
       "            <td>278738284261611</td>\n",
       "        </tr>\n",
       "    </tbody>\n",
       "</table>"
      ],
      "text/plain": [
       "+-----------+---------------------+-----------------+\n",
       "|   emp_id  |       emp_name      |      token      |\n",
       "+-----------+---------------------+-----------------+\n",
       "| 123456789 |    John B. Smith    | 278738284261611 |\n",
       "| 333445555 |   Franklin T. Wong  | 278738284261611 |\n",
       "| 987654321 | Jennifer S. Wallace | 278738284261611 |\n",
       "+-----------+---------------------+-----------------+"
      ]
     },
     "execution_count": 48,
     "metadata": {},
     "output_type": "execute_result"
    }
   ],
   "source": [
    "%%sql\n",
    "SELECT emp_id, emp_name, salt_042(sum(nn(A.hash)) OVER ()) AS token\n",
    "FROM employee A\n",
    "WHERE emp_id IN (\n",
    "    SELECT emp_id\n",
    "    FROM dependent\n",
    ")"
   ]
  },
  {
   "cell_type": "code",
   "execution_count": 49,
   "id": "4389a049",
   "metadata": {},
   "outputs": [
    {
     "data": {
      "text/html": [
       "<table>\n",
       "    <thead>\n",
       "        <tr>\n",
       "            <th>emp_id</th>\n",
       "            <th>emp_name</th>\n",
       "            <th>token</th>\n",
       "        </tr>\n",
       "    </thead>\n",
       "    <tbody>\n",
       "        <tr>\n",
       "            <td>123456789</td>\n",
       "            <td>John B. Smith</td>\n",
       "            <td>278738284261611</td>\n",
       "        </tr>\n",
       "        <tr>\n",
       "            <td>333445555</td>\n",
       "            <td>Franklin T. Wong</td>\n",
       "            <td>278738284261611</td>\n",
       "        </tr>\n",
       "        <tr>\n",
       "            <td>987654321</td>\n",
       "            <td>Jennifer S. Wallace</td>\n",
       "            <td>278738284261611</td>\n",
       "        </tr>\n",
       "    </tbody>\n",
       "</table>"
      ],
      "text/plain": [
       "+-----------+---------------------+-----------------+\n",
       "|   emp_id  |       emp_name      |      token      |\n",
       "+-----------+---------------------+-----------------+\n",
       "| 123456789 |    John B. Smith    | 278738284261611 |\n",
       "| 333445555 |   Franklin T. Wong  | 278738284261611 |\n",
       "| 987654321 | Jennifer S. Wallace | 278738284261611 |\n",
       "+-----------+---------------------+-----------------+"
      ]
     },
     "execution_count": 49,
     "metadata": {},
     "output_type": "execute_result"
    }
   ],
   "source": [
    "%%sql\n",
    "SELECT emp_id, emp_name, salt_042(sum(nn(A.hash)) OVER ()) AS token\n",
    "FROM employee A\n",
    "WHERE emp_id IN (\n",
    "    SELECT A.emp_id\n",
    "    FROM dependent\n",
    ") AND salary IN (30000, 40000, 43000)"
   ]
  },
  {
   "cell_type": "markdown",
   "id": "fd390472",
   "metadata": {},
   "source": [
    "##### Error 30. Condition in the subquery can be moved up. Undetectable.\n",
    "##### Error 31. Comparison between different domains. Undetectable if the result is the same."
   ]
  },
  {
   "cell_type": "code",
   "execution_count": 50,
   "id": "021aef6f",
   "metadata": {},
   "outputs": [
    {
     "data": {
      "text/html": [
       "<table>\n",
       "    <thead>\n",
       "        <tr>\n",
       "            <th>prj_name</th>\n",
       "            <th>prj_id</th>\n",
       "            <th>location</th>\n",
       "            <th>dpt_id</th>\n",
       "            <th>hash</th>\n",
       "            <th>token</th>\n",
       "        </tr>\n",
       "    </thead>\n",
       "    <tbody>\n",
       "        <tr>\n",
       "            <td>ProductX</td>\n",
       "            <td>1</td>\n",
       "            <td>Bellaire</td>\n",
       "            <td>5</td>\n",
       "            <td>73594669288</td>\n",
       "            <td>279610442829619</td>\n",
       "        </tr>\n",
       "        <tr>\n",
       "            <td>ProductY</td>\n",
       "            <td>2</td>\n",
       "            <td>Sugarland</td>\n",
       "            <td>5</td>\n",
       "            <td>1051033373453</td>\n",
       "            <td>279610442829619</td>\n",
       "        </tr>\n",
       "        <tr>\n",
       "            <td>ProductZ</td>\n",
       "            <td>3</td>\n",
       "            <td>Houston</td>\n",
       "            <td>5</td>\n",
       "            <td>895194892081</td>\n",
       "            <td>279610442829619</td>\n",
       "        </tr>\n",
       "    </tbody>\n",
       "</table>"
      ],
      "text/plain": [
       "+----------+--------+-----------+--------+---------------+-----------------+\n",
       "| prj_name | prj_id |  location | dpt_id |      hash     |      token      |\n",
       "+----------+--------+-----------+--------+---------------+-----------------+\n",
       "| ProductX |   1    |  Bellaire |   5    |  73594669288  | 279610442829619 |\n",
       "| ProductY |   2    | Sugarland |   5    | 1051033373453 | 279610442829619 |\n",
       "| ProductZ |   3    |  Houston  |   5    |  895194892081 | 279610442829619 |\n",
       "+----------+--------+-----------+--------+---------------+-----------------+"
      ]
     },
     "execution_count": 50,
     "metadata": {},
     "output_type": "execute_result"
    }
   ],
   "source": [
    "%%sql\n",
    "SELECT *, salt_042(sum(nn(A.hash)) OVER ()) AS token\n",
    "FROM project A\n",
    "WHERE dpt_id > prj_id"
   ]
  },
  {
   "cell_type": "code",
   "execution_count": 51,
   "id": "0ea0767e",
   "metadata": {},
   "outputs": [
    {
     "data": {
      "text/html": [
       "<table>\n",
       "    <thead>\n",
       "        <tr>\n",
       "            <th>prj_name</th>\n",
       "            <th>prj_id</th>\n",
       "            <th>location</th>\n",
       "            <th>dpt_id</th>\n",
       "            <th>hash</th>\n",
       "            <th>token</th>\n",
       "        </tr>\n",
       "    </thead>\n",
       "    <tbody>\n",
       "        <tr>\n",
       "            <td>ProductX</td>\n",
       "            <td>1</td>\n",
       "            <td>Bellaire</td>\n",
       "            <td>5</td>\n",
       "            <td>73594669288</td>\n",
       "            <td>279610442829619</td>\n",
       "        </tr>\n",
       "        <tr>\n",
       "            <td>ProductY</td>\n",
       "            <td>2</td>\n",
       "            <td>Sugarland</td>\n",
       "            <td>5</td>\n",
       "            <td>1051033373453</td>\n",
       "            <td>279610442829619</td>\n",
       "        </tr>\n",
       "        <tr>\n",
       "            <td>ProductZ</td>\n",
       "            <td>3</td>\n",
       "            <td>Houston</td>\n",
       "            <td>5</td>\n",
       "            <td>895194892081</td>\n",
       "            <td>279610442829619</td>\n",
       "        </tr>\n",
       "    </tbody>\n",
       "</table>"
      ],
      "text/plain": [
       "+----------+--------+-----------+--------+---------------+-----------------+\n",
       "| prj_name | prj_id |  location | dpt_id |      hash     |      token      |\n",
       "+----------+--------+-----------+--------+---------------+-----------------+\n",
       "| ProductX |   1    |  Bellaire |   5    |  73594669288  | 279610442829619 |\n",
       "| ProductY |   2    | Sugarland |   5    | 1051033373453 | 279610442829619 |\n",
       "| ProductZ |   3    |  Houston  |   5    |  895194892081 | 279610442829619 |\n",
       "+----------+--------+-----------+--------+---------------+-----------------+"
      ]
     },
     "execution_count": 51,
     "metadata": {},
     "output_type": "execute_result"
    }
   ],
   "source": [
    "%%sql\n",
    "SELECT *, salt_042(sum(nn(A.hash)) OVER ()) AS token\n",
    "FROM project A\n",
    "WHERE dpt_id = 5"
   ]
  },
  {
   "cell_type": "markdown",
   "id": "beb8194d",
   "metadata": {},
   "source": [
    "##### Error 32. Strange HAVING. Undetectable if the result is the same."
   ]
  },
  {
   "cell_type": "code",
   "execution_count": 52,
   "id": "f8c2a6ef",
   "metadata": {},
   "outputs": [
    {
     "data": {
      "text/html": [
       "<table>\n",
       "    <thead>\n",
       "        <tr>\n",
       "            <th>prj_name</th>\n",
       "            <th>prj_id</th>\n",
       "            <th>location</th>\n",
       "            <th>dpt_id</th>\n",
       "            <th>hash</th>\n",
       "            <th>token</th>\n",
       "        </tr>\n",
       "    </thead>\n",
       "    <tbody>\n",
       "        <tr>\n",
       "            <td>ProductX</td>\n",
       "            <td>1</td>\n",
       "            <td>Bellaire</td>\n",
       "            <td>5</td>\n",
       "            <td>73594669288</td>\n",
       "            <td>279610442829619</td>\n",
       "        </tr>\n",
       "        <tr>\n",
       "            <td>ProductY</td>\n",
       "            <td>2</td>\n",
       "            <td>Sugarland</td>\n",
       "            <td>5</td>\n",
       "            <td>1051033373453</td>\n",
       "            <td>279610442829619</td>\n",
       "        </tr>\n",
       "        <tr>\n",
       "            <td>ProductZ</td>\n",
       "            <td>3</td>\n",
       "            <td>Houston</td>\n",
       "            <td>5</td>\n",
       "            <td>895194892081</td>\n",
       "            <td>279610442829619</td>\n",
       "        </tr>\n",
       "    </tbody>\n",
       "</table>"
      ],
      "text/plain": [
       "+----------+--------+-----------+--------+---------------+-----------------+\n",
       "| prj_name | prj_id |  location | dpt_id |      hash     |      token      |\n",
       "+----------+--------+-----------+--------+---------------+-----------------+\n",
       "| ProductX |   1    |  Bellaire |   5    |  73594669288  | 279610442829619 |\n",
       "| ProductY |   2    | Sugarland |   5    | 1051033373453 | 279610442829619 |\n",
       "| ProductZ |   3    |  Houston  |   5    |  895194892081 | 279610442829619 |\n",
       "+----------+--------+-----------+--------+---------------+-----------------+"
      ]
     },
     "execution_count": 52,
     "metadata": {},
     "output_type": "execute_result"
    }
   ],
   "source": [
    "%%sql\n",
    "SELECT *, salt_042(sum(nn(A.hash)) OVER ()) AS token\n",
    "FROM project A\n",
    "HAVING dpt_id = 5"
   ]
  },
  {
   "cell_type": "markdown",
   "id": "ee375fde",
   "metadata": {},
   "source": [
    "##### Error 33. DISTINCT in SUM and AVG. Undetectable if the result is the same.\n",
    "##### Error 34. Wildcards without LIKE. Undetectable if the result is the same.\n",
    "##### Error 35. Condition on left table in left outer join. Undetectable if the result is the same.\n",
    "##### Error 36. Outer join can be replaced by inner join. Undetectable if the result is the same.\n",
    "##### Error 37. Many duplicates. Undetectable if both the formula and the result table are the same.\n",
    "##### Error 38. DISTINCT that might remove important duplicates. Undetectable without control value if the starred result is the same."
   ]
  },
  {
   "cell_type": "code",
   "execution_count": 53,
   "id": "92ceef58",
   "metadata": {},
   "outputs": [
    {
     "data": {
      "text/html": [
       "<table>\n",
       "    <thead>\n",
       "        <tr>\n",
       "            <th>dpd_name</th>\n",
       "            <th>token</th>\n",
       "        </tr>\n",
       "    </thead>\n",
       "    <tbody>\n",
       "        <tr>\n",
       "            <td>Alice</td>\n",
       "            <td>277156863614535</td>\n",
       "        </tr>\n",
       "        <tr>\n",
       "            <td>Elizabeth</td>\n",
       "            <td>277156863614535</td>\n",
       "        </tr>\n",
       "        <tr>\n",
       "            <td>Michael</td>\n",
       "            <td>277156863614535</td>\n",
       "        </tr>\n",
       "        <tr>\n",
       "            <td>Alice</td>\n",
       "            <td>277156863614535</td>\n",
       "        </tr>\n",
       "        <tr>\n",
       "            <td>Joy</td>\n",
       "            <td>277156863614535</td>\n",
       "        </tr>\n",
       "        <tr>\n",
       "            <td>Theodore</td>\n",
       "            <td>277156863614535</td>\n",
       "        </tr>\n",
       "    </tbody>\n",
       "</table>"
      ],
      "text/plain": [
       "+-----------+-----------------+\n",
       "|  dpd_name |      token      |\n",
       "+-----------+-----------------+\n",
       "|   Alice   | 277156863614535 |\n",
       "| Elizabeth | 277156863614535 |\n",
       "|  Michael  | 277156863614535 |\n",
       "|   Alice   | 277156863614535 |\n",
       "|    Joy    | 277156863614535 |\n",
       "|  Theodore | 277156863614535 |\n",
       "+-----------+-----------------+"
      ]
     },
     "execution_count": 53,
     "metadata": {},
     "output_type": "execute_result"
    }
   ],
   "source": [
    "%%sql\n",
    "SELECT dpd_name, salt_042(sum(nn(A.hash)) OVER ()) AS token\n",
    "FROM dependent A JOIN employee B USING (emp_id)\n",
    "WHERE dpt_id = 5"
   ]
  },
  {
   "cell_type": "code",
   "execution_count": 54,
   "id": "d790685f",
   "metadata": {},
   "outputs": [
    {
     "data": {
      "text/html": [
       "<table>\n",
       "    <thead>\n",
       "        <tr>\n",
       "            <th>dpd_name</th>\n",
       "            <th>token</th>\n",
       "        </tr>\n",
       "    </thead>\n",
       "    <tbody>\n",
       "        <tr>\n",
       "            <td>Alice</td>\n",
       "            <td>277156863614535</td>\n",
       "        </tr>\n",
       "        <tr>\n",
       "            <td>Elizabeth</td>\n",
       "            <td>277156863614535</td>\n",
       "        </tr>\n",
       "        <tr>\n",
       "            <td>Michael</td>\n",
       "            <td>277156863614535</td>\n",
       "        </tr>\n",
       "        <tr>\n",
       "            <td>Joy</td>\n",
       "            <td>277156863614535</td>\n",
       "        </tr>\n",
       "        <tr>\n",
       "            <td>Theodore</td>\n",
       "            <td>277156863614535</td>\n",
       "        </tr>\n",
       "    </tbody>\n",
       "</table>"
      ],
      "text/plain": [
       "+-----------+-----------------+\n",
       "|  dpd_name |      token      |\n",
       "+-----------+-----------------+\n",
       "|   Alice   | 277156863614535 |\n",
       "| Elizabeth | 277156863614535 |\n",
       "|  Michael  | 277156863614535 |\n",
       "|    Joy    | 277156863614535 |\n",
       "|  Theodore | 277156863614535 |\n",
       "+-----------+-----------------+"
      ]
     },
     "execution_count": 54,
     "metadata": {},
     "output_type": "execute_result"
    }
   ],
   "source": [
    "%%sql\n",
    "SELECT DISTINCT dpd_name, salt_042(sum(nn(A.hash)) OVER ()) AS token\n",
    "FROM dependent A JOIN employee B USING (emp_id)\n",
    "WHERE dpt_id = 5"
   ]
  },
  {
   "cell_type": "markdown",
   "id": "f413976e",
   "metadata": {},
   "source": [
    "##### Errors 39-43. Undetectable when no runtime error is raised."
   ]
  },
  {
   "cell_type": "markdown",
   "id": "0035f72d",
   "metadata": {},
   "source": [
    "### 4.5. Implementation"
   ]
  },
  {
   "cell_type": "markdown",
   "id": "cb6fd42d",
   "metadata": {},
   "source": [
    "#### 4.5.3. Aggregation functions on full-range hashes"
   ]
  },
  {
   "cell_type": "markdown",
   "id": "793a0e7d",
   "metadata": {},
   "source": [
    "##### Fig. 6 and 7 : Densities and collisions"
   ]
  },
  {
   "cell_type": "code",
   "execution_count": 55,
   "id": "8b974c77",
   "metadata": {
    "scrolled": false
   },
   "outputs": [
    {
     "name": "stdout",
     "output_type": "stream",
     "text": [
      "Drawing 900 primary individuals...\n",
      "Drawing 100 variants...\n",
      "Calculating reports for 1000 individuals...\n",
      "Plotting density for full-range hashes...\n",
      "Writing density plot to 'densities_full.pdf'...\n"
     ]
    },
    {
     "data": {
      "image/png": "[encoded data removed]"
     },
     "metadata": {},
     "output_type": "display_data"
    },
    {
     "name": "stdout",
     "output_type": "stream",
     "text": [
      "Plotting collisions...\n",
      "Writing collision plot to 'collisions_full.pdf'...\n"
     ]
    },
    {
     "data": {
      "image/png": "[encoded data removed]"
     },
     "metadata": {},
     "output_type": "display_data"
    }
   ],
   "source": [
    "import numpy as np\n",
    "from collections import Counter\n",
    "from typing import NamedTuple\n",
    "import plotly.graph_objects as go\n",
    "from plotly.subplots import make_subplots\n",
    "from pathlib import Path\n",
    "from time import sleep\n",
    "\n",
    "STANDARD_FUNCTIONS = {\"sum\", \"avg\", \"max\", \"min\", \"count\"}\n",
    "DEST = Path(\"output/\")\n",
    "SEED = 1\n",
    "\n",
    "class Report(NamedTuple):\n",
    "    name: str # name of the function\n",
    "    outcomes: np.ndarray # results of its application on the entire population: one result per individual\n",
    "    collision_count: int # number of outcomes occurring more than once\n",
    "\n",
    "class Population:\n",
    "    def __init__(self,\n",
    "            hash_size: int,\n",
    "            token_size: int,\n",
    "            individual_count: int,  # number of sets of random hashes to generate\n",
    "            individual_max_size: int,  # maximum number of hashes in a set\n",
    "            mutant_ratio: float = 0.1,  # ratio of individuals in which to replace some values with a fallback value\n",
    "            mutation_max_ratio: float = 0.5,  # maximum ratio of values to replace with the fallback value\n",
    "            variant_ratio: float = 0.1,  # ratio of individuals to generate variants for\n",
    "    ):\n",
    "        assert hash_size <= token_size <= 64\n",
    "\n",
    "        self.hash_size = hash_size\n",
    "        self.token_size = token_size\n",
    "        self.individual_count = individual_count\n",
    "        self.individual_max_size = individual_max_size\n",
    "        self.mutant_ratio = mutant_ratio\n",
    "        self.mutation_upper_bound = int(individual_max_size * mutation_max_ratio)\n",
    "\n",
    "        self.hash_upper_bound = 2**hash_size\n",
    "        self.token_upper_bound = 2**token_size\n",
    "        self.core_individual_count = self.individual_count - int(individual_count * variant_ratio)\n",
    "        self.mutation_fallback_value = self.hash_upper_bound // 4\n",
    "\n",
    "        np.random.seed(SEED)\n",
    "\n",
    "        def draw_individuals() -> list[np.ndarray]:\n",
    "            print(f\"Drawing {self.core_individual_count} primary individuals...\")\n",
    "            result = []\n",
    "            for _ in range(self.core_individual_count):\n",
    "                # Generate a random individual\n",
    "                size = np.random.randint(1, self.individual_max_size + 1)\n",
    "                bound = self.hash_upper_bound\n",
    "                individual = np.random.randint(0, bound, size=size, dtype=np.uint64)\n",
    "                # Optionally mutate it by replacing some values with a fallback value\n",
    "                if np.random.rand() < self.mutant_ratio:\n",
    "                    replace_count = np.random.randint(0, self.mutation_upper_bound)\n",
    "                    individual[:replace_count] = self.mutation_fallback_value\n",
    "                    np.random.shuffle(individual)\n",
    "                result.append(individual)\n",
    "            return result\n",
    "        self.individuals = draw_individuals()\n",
    "\n",
    "        def add_variants() -> list[np.ndarray]:\n",
    "            print(f\"Drawing {self.individual_count - self.core_individual_count} variants...\")\n",
    "            while len(self.individuals) < self.individual_count:\n",
    "                original = self.individuals[np.random.randint(0, self.core_individual_count)]\n",
    "                if len(original) <= 2:\n",
    "                    continue\n",
    "                # Add a variant with one random element removed\n",
    "                variant = np.copy(original)\n",
    "                variant = np.delete(variant, np.random.randint(0, len(variant)))\n",
    "                self.individuals.append(variant)\n",
    "                # Add a variant with two random elements removed\n",
    "                variant = np.copy(original)\n",
    "                variant = np.delete(variant, np.random.randint(0, len(variant)))\n",
    "                variant = np.delete(variant, np.random.randint(0, len(variant)))\n",
    "                self.individuals.append(variant)\n",
    "                # Add a variant with one random bit flipped\n",
    "                # NB: variant[random_index] ^= (1 << random_bit) doesn't work:\n",
    "                # https://github.com/numpy/numpy/issues/2955\n",
    "                variant = np.copy(original)\n",
    "                random_index = np.random.randint(0, len(variant))\n",
    "                random_bit = np.random.randint(0, self.hash_size)\n",
    "                variant[random_index] = np.uint64(int(variant[random_index]) ^ (1 << random_bit))\n",
    "                self.individuals.append(variant)\n",
    "                # Add a variant with two random bits flipped\n",
    "                variant = np.copy(original)\n",
    "                random_index = np.random.randint(0, len(variant))\n",
    "                random_bit = np.random.randint(0, self.hash_size)\n",
    "                variant[random_index] = np.uint64(int(variant[random_index]) ^ (1 << random_bit))\n",
    "                random_index = np.random.randint(0, len(variant))\n",
    "                random_bit = np.random.randint(0, self.hash_size)\n",
    "                variant[random_index] = np.uint64(int(variant[random_index]) ^ (1 << random_bit))\n",
    "                self.individuals.append(variant)\n",
    "            del self.individuals[self.individual_count:]\n",
    "        add_variants()\n",
    "\n",
    "        def get_aggregation_functions() -> dict[str, callable]:\n",
    "            result = {\n",
    "                \"checksum_agg\": lambda arr: hash(tuple(arr)) & (self.token_upper_bound - 1),\n",
    "                \"sum\": np.sum,\n",
    "                \"modular_sum\": lambda arr: np.sum(arr) % self.token_upper_bound,\n",
    "                \"bit_xor\": np.bitwise_xor.reduce,\n",
    "                \"iqr\": lambda arr: int(np.percentile(arr, 75) - np.percentile(arr, 25)),\n",
    "                \"median\": lambda arr: int(np.median(arr)),\n",
    "                \"quartile_1\": lambda arr: int(np.percentile(arr, 25)),\n",
    "                \"quartile_3\": lambda arr: int(np.percentile(arr, 75)),\n",
    "                \"avg\": lambda arr: int(np.mean(arr)),\n",
    "                \"max\": np.max,\n",
    "                \"min\": np.min,\n",
    "                \"count\": len,\n",
    "                \"bit_or\": np.bitwise_or.reduce,\n",
    "                \"bit_and\": np.bitwise_and.reduce,\n",
    "            }\n",
    "            # Keep the sum function adapted to the hash size\n",
    "            result.pop(\"modular_sum\" if self.hash_size < self.token_size else \"sum\")\n",
    "            return result\n",
    "        self.functions = get_aggregation_functions()\n",
    "\n",
    "    def calculate_reports(self) -> list[np.ndarray]:\n",
    "        print(f\"Calculating reports for {self.individual_count} individuals...\")\n",
    "        self.reports = []\n",
    "        for (name, function) in self.functions.items():\n",
    "            outcomes = np.array(list(map(function, self.individuals)))\n",
    "            collision_count = sum(n - 1 for n in Counter(outcomes).values() if n > 1)\n",
    "            self.reports.append(Report(name, outcomes, collision_count))\n",
    "        # Sort by increasing number of collisions (lower is better)\n",
    "        self.reports.sort(key=lambda report: report.collision_count)\n",
    "\n",
    "def write_dummy_plot() -> None:\n",
    "    \"\"\" Prevent Plotly issue https://github.com/plotly/plotly.py/issues/3469\"\"\"\n",
    "    fig = go.Figure(data=[go.Scatter(x=[1, 2, 3], y=[4, 1, 2])])\n",
    "    path = DEST / \"dummy.pdf\"\n",
    "    fig.write_image(path)\n",
    "    path.unlink()\n",
    "    sleep(1) # Increase if \"Loading [MathJax]/extensions/MathMenu.js\" appears in the PDF\n",
    "\n",
    "def write_density_plot_for_full_range_hashes(\n",
    "        population: Population,\n",
    "        filename: str,\n",
    "    ):\n",
    "    print(f\"Plotting density for full-range hashes...\")\n",
    "    reports = list(reversed(population.reports))\n",
    "    bound = population.token_upper_bound\n",
    "    fig = go.Figure()\n",
    "    for (i, report) in enumerate(reports):\n",
    "        y = np.random.normal(i, 0.12, size=len(report.outcomes))  # Add some jitter to the y-axis\n",
    "        fig.add_trace(go.Scatter(\n",
    "            x=report.outcomes,\n",
    "            y=y,\n",
    "            mode='markers',\n",
    "            name=report.name,\n",
    "            marker=dict(size=4, opacity=0.7, symbol=\"circle\"),\n",
    "        ))\n",
    "    x_ticks = [i for i in range(0, bound+1, bound // 8)]\n",
    "    # Define boldface for standard aggregation functions\n",
    "    tick_text = [f\"<b>{report.name}</b> \" if report.name in STANDARD_FUNCTIONS else f\"{report.name} \" for report in reports]\n",
    "    fig.update_layout(\n",
    "        xaxis=dict(\n",
    "            domain=[0, 1],\n",
    "            range=[0, bound+1],\n",
    "            tickvals=x_ticks,\n",
    "            ticktext=[str(tick) for tick in x_ticks],\n",
    "            overlaying='x',\n",
    "            side='bottom',\n",
    "            showgrid=False,\n",
    "            zeroline=False,\n",
    "            ticksuffix=\"   \",\n",
    "        ),\n",
    "        yaxis=dict(\n",
    "            title='',\n",
    "            tickvals=list(range(len(reports))),\n",
    "            ticktext=tick_text,\n",
    "            showgrid=True,\n",
    "            zeroline=False,\n",
    "            tickfont_family=\"Menlo\",\n",
    "            tickfont_size=14,\n",
    "        ),\n",
    "        font_size=12,\n",
    "        height=600,\n",
    "        width=800,\n",
    "        showlegend=False,\n",
    "        margin=dict(l=0, r=100, t=20, b=20),\n",
    "    )\n",
    "    print(f\"Writing density plot to {repr(filename)}...\")\n",
    "    fig.write_image(DEST / filename)\n",
    "    fig.show(renderer=\"png\")\n",
    "\n",
    "def write_collision_plot(\n",
    "        population: Population,\n",
    "        color_threshold_1: int,\n",
    "        color_threshold_2: int,\n",
    "        filename: str,\n",
    "    ) -> None:\n",
    "    print(f\"Plotting collisions...\")\n",
    "    reports = population.reports\n",
    "    collisions = [report.collision_count for report in reports]\n",
    "    colors = []\n",
    "    for collision in collisions:\n",
    "        if collision < color_threshold_1:\n",
    "            colors.append('#80C080') # Green\n",
    "        elif color_threshold_1 <= collision <= color_threshold_2:\n",
    "            colors.append('#FFD280') # Orange\n",
    "        else:\n",
    "            colors.append('#FF8080') # Red\n",
    "    tick_text = [f\"<b>{report.name}</b>\" if report.name in STANDARD_FUNCTIONS else report.name for report in reports]\n",
    "    fig = go.Figure(data=[go.Bar(\n",
    "        x=tick_text,\n",
    "        y=collisions,\n",
    "        text=collisions,\n",
    "        textposition='outside',\n",
    "        marker=dict(color=colors)  # Set colors based on value\n",
    "    )])\n",
    "    fig.update_layout(\n",
    "        yaxis_title=f\"Collisions for {population.individual_count} individuals\",\n",
    "        yaxis_range=[0, population.individual_count * 1.1],\n",
    "        yaxis_zeroline=False,\n",
    "        xaxis_tickangle=-45,\n",
    "        xaxis_tickfont=dict(family=\"Menlo\", size=14),\n",
    "        font_size=12,\n",
    "        width=800,\n",
    "        height=300,\n",
    "        margin=dict(l=0, r=0, t=0, b=0)\n",
    "    )\n",
    "    print(f\"Writing collision plot to {repr(filename)}...\")\n",
    "    fig.write_image(DEST / filename)\n",
    "    fig.show(renderer=\"png\")\n",
    "\n",
    "write_dummy_plot()\n",
    "\n",
    "population = Population(\n",
    "    hash_size=16,\n",
    "    token_size=16,\n",
    "    individual_count=1000,\n",
    "    individual_max_size=100,\n",
    ")\n",
    "population.calculate_reports()\n",
    "write_density_plot_for_full_range_hashes(population, \"densities_full.pdf\")\n",
    "write_collision_plot(population, 50, 200, \"collisions_full.pdf\")"
   ]
  },
  {
   "cell_type": "markdown",
   "id": "4be0eead",
   "metadata": {},
   "source": [
    "#### 4.5.4. Aggregation functions on partial-range hashes"
   ]
  },
  {
   "cell_type": "markdown",
   "id": "8dbde1cd",
   "metadata": {},
   "source": [
    "##### Fig. 8 : Collisions"
   ]
  },
  {
   "cell_type": "code",
   "execution_count": 56,
   "id": "a23ab7a9",
   "metadata": {},
   "outputs": [
    {
     "name": "stdout",
     "output_type": "stream",
     "text": [
      "Drawing 450 primary individuals...\n",
      "Drawing 50 variants...\n",
      "Calculating reports for 500 individuals...\n",
      "Writing density plot to 'densities_partial.pdf'...\n"
     ]
    },
    {
     "data": {
      "image/png": "[encoded data removed]"
     },
     "metadata": {},
     "output_type": "display_data"
    },
    {
     "name": "stdout",
     "output_type": "stream",
     "text": [
      "Plotting collisions...\n",
      "Writing collision plot to 'collisions_partial.pdf'...\n"
     ]
    },
    {
     "data": {
      "image/png": "[encoded data removed]"
     },
     "metadata": {},
     "output_type": "display_data"
    }
   ],
   "source": [
    "def write_density_plot_for_partial_range_hashes(\n",
    "        population: Population,\n",
    "        top_names: tuple[str, ...],\n",
    "        filename: str,\n",
    "    ):\n",
    "    reports = list(reversed(population.reports))\n",
    "    hash_bound = population.hash_upper_bound\n",
    "    token_bound = population.token_upper_bound\n",
    "    fig = make_subplots()\n",
    "    for (i, report) in enumerate(reports):\n",
    "        y = np.random.normal(i, 0.12, size=len(report.outcomes))  # Add some jitter to the y-axis\n",
    "        fig.add_trace(go.Scatter(\n",
    "            x=report.outcomes,\n",
    "            y=y,\n",
    "            mode='markers',\n",
    "            name=report.name,\n",
    "            marker=dict(size=4, opacity=0.7, symbol=\"circle\"),\n",
    "        ))\n",
    "        if report.name in top_names:\n",
    "            fig.data[i].update(xaxis='x2')\n",
    "    # Add a dashed line to separate the first three functions\n",
    "    top_y = len(reports) - len(top_names) - 0.5\n",
    "    fig.add_shape(\n",
    "        type=\"line\",\n",
    "        x0=-0.16,\n",
    "        x1=1.2,\n",
    "        y0=top_y,\n",
    "        y1=top_y,\n",
    "        line_dash=\"dot\",\n",
    "        line_color=\"black\",\n",
    "        line_width=0.5,\n",
    "        xref='paper',\n",
    "        yref='y'\n",
    "    )\n",
    "    # Define tick values for both x-axes\n",
    "    bottom_ticks = [i for i in range(0, hash_bound + 1, hash_bound // 8)]\n",
    "    top_ticks = [i for i in range(0, token_bound + 1, token_bound // 8)]\n",
    "    # Define boldface for standard aggregation functions\n",
    "    tick_text = [f\"<b>{report.name}</b> \" if report.name in STANDARD_FUNCTIONS else f\"{report.name} \" for report in reports]\n",
    "    fig.update_layout(\n",
    "        xaxis=dict(\n",
    "            domain=[0, 1],\n",
    "            title=f'Scale for the bottom functions (values on {population.hash_size} bits)',\n",
    "            range=[0, hash_bound + 1],\n",
    "            tickvals=bottom_ticks,\n",
    "            ticktext=[str(tick) for tick in bottom_ticks],\n",
    "            showgrid=False,\n",
    "            zeroline=False,\n",
    "        ),\n",
    "        xaxis2=dict(\n",
    "            domain=[0, 1],\n",
    "            title=f'Scale for the top functions (values on {population.token_size} bits)',\n",
    "            range=[0, token_bound + 1],\n",
    "            tickvals=top_ticks,\n",
    "            ticktext=[str(tick) for tick in top_ticks],\n",
    "            overlaying='x',\n",
    "            side='top',\n",
    "            showgrid=False,\n",
    "            zeroline=False,\n",
    "            ticksuffix=\"   \",\n",
    "        ),\n",
    "        yaxis=dict(\n",
    "            title='',\n",
    "            tickvals=list(range(len(reports))),\n",
    "            ticktext=tick_text,\n",
    "            showgrid=True,\n",
    "            zeroline=False,\n",
    "            tickfont_family=\"Menlo\",\n",
    "            tickfont_size=14,\n",
    "        ),\n",
    "        font_size=12,\n",
    "        height=600,\n",
    "        width=800,\n",
    "        showlegend=False,\n",
    "        margin=dict(l=0, r=20, t=50, b=20),\n",
    "    )\n",
    "    print(f\"Writing density plot to {repr(filename)}...\")\n",
    "    fig.write_image(DEST / filename)\n",
    "    fig.show(renderer=\"png\")\n",
    "\n",
    "population = Population(\n",
    "    hash_size=10,\n",
    "    token_size=16,\n",
    "    individual_count=500,\n",
    "    individual_max_size=50,\n",
    ")\n",
    "population.calculate_reports()\n",
    "write_density_plot_for_partial_range_hashes(population, (\"checksum_agg\", \"sum\"), \"densities_partial.pdf\")\n",
    "write_collision_plot(population, 200, 300, \"collisions_partial.pdf\")\n"
   ]
  },
  {
   "cell_type": "markdown",
   "id": "d73adc6c",
   "metadata": {},
   "source": [
    "#### 4.5.5. Composition of the aggregation functions"
   ]
  },
  {
   "cell_type": "markdown",
   "id": "7a291b57",
   "metadata": {},
   "source": [
    "##### Fig. 9 : Group blindness"
   ]
  },
  {
   "cell_type": "code",
   "execution_count": 57,
   "id": "4b105e6b",
   "metadata": {},
   "outputs": [
    {
     "data": {
      "text/html": [
       "<table>\n",
       "    <thead>\n",
       "        <tr>\n",
       "            <th>sex</th>\n",
       "            <th>dependents</th>\n",
       "            <th>colliding_token</th>\n",
       "            <th>unique_token</th>\n",
       "        </tr>\n",
       "    </thead>\n",
       "    <tbody>\n",
       "        <tr>\n",
       "            <td>F</td>\n",
       "            <td>4</td>\n",
       "            <td>4064302514963</td>\n",
       "            <td>4044427803883</td>\n",
       "        </tr>\n",
       "        <tr>\n",
       "            <td>M</td>\n",
       "            <td>3</td>\n",
       "            <td>4064302514963</td>\n",
       "            <td>4044427803883</td>\n",
       "        </tr>\n",
       "    </tbody>\n",
       "</table>"
      ],
      "text/plain": [
       "+-----+------------+-----------------+---------------+\n",
       "| sex | dependents | colliding_token |  unique_token |\n",
       "+-----+------------+-----------------+---------------+\n",
       "|  F  |     4      |  4064302514963  | 4044427803883 |\n",
       "|  M  |     3      |  4064302514963  | 4044427803883 |\n",
       "+-----+------------+-----------------+---------------+"
      ]
     },
     "execution_count": 57,
     "metadata": {},
     "output_type": "execute_result"
    }
   ],
   "source": [
    "%%sql\n",
    "SELECT sex,\n",
    "       count(*) AS dependents,\n",
    "       sum(sum(nn(A.hash))) OVER () as colliding_token,\n",
    "       bit_xor(sum(nn(A.hash))) OVER () as unique_token\n",
    "FROM dependent A\n",
    "GROUP BY sex"
   ]
  },
  {
   "cell_type": "code",
   "execution_count": 58,
   "id": "c74f49bf",
   "metadata": {},
   "outputs": [
    {
     "data": {
      "text/html": [
       "<table>\n",
       "    <thead>\n",
       "        <tr>\n",
       "            <th>relationship</th>\n",
       "            <th>dependents</th>\n",
       "            <th>colliding_token</th>\n",
       "            <th>unique_token</th>\n",
       "        </tr>\n",
       "    </thead>\n",
       "    <tbody>\n",
       "        <tr>\n",
       "            <td>Daughter</td>\n",
       "            <td>2</td>\n",
       "            <td>4064302514963</td>\n",
       "            <td>96717520107</td>\n",
       "        </tr>\n",
       "        <tr>\n",
       "            <td>Spouse</td>\n",
       "            <td>3</td>\n",
       "            <td>4064302514963</td>\n",
       "            <td>96717520107</td>\n",
       "        </tr>\n",
       "        <tr>\n",
       "            <td>Son</td>\n",
       "            <td>2</td>\n",
       "            <td>4064302514963</td>\n",
       "            <td>96717520107</td>\n",
       "        </tr>\n",
       "    </tbody>\n",
       "</table>"
      ],
      "text/plain": [
       "+--------------+------------+-----------------+--------------+\n",
       "| relationship | dependents | colliding_token | unique_token |\n",
       "+--------------+------------+-----------------+--------------+\n",
       "|   Daughter   |     2      |  4064302514963  | 96717520107  |\n",
       "|    Spouse    |     3      |  4064302514963  | 96717520107  |\n",
       "|     Son      |     2      |  4064302514963  | 96717520107  |\n",
       "+--------------+------------+-----------------+--------------+"
      ]
     },
     "execution_count": 58,
     "metadata": {},
     "output_type": "execute_result"
    }
   ],
   "source": [
    "%%sql\n",
    "SELECT relationship,\n",
    "       count(*) AS dependents,\n",
    "       sum(sum(nn(A.hash))) OVER () as colliding_token,\n",
    "       bit_xor(sum(nn(A.hash))) OVER () as unique_token\n",
    "FROM dependent A\n",
    "GROUP BY relationship"
   ]
  },
  {
   "cell_type": "code",
   "execution_count": 59,
   "id": "77cff4eb",
   "metadata": {
    "scrolled": false
   },
   "outputs": [
    {
     "data": {
      "text/html": [
       "<table>\n",
       "    <thead>\n",
       "        <tr>\n",
       "            <th>dependents</th>\n",
       "            <th>colliding_token</th>\n",
       "            <th>unique_token</th>\n",
       "        </tr>\n",
       "    </thead>\n",
       "    <tbody>\n",
       "        <tr>\n",
       "            <td>7</td>\n",
       "            <td>4064302514963</td>\n",
       "            <td>4064302514963</td>\n",
       "        </tr>\n",
       "    </tbody>\n",
       "</table>"
      ],
      "text/plain": [
       "+------------+-----------------+---------------+\n",
       "| dependents | colliding_token |  unique_token |\n",
       "+------------+-----------------+---------------+\n",
       "|     7      |  4064302514963  | 4064302514963 |\n",
       "+------------+-----------------+---------------+"
      ]
     },
     "execution_count": 59,
     "metadata": {},
     "output_type": "execute_result"
    }
   ],
   "source": [
    "%%sql\n",
    "SELECT count(*) AS dependents,\n",
    "       sum(sum(nn(A.hash))) OVER () as colliding_token,\n",
    "       bit_xor(sum(nn(A.hash))) OVER () as unique_token\n",
    "FROM dependent A"
   ]
  },
  {
   "cell_type": "code",
   "execution_count": 60,
   "id": "3651abe4",
   "metadata": {},
   "outputs": [
    {
     "data": {
      "text/html": [
       "<table>\n",
       "    <thead>\n",
       "        <tr>\n",
       "            <th>dpt_name</th>\n",
       "            <th>dpt_id</th>\n",
       "            <th>manager_id</th>\n",
       "            <th>manager_start</th>\n",
       "            <th>hash</th>\n",
       "            <th>prj_name</th>\n",
       "            <th>prj_id</th>\n",
       "            <th>location</th>\n",
       "            <th>dpt_id_1</th>\n",
       "            <th>hash_1</th>\n",
       "            <th>token</th>\n",
       "        </tr>\n",
       "    </thead>\n",
       "    <tbody>\n",
       "        <tr>\n",
       "            <td>Headquarters</td>\n",
       "            <td>1</td>\n",
       "            <td>888665555</td>\n",
       "            <td>1981-06-19</td>\n",
       "            <td>790955228688</td>\n",
       "            <td>None</td>\n",
       "            <td>None</td>\n",
       "            <td>None</td>\n",
       "            <td>None</td>\n",
       "            <td>None</td>\n",
       "            <td>279141288002074</td>\n",
       "        </tr>\n",
       "        <tr>\n",
       "            <td>Administration</td>\n",
       "            <td>4</td>\n",
       "            <td>987654321</td>\n",
       "            <td>1995-01-01</td>\n",
       "            <td>949763730099</td>\n",
       "            <td>None</td>\n",
       "            <td>None</td>\n",
       "            <td>None</td>\n",
       "            <td>None</td>\n",
       "            <td>None</td>\n",
       "            <td>279141288002074</td>\n",
       "        </tr>\n",
       "        <tr>\n",
       "            <td>Research</td>\n",
       "            <td>5</td>\n",
       "            <td>333445555</td>\n",
       "            <td>1988-05-22</td>\n",
       "            <td>986628959564</td>\n",
       "            <td>None</td>\n",
       "            <td>None</td>\n",
       "            <td>None</td>\n",
       "            <td>None</td>\n",
       "            <td>None</td>\n",
       "            <td>279141288002074</td>\n",
       "        </tr>\n",
       "    </tbody>\n",
       "</table>"
      ],
      "text/plain": [
       "+----------------+--------+------------+---------------+--------------+----------+--------+----------+----------+--------+-----------------+\n",
       "|    dpt_name    | dpt_id | manager_id | manager_start |     hash     | prj_name | prj_id | location | dpt_id_1 | hash_1 |      token      |\n",
       "+----------------+--------+------------+---------------+--------------+----------+--------+----------+----------+--------+-----------------+\n",
       "|  Headquarters  |   1    | 888665555  |   1981-06-19  | 790955228688 |   None   |  None  |   None   |   None   |  None  | 279141288002074 |\n",
       "| Administration |   4    | 987654321  |   1995-01-01  | 949763730099 |   None   |  None  |   None   |   None   |  None  | 279141288002074 |\n",
       "|    Research    |   5    | 333445555  |   1988-05-22  | 986628959564 |   None   |  None  |   None   |   None   |  None  | 279141288002074 |\n",
       "+----------------+--------+------------+---------------+--------------+----------+--------+----------+----------+--------+-----------------+"
      ]
     },
     "execution_count": 60,
     "metadata": {},
     "output_type": "execute_result"
    }
   ],
   "source": [
    "%%sql\n",
    "SELECT *, salt_042(sum(nn(A.hash)) OVER ()) AS token\n",
    "FROM department A\n",
    "LEFT JOIN project B ON A.dpt_name = B.location"
   ]
  },
  {
   "cell_type": "code",
   "execution_count": 61,
   "id": "f4d76350",
   "metadata": {},
   "outputs": [
    {
     "data": {
      "text/html": [
       "<table>\n",
       "    <thead>\n",
       "        <tr>\n",
       "            <th>dpt_name</th>\n",
       "            <th>dpt_id</th>\n",
       "            <th>manager_id</th>\n",
       "            <th>manager_start</th>\n",
       "            <th>hash</th>\n",
       "            <th>dpt_id_1</th>\n",
       "            <th>location</th>\n",
       "            <th>hash_1</th>\n",
       "            <th>token</th>\n",
       "        </tr>\n",
       "    </thead>\n",
       "    <tbody>\n",
       "        <tr>\n",
       "            <td>Headquarters</td>\n",
       "            <td>1</td>\n",
       "            <td>888665555</td>\n",
       "            <td>1981-06-19</td>\n",
       "            <td>790955228688</td>\n",
       "            <td>None</td>\n",
       "            <td>None</td>\n",
       "            <td>None</td>\n",
       "            <td>279141288002074</td>\n",
       "        </tr>\n",
       "        <tr>\n",
       "            <td>Administration</td>\n",
       "            <td>4</td>\n",
       "            <td>987654321</td>\n",
       "            <td>1995-01-01</td>\n",
       "            <td>949763730099</td>\n",
       "            <td>None</td>\n",
       "            <td>None</td>\n",
       "            <td>None</td>\n",
       "            <td>279141288002074</td>\n",
       "        </tr>\n",
       "        <tr>\n",
       "            <td>Research</td>\n",
       "            <td>5</td>\n",
       "            <td>333445555</td>\n",
       "            <td>1988-05-22</td>\n",
       "            <td>986628959564</td>\n",
       "            <td>None</td>\n",
       "            <td>None</td>\n",
       "            <td>None</td>\n",
       "            <td>279141288002074</td>\n",
       "        </tr>\n",
       "    </tbody>\n",
       "</table>"
      ],
      "text/plain": [
       "+----------------+--------+------------+---------------+--------------+----------+----------+--------+-----------------+\n",
       "|    dpt_name    | dpt_id | manager_id | manager_start |     hash     | dpt_id_1 | location | hash_1 |      token      |\n",
       "+----------------+--------+------------+---------------+--------------+----------+----------+--------+-----------------+\n",
       "|  Headquarters  |   1    | 888665555  |   1981-06-19  | 790955228688 |   None   |   None   |  None  | 279141288002074 |\n",
       "| Administration |   4    | 987654321  |   1995-01-01  | 949763730099 |   None   |   None   |  None  | 279141288002074 |\n",
       "|    Research    |   5    | 333445555  |   1988-05-22  | 986628959564 |   None   |   None   |  None  | 279141288002074 |\n",
       "+----------------+--------+------------+---------------+--------------+----------+----------+--------+-----------------+"
      ]
     },
     "execution_count": 61,
     "metadata": {},
     "output_type": "execute_result"
    }
   ],
   "source": [
    "%%sql\n",
    "SELECT *, salt_042(sum(nn(A.hash)) OVER ()) AS token\n",
    "FROM department A\n",
    "LEFT JOIN dpt_locations B ON A.dpt_name = B.location"
   ]
  },
  {
   "cell_type": "markdown",
   "id": "54345a19",
   "metadata": {},
   "source": [
    "## 5. Life cycle of an SQLab database"
   ]
  },
  {
   "cell_type": "markdown",
   "id": "4638b9f4",
   "metadata": {},
   "source": [
    "## 6. Conclusion"
   ]
  },
  {
   "cell_type": "markdown",
   "id": "b50d045c",
   "metadata": {},
   "source": [
    "## A. Annexes"
   ]
  },
  {
   "cell_type": "markdown",
   "id": "117b3baa",
   "metadata": {},
   "source": [
    "### A.1. Supplementary figures and tables"
   ]
  },
  {
   "cell_type": "markdown",
   "id": "d5ca656b",
   "metadata": {},
   "source": [
    "##### Table 6 : A case of collision with `bit_xor()`"
   ]
  },
  {
   "cell_type": "markdown",
   "id": "7005eda6",
   "metadata": {},
   "source": [
    "Number of male dependents per employee (1-dimensional formulas)."
   ]
  },
  {
   "cell_type": "code",
   "execution_count": 62,
   "id": "36ce687e",
   "metadata": {
    "scrolled": false
   },
   "outputs": [
    {
     "data": {
      "text/html": [
       "<table>\n",
       "    <thead>\n",
       "        <tr>\n",
       "            <th>emp_id</th>\n",
       "            <th>count</th>\n",
       "            <th>colliding_token</th>\n",
       "            <th>distinct_token</th>\n",
       "        </tr>\n",
       "    </thead>\n",
       "    <tbody>\n",
       "        <tr>\n",
       "            <td>123456789</td>\n",
       "            <td>3</td>\n",
       "            <td>276085499732552</td>\n",
       "            <td>278507996506236</td>\n",
       "        </tr>\n",
       "        <tr>\n",
       "            <td>333445555</td>\n",
       "            <td>3</td>\n",
       "            <td>276085499732552</td>\n",
       "            <td>278507996506236</td>\n",
       "        </tr>\n",
       "        <tr>\n",
       "            <td>453453453</td>\n",
       "            <td>0</td>\n",
       "            <td>276085499732552</td>\n",
       "            <td>278507996506236</td>\n",
       "        </tr>\n",
       "        <tr>\n",
       "            <td>666884444</td>\n",
       "            <td>0</td>\n",
       "            <td>276085499732552</td>\n",
       "            <td>278507996506236</td>\n",
       "        </tr>\n",
       "        <tr>\n",
       "            <td>888665555</td>\n",
       "            <td>0</td>\n",
       "            <td>276085499732552</td>\n",
       "            <td>278507996506236</td>\n",
       "        </tr>\n",
       "        <tr>\n",
       "            <td>987654321</td>\n",
       "            <td>1</td>\n",
       "            <td>276085499732552</td>\n",
       "            <td>278507996506236</td>\n",
       "        </tr>\n",
       "        <tr>\n",
       "            <td>987987987</td>\n",
       "            <td>0</td>\n",
       "            <td>276085499732552</td>\n",
       "            <td>278507996506236</td>\n",
       "        </tr>\n",
       "        <tr>\n",
       "            <td>999887777</td>\n",
       "            <td>0</td>\n",
       "            <td>276085499732552</td>\n",
       "            <td>278507996506236</td>\n",
       "        </tr>\n",
       "    </tbody>\n",
       "</table>"
      ],
      "text/plain": [
       "+-----------+-------+-----------------+-----------------+\n",
       "|   emp_id  | count | colliding_token |  distinct_token |\n",
       "+-----------+-------+-----------------+-----------------+\n",
       "| 123456789 |   3   | 276085499732552 | 278507996506236 |\n",
       "| 333445555 |   3   | 276085499732552 | 278507996506236 |\n",
       "| 453453453 |   0   | 276085499732552 | 278507996506236 |\n",
       "| 666884444 |   0   | 276085499732552 | 278507996506236 |\n",
       "| 888665555 |   0   | 276085499732552 | 278507996506236 |\n",
       "| 987654321 |   1   | 276085499732552 | 278507996506236 |\n",
       "| 987987987 |   0   | 276085499732552 | 278507996506236 |\n",
       "| 999887777 |   0   | 276085499732552 | 278507996506236 |\n",
       "+-----------+-------+-----------------+-----------------+"
      ]
     },
     "execution_count": 62,
     "metadata": {},
     "output_type": "execute_result"
    }
   ],
   "source": [
    "%%sql\n",
    "SELECT A.emp_id,\n",
    "       count(B.emp_id) as count,\n",
    "       salt_042(sum(bit_xor(nn(A.hash))) OVER ()) AS colliding_token,\n",
    "       salt_042(bit_xor(sum(nn(A.hash))) OVER ()) AS distinct_token\n",
    "FROM employee A\n",
    "LEFT JOIN dependent B ON A.emp_id = B.emp_id\n",
    "GROUP BY A.emp_id"
   ]
  },
  {
   "cell_type": "code",
   "execution_count": 63,
   "id": "4d2bfdd6",
   "metadata": {
    "scrolled": true
   },
   "outputs": [
    {
     "data": {
      "text/html": [
       "<table>\n",
       "    <thead>\n",
       "        <tr>\n",
       "            <th>emp_id</th>\n",
       "            <th>count</th>\n",
       "            <th>colliding_token</th>\n",
       "            <th>distinct_token</th>\n",
       "        </tr>\n",
       "    </thead>\n",
       "    <tbody>\n",
       "        <tr>\n",
       "            <td>123456789</td>\n",
       "            <td>1</td>\n",
       "            <td>276085499732552</td>\n",
       "            <td>280652170274914</td>\n",
       "        </tr>\n",
       "        <tr>\n",
       "            <td>333445555</td>\n",
       "            <td>1</td>\n",
       "            <td>276085499732552</td>\n",
       "            <td>280652170274914</td>\n",
       "        </tr>\n",
       "        <tr>\n",
       "            <td>453453453</td>\n",
       "            <td>0</td>\n",
       "            <td>276085499732552</td>\n",
       "            <td>280652170274914</td>\n",
       "        </tr>\n",
       "        <tr>\n",
       "            <td>666884444</td>\n",
       "            <td>0</td>\n",
       "            <td>276085499732552</td>\n",
       "            <td>280652170274914</td>\n",
       "        </tr>\n",
       "        <tr>\n",
       "            <td>888665555</td>\n",
       "            <td>0</td>\n",
       "            <td>276085499732552</td>\n",
       "            <td>280652170274914</td>\n",
       "        </tr>\n",
       "        <tr>\n",
       "            <td>987654321</td>\n",
       "            <td>1</td>\n",
       "            <td>276085499732552</td>\n",
       "            <td>280652170274914</td>\n",
       "        </tr>\n",
       "        <tr>\n",
       "            <td>987987987</td>\n",
       "            <td>0</td>\n",
       "            <td>276085499732552</td>\n",
       "            <td>280652170274914</td>\n",
       "        </tr>\n",
       "        <tr>\n",
       "            <td>999887777</td>\n",
       "            <td>0</td>\n",
       "            <td>276085499732552</td>\n",
       "            <td>280652170274914</td>\n",
       "        </tr>\n",
       "    </tbody>\n",
       "</table>"
      ],
      "text/plain": [
       "+-----------+-------+-----------------+-----------------+\n",
       "|   emp_id  | count | colliding_token |  distinct_token |\n",
       "+-----------+-------+-----------------+-----------------+\n",
       "| 123456789 |   1   | 276085499732552 | 280652170274914 |\n",
       "| 333445555 |   1   | 276085499732552 | 280652170274914 |\n",
       "| 453453453 |   0   | 276085499732552 | 280652170274914 |\n",
       "| 666884444 |   0   | 276085499732552 | 280652170274914 |\n",
       "| 888665555 |   0   | 276085499732552 | 280652170274914 |\n",
       "| 987654321 |   1   | 276085499732552 | 280652170274914 |\n",
       "| 987987987 |   0   | 276085499732552 | 280652170274914 |\n",
       "| 999887777 |   0   | 276085499732552 | 280652170274914 |\n",
       "+-----------+-------+-----------------+-----------------+"
      ]
     },
     "execution_count": 63,
     "metadata": {},
     "output_type": "execute_result"
    }
   ],
   "source": [
    "%%sql\n",
    "SELECT A.emp_id,\n",
    "       count(B.emp_id) as count,\n",
    "       salt_042(sum(bit_xor(nn(A.hash))) OVER ()) AS colliding_token,\n",
    "       salt_042(bit_xor(sum(nn(A.hash))) OVER ()) AS distinct_token\n",
    "FROM employee A\n",
    "LEFT JOIN dependent B ON A.emp_id = B.emp_id AND B.sex = 'M' # note the added condition\n",
    "GROUP BY A.emp_id"
   ]
  },
  {
   "cell_type": "markdown",
   "id": "893aa7ab",
   "metadata": {},
   "source": [
    "Number of male dependents per employee (2-dimensional formulas)."
   ]
  },
  {
   "cell_type": "code",
   "execution_count": 64,
   "id": "b469013f",
   "metadata": {
    "scrolled": false
   },
   "outputs": [
    {
     "data": {
      "text/html": [
       "<table>\n",
       "    <thead>\n",
       "        <tr>\n",
       "            <th>emp_id</th>\n",
       "            <th>count</th>\n",
       "            <th>distinct_token_1</th>\n",
       "            <th>distinct_token_2</th>\n",
       "        </tr>\n",
       "    </thead>\n",
       "    <tbody>\n",
       "        <tr>\n",
       "            <td>123456789</td>\n",
       "            <td>3</td>\n",
       "            <td>276694093662246</td>\n",
       "            <td>273091728884800</td>\n",
       "        </tr>\n",
       "        <tr>\n",
       "            <td>333445555</td>\n",
       "            <td>3</td>\n",
       "            <td>276694093662246</td>\n",
       "            <td>273091728884800</td>\n",
       "        </tr>\n",
       "        <tr>\n",
       "            <td>453453453</td>\n",
       "            <td>0</td>\n",
       "            <td>276694093662246</td>\n",
       "            <td>273091728884800</td>\n",
       "        </tr>\n",
       "        <tr>\n",
       "            <td>666884444</td>\n",
       "            <td>0</td>\n",
       "            <td>276694093662246</td>\n",
       "            <td>273091728884800</td>\n",
       "        </tr>\n",
       "        <tr>\n",
       "            <td>888665555</td>\n",
       "            <td>0</td>\n",
       "            <td>276694093662246</td>\n",
       "            <td>273091728884800</td>\n",
       "        </tr>\n",
       "        <tr>\n",
       "            <td>987654321</td>\n",
       "            <td>1</td>\n",
       "            <td>276694093662246</td>\n",
       "            <td>273091728884800</td>\n",
       "        </tr>\n",
       "        <tr>\n",
       "            <td>987987987</td>\n",
       "            <td>0</td>\n",
       "            <td>276694093662246</td>\n",
       "            <td>273091728884800</td>\n",
       "        </tr>\n",
       "        <tr>\n",
       "            <td>999887777</td>\n",
       "            <td>0</td>\n",
       "            <td>276694093662246</td>\n",
       "            <td>273091728884800</td>\n",
       "        </tr>\n",
       "    </tbody>\n",
       "</table>"
      ],
      "text/plain": [
       "+-----------+-------+------------------+------------------+\n",
       "|   emp_id  | count | distinct_token_1 | distinct_token_2 |\n",
       "+-----------+-------+------------------+------------------+\n",
       "| 123456789 |   3   | 276694093662246  | 273091728884800  |\n",
       "| 333445555 |   3   | 276694093662246  | 273091728884800  |\n",
       "| 453453453 |   0   | 276694093662246  | 273091728884800  |\n",
       "| 666884444 |   0   | 276694093662246  | 273091728884800  |\n",
       "| 888665555 |   0   | 276694093662246  | 273091728884800  |\n",
       "| 987654321 |   1   | 276694093662246  | 273091728884800  |\n",
       "| 987987987 |   0   | 276694093662246  | 273091728884800  |\n",
       "| 999887777 |   0   | 276694093662246  | 273091728884800  |\n",
       "+-----------+-------+------------------+------------------+"
      ]
     },
     "execution_count": 64,
     "metadata": {},
     "output_type": "execute_result"
    }
   ],
   "source": [
    "%%sql\n",
    "SELECT A.emp_id,\n",
    "       count(B.emp_id) as count,\n",
    "       salt_042(sum(bit_xor(nn(A.hash + B.hash))) OVER ()) AS distinct_token_1,\n",
    "       salt_042(bit_xor(sum(nn(A.hash + B.hash))) OVER ()) AS distinct_token_2\n",
    "FROM employee A\n",
    "LEFT JOIN dependent B ON A.emp_id = B.emp_id\n",
    "GROUP BY A.emp_id"
   ]
  },
  {
   "cell_type": "code",
   "execution_count": 65,
   "id": "75f81fa9",
   "metadata": {
    "scrolled": true
   },
   "outputs": [
    {
     "data": {
      "text/html": [
       "<table>\n",
       "    <thead>\n",
       "        <tr>\n",
       "            <th>emp_id</th>\n",
       "            <th>count</th>\n",
       "            <th>distinct_token_1</th>\n",
       "            <th>distinct_token_2</th>\n",
       "        </tr>\n",
       "    </thead>\n",
       "    <tbody>\n",
       "        <tr>\n",
       "            <td>123456789</td>\n",
       "            <td>1</td>\n",
       "            <td>277334321209808</td>\n",
       "            <td>281226230323412</td>\n",
       "        </tr>\n",
       "        <tr>\n",
       "            <td>333445555</td>\n",
       "            <td>1</td>\n",
       "            <td>277334321209808</td>\n",
       "            <td>281226230323412</td>\n",
       "        </tr>\n",
       "        <tr>\n",
       "            <td>453453453</td>\n",
       "            <td>0</td>\n",
       "            <td>277334321209808</td>\n",
       "            <td>281226230323412</td>\n",
       "        </tr>\n",
       "        <tr>\n",
       "            <td>666884444</td>\n",
       "            <td>0</td>\n",
       "            <td>277334321209808</td>\n",
       "            <td>281226230323412</td>\n",
       "        </tr>\n",
       "        <tr>\n",
       "            <td>888665555</td>\n",
       "            <td>0</td>\n",
       "            <td>277334321209808</td>\n",
       "            <td>281226230323412</td>\n",
       "        </tr>\n",
       "        <tr>\n",
       "            <td>987654321</td>\n",
       "            <td>1</td>\n",
       "            <td>277334321209808</td>\n",
       "            <td>281226230323412</td>\n",
       "        </tr>\n",
       "        <tr>\n",
       "            <td>987987987</td>\n",
       "            <td>0</td>\n",
       "            <td>277334321209808</td>\n",
       "            <td>281226230323412</td>\n",
       "        </tr>\n",
       "        <tr>\n",
       "            <td>999887777</td>\n",
       "            <td>0</td>\n",
       "            <td>277334321209808</td>\n",
       "            <td>281226230323412</td>\n",
       "        </tr>\n",
       "    </tbody>\n",
       "</table>"
      ],
      "text/plain": [
       "+-----------+-------+------------------+------------------+\n",
       "|   emp_id  | count | distinct_token_1 | distinct_token_2 |\n",
       "+-----------+-------+------------------+------------------+\n",
       "| 123456789 |   1   | 277334321209808  | 281226230323412  |\n",
       "| 333445555 |   1   | 277334321209808  | 281226230323412  |\n",
       "| 453453453 |   0   | 277334321209808  | 281226230323412  |\n",
       "| 666884444 |   0   | 277334321209808  | 281226230323412  |\n",
       "| 888665555 |   0   | 277334321209808  | 281226230323412  |\n",
       "| 987654321 |   1   | 277334321209808  | 281226230323412  |\n",
       "| 987987987 |   0   | 277334321209808  | 281226230323412  |\n",
       "| 999887777 |   0   | 277334321209808  | 281226230323412  |\n",
       "+-----------+-------+------------------+------------------+"
      ]
     },
     "execution_count": 65,
     "metadata": {},
     "output_type": "execute_result"
    }
   ],
   "source": [
    "%%sql\n",
    "SELECT A.emp_id,\n",
    "       count(B.emp_id) as count,\n",
    "       salt_042(sum(bit_xor(nn(A.hash + B.hash))) OVER ()) AS distinct_token_1,\n",
    "       salt_042(bit_xor(sum(nn(A.hash + B.hash))) OVER ()) AS distinct_token_2\n",
    "FROM employee A\n",
    "LEFT JOIN dependent B ON A.emp_id = B.emp_id AND B.sex = 'M' # note the added condition\n",
    "GROUP BY A.emp_id"
   ]
  },
  {
   "cell_type": "markdown",
   "id": "e24b73b0",
   "metadata": {},
   "source": [
    "##### Table 7 : Six queries to find the employees who work 40 hours"
   ]
  },
  {
   "cell_type": "code",
   "execution_count": 66,
   "id": "03c6dbf8",
   "metadata": {
    "cell_style": "split"
   },
   "outputs": [
    {
     "data": {
      "text/html": [
       "<table>\n",
       "    <thead>\n",
       "        <tr>\n",
       "            <th>emp_id</th>\n",
       "            <th>emp_name</th>\n",
       "            <th>token</th>\n",
       "        </tr>\n",
       "    </thead>\n",
       "    <tbody>\n",
       "        <tr>\n",
       "            <td>123456789</td>\n",
       "            <td>John B. Smith</td>\n",
       "            <td>7423162448748</td>\n",
       "        </tr>\n",
       "        <tr>\n",
       "            <td>333445555</td>\n",
       "            <td>Franklin T. Wong</td>\n",
       "            <td>7423162448748</td>\n",
       "        </tr>\n",
       "        <tr>\n",
       "            <td>453453453</td>\n",
       "            <td>Joyce A. English</td>\n",
       "            <td>7423162448748</td>\n",
       "        </tr>\n",
       "        <tr>\n",
       "            <td>666884444</td>\n",
       "            <td>Ramesh K. Narayan</td>\n",
       "            <td>7423162448748</td>\n",
       "        </tr>\n",
       "        <tr>\n",
       "            <td>987987987</td>\n",
       "            <td>Ahmad V. Jabbar</td>\n",
       "            <td>7423162448748</td>\n",
       "        </tr>\n",
       "        <tr>\n",
       "            <td>999887777</td>\n",
       "            <td>Alicia J. Zelaya</td>\n",
       "            <td>7423162448748</td>\n",
       "        </tr>\n",
       "    </tbody>\n",
       "</table>"
      ],
      "text/plain": [
       "+-----------+-------------------+---------------+\n",
       "|   emp_id  |      emp_name     |     token     |\n",
       "+-----------+-------------------+---------------+\n",
       "| 123456789 |   John B. Smith   | 7423162448748 |\n",
       "| 333445555 |  Franklin T. Wong | 7423162448748 |\n",
       "| 453453453 |  Joyce A. English | 7423162448748 |\n",
       "| 666884444 | Ramesh K. Narayan | 7423162448748 |\n",
       "| 987987987 |  Ahmad V. Jabbar  | 7423162448748 |\n",
       "| 999887777 |  Alicia J. Zelaya | 7423162448748 |\n",
       "+-----------+-------------------+---------------+"
      ]
     },
     "execution_count": 66,
     "metadata": {},
     "output_type": "execute_result"
    }
   ],
   "source": [
    "%%sql\n",
    "-- A1\n",
    "SELECT emp_id\n",
    "     , emp_name\n",
    "     , bit_xor(sum(A.hash + B.hash)) OVER () AS token\n",
    "FROM employee A\n",
    "JOIN works_on B USING (emp_id)\n",
    "GROUP BY A.emp_id\n",
    "HAVING 40 = sum(hours)"
   ]
  },
  {
   "cell_type": "code",
   "execution_count": 67,
   "id": "2017fd92",
   "metadata": {
    "cell_style": "split"
   },
   "outputs": [
    {
     "data": {
      "text/html": [
       "<table>\n",
       "    <thead>\n",
       "        <tr>\n",
       "            <th>emp_id</th>\n",
       "            <th>emp_name</th>\n",
       "            <th>token</th>\n",
       "        </tr>\n",
       "    </thead>\n",
       "    <tbody>\n",
       "        <tr>\n",
       "            <td>123456789</td>\n",
       "            <td>John B. Smith</td>\n",
       "            <td>7423162448748</td>\n",
       "        </tr>\n",
       "        <tr>\n",
       "            <td>333445555</td>\n",
       "            <td>Franklin T. Wong</td>\n",
       "            <td>7423162448748</td>\n",
       "        </tr>\n",
       "        <tr>\n",
       "            <td>453453453</td>\n",
       "            <td>Joyce A. English</td>\n",
       "            <td>7423162448748</td>\n",
       "        </tr>\n",
       "        <tr>\n",
       "            <td>666884444</td>\n",
       "            <td>Ramesh K. Narayan</td>\n",
       "            <td>7423162448748</td>\n",
       "        </tr>\n",
       "        <tr>\n",
       "            <td>987987987</td>\n",
       "            <td>Ahmad V. Jabbar</td>\n",
       "            <td>7423162448748</td>\n",
       "        </tr>\n",
       "        <tr>\n",
       "            <td>999887777</td>\n",
       "            <td>Alicia J. Zelaya</td>\n",
       "            <td>7423162448748</td>\n",
       "        </tr>\n",
       "    </tbody>\n",
       "</table>"
      ],
      "text/plain": [
       "+-----------+-------------------+---------------+\n",
       "|   emp_id  |      emp_name     |     token     |\n",
       "+-----------+-------------------+---------------+\n",
       "| 123456789 |   John B. Smith   | 7423162448748 |\n",
       "| 333445555 |  Franklin T. Wong | 7423162448748 |\n",
       "| 453453453 |  Joyce A. English | 7423162448748 |\n",
       "| 666884444 | Ramesh K. Narayan | 7423162448748 |\n",
       "| 987987987 |  Ahmad V. Jabbar  | 7423162448748 |\n",
       "| 999887777 |  Alicia J. Zelaya | 7423162448748 |\n",
       "+-----------+-------------------+---------------+"
      ]
     },
     "execution_count": 67,
     "metadata": {},
     "output_type": "execute_result"
    }
   ],
   "source": [
    "%%sql\n",
    "-- A2\n",
    "WITH derived_table AS (\n",
    "  SELECT emp_id\n",
    "       , emp_name\n",
    "       , sum(hours) AS sum_hours\n",
    "       , sum(A.hash) as A_hash\n",
    "       , sum(B.hash) as B_hash\n",
    "  FROM employee A\n",
    "  JOIN works_on B USING (emp_id)\n",
    "  GROUP BY A.emp_id\n",
    ")\n",
    "SELECT emp_id\n",
    "     , emp_name\n",
    "     , bit_xor(A_hash + B_hash) OVER () AS token\n",
    "FROM derived_table\n",
    "WHERE 40 = sum_hours"
   ]
  },
  {
   "cell_type": "code",
   "execution_count": 68,
   "id": "4ebc250c",
   "metadata": {
    "cell_style": "split"
   },
   "outputs": [
    {
     "data": {
      "text/html": [
       "<table>\n",
       "    <thead>\n",
       "        <tr>\n",
       "            <th>emp_id</th>\n",
       "            <th>emp_name</th>\n",
       "            <th>token</th>\n",
       "        </tr>\n",
       "    </thead>\n",
       "    <tbody>\n",
       "        <tr>\n",
       "            <td>123456789</td>\n",
       "            <td>John B. Smith</td>\n",
       "            <td>3195565435807</td>\n",
       "        </tr>\n",
       "        <tr>\n",
       "            <td>333445555</td>\n",
       "            <td>Franklin T. Wong</td>\n",
       "            <td>3195565435807</td>\n",
       "        </tr>\n",
       "        <tr>\n",
       "            <td>453453453</td>\n",
       "            <td>Joyce A. English</td>\n",
       "            <td>3195565435807</td>\n",
       "        </tr>\n",
       "        <tr>\n",
       "            <td>666884444</td>\n",
       "            <td>Ramesh K. Narayan</td>\n",
       "            <td>3195565435807</td>\n",
       "        </tr>\n",
       "        <tr>\n",
       "            <td>987987987</td>\n",
       "            <td>Ahmad V. Jabbar</td>\n",
       "            <td>3195565435807</td>\n",
       "        </tr>\n",
       "        <tr>\n",
       "            <td>999887777</td>\n",
       "            <td>Alicia J. Zelaya</td>\n",
       "            <td>3195565435807</td>\n",
       "        </tr>\n",
       "    </tbody>\n",
       "</table>"
      ],
      "text/plain": [
       "+-----------+-------------------+---------------+\n",
       "|   emp_id  |      emp_name     |     token     |\n",
       "+-----------+-------------------+---------------+\n",
       "| 123456789 |   John B. Smith   | 3195565435807 |\n",
       "| 333445555 |  Franklin T. Wong | 3195565435807 |\n",
       "| 453453453 |  Joyce A. English | 3195565435807 |\n",
       "| 666884444 | Ramesh K. Narayan | 3195565435807 |\n",
       "| 987987987 |  Ahmad V. Jabbar  | 3195565435807 |\n",
       "| 999887777 |  Alicia J. Zelaya | 3195565435807 |\n",
       "+-----------+-------------------+---------------+"
      ]
     },
     "execution_count": 68,
     "metadata": {},
     "output_type": "execute_result"
    }
   ],
   "source": [
    "%%sql\n",
    "-- B1\n",
    "SELECT emp_id\n",
    "     , emp_name\n",
    "     , sum(A.hash) OVER () AS token\n",
    "FROM employee A\n",
    "WHERE 40 = (\n",
    "  SELECT sum(hours)\n",
    "  FROM works_on B\n",
    "  WHERE A.emp_id = B.emp_id\n",
    ")"
   ]
  },
  {
   "cell_type": "code",
   "execution_count": 69,
   "id": "0be26d28",
   "metadata": {
    "cell_style": "split"
   },
   "outputs": [
    {
     "data": {
      "text/html": [
       "<table>\n",
       "    <thead>\n",
       "        <tr>\n",
       "            <th>emp_id</th>\n",
       "            <th>emp_name</th>\n",
       "            <th>token</th>\n",
       "        </tr>\n",
       "    </thead>\n",
       "    <tbody>\n",
       "        <tr>\n",
       "            <td>123456789</td>\n",
       "            <td>John B. Smith</td>\n",
       "            <td>3195565435807</td>\n",
       "        </tr>\n",
       "        <tr>\n",
       "            <td>333445555</td>\n",
       "            <td>Franklin T. Wong</td>\n",
       "            <td>3195565435807</td>\n",
       "        </tr>\n",
       "        <tr>\n",
       "            <td>453453453</td>\n",
       "            <td>Joyce A. English</td>\n",
       "            <td>3195565435807</td>\n",
       "        </tr>\n",
       "        <tr>\n",
       "            <td>666884444</td>\n",
       "            <td>Ramesh K. Narayan</td>\n",
       "            <td>3195565435807</td>\n",
       "        </tr>\n",
       "        <tr>\n",
       "            <td>987987987</td>\n",
       "            <td>Ahmad V. Jabbar</td>\n",
       "            <td>3195565435807</td>\n",
       "        </tr>\n",
       "        <tr>\n",
       "            <td>999887777</td>\n",
       "            <td>Alicia J. Zelaya</td>\n",
       "            <td>3195565435807</td>\n",
       "        </tr>\n",
       "    </tbody>\n",
       "</table>"
      ],
      "text/plain": [
       "+-----------+-------------------+---------------+\n",
       "|   emp_id  |      emp_name     |     token     |\n",
       "+-----------+-------------------+---------------+\n",
       "| 123456789 |   John B. Smith   | 3195565435807 |\n",
       "| 333445555 |  Franklin T. Wong | 3195565435807 |\n",
       "| 453453453 |  Joyce A. English | 3195565435807 |\n",
       "| 666884444 | Ramesh K. Narayan | 3195565435807 |\n",
       "| 987987987 |  Ahmad V. Jabbar  | 3195565435807 |\n",
       "| 999887777 |  Alicia J. Zelaya | 3195565435807 |\n",
       "+-----------+-------------------+---------------+"
      ]
     },
     "execution_count": 69,
     "metadata": {},
     "output_type": "execute_result"
    }
   ],
   "source": [
    "%%sql\n",
    "-- B2\n",
    "WITH derived_table AS (\n",
    "  SELECT\n",
    "      ( SELECT emp_id\n",
    "        FROM works_on B\n",
    "        WHERE A.emp_id = B.emp_id\n",
    "        GROUP BY emp_id\n",
    "        HAVING 40 = sum(hours)\n",
    "      ) AS emp_id\n",
    "      , emp_name\n",
    "      , hash\n",
    "  FROM employee A\n",
    ")\n",
    "SELECT emp_id\n",
    "     , emp_name\n",
    "     , sum(A.hash) OVER () AS token\n",
    "FROM derived_table A\n",
    "WHERE emp_id IS NOT NULL"
   ]
  },
  {
   "cell_type": "code",
   "execution_count": 70,
   "id": "5e150ffd",
   "metadata": {
    "cell_style": "split"
   },
   "outputs": [
    {
     "data": {
      "text/html": [
       "<table>\n",
       "    <thead>\n",
       "        <tr>\n",
       "            <th>emp_id</th>\n",
       "            <th>emp_name</th>\n",
       "            <th>token</th>\n",
       "        </tr>\n",
       "    </thead>\n",
       "    <tbody>\n",
       "        <tr>\n",
       "            <td>123456789</td>\n",
       "            <td>John B. Smith</td>\n",
       "            <td>10206132131194</td>\n",
       "        </tr>\n",
       "        <tr>\n",
       "            <td>333445555</td>\n",
       "            <td>Franklin T. Wong</td>\n",
       "            <td>10206132131194</td>\n",
       "        </tr>\n",
       "        <tr>\n",
       "            <td>453453453</td>\n",
       "            <td>Joyce A. English</td>\n",
       "            <td>10206132131194</td>\n",
       "        </tr>\n",
       "        <tr>\n",
       "            <td>666884444</td>\n",
       "            <td>Ramesh K. Narayan</td>\n",
       "            <td>10206132131194</td>\n",
       "        </tr>\n",
       "        <tr>\n",
       "            <td>987987987</td>\n",
       "            <td>Ahmad V. Jabbar</td>\n",
       "            <td>10206132131194</td>\n",
       "        </tr>\n",
       "        <tr>\n",
       "            <td>999887777</td>\n",
       "            <td>Alicia J. Zelaya</td>\n",
       "            <td>10206132131194</td>\n",
       "        </tr>\n",
       "    </tbody>\n",
       "</table>"
      ],
      "text/plain": [
       "+-----------+-------------------+----------------+\n",
       "|   emp_id  |      emp_name     |     token      |\n",
       "+-----------+-------------------+----------------+\n",
       "| 123456789 |   John B. Smith   | 10206132131194 |\n",
       "| 333445555 |  Franklin T. Wong | 10206132131194 |\n",
       "| 453453453 |  Joyce A. English | 10206132131194 |\n",
       "| 666884444 | Ramesh K. Narayan | 10206132131194 |\n",
       "| 987987987 |  Ahmad V. Jabbar  | 10206132131194 |\n",
       "| 999887777 |  Alicia J. Zelaya | 10206132131194 |\n",
       "+-----------+-------------------+----------------+"
      ]
     },
     "execution_count": 70,
     "metadata": {},
     "output_type": "execute_result"
    }
   ],
   "source": [
    "%%sql\n",
    "-- C1\n",
    "WITH derived_table AS (\n",
    "  SELECT emp_id\n",
    "       , sum(hours) as sum_hours\n",
    "       , sum(hash) as hash\n",
    "  FROM works_on\n",
    "  GROUP BY emp_id\n",
    "  HAVING 40 = sum(hours)\n",
    ")\n",
    "SELECT emp_id\n",
    "     , emp_name\n",
    "     , sum(A.hash + B.hash) OVER () AS token\n",
    "FROM employee A\n",
    "JOIN derived_table B USING (emp_id)"
   ]
  },
  {
   "cell_type": "code",
   "execution_count": 71,
   "id": "bc369dd6",
   "metadata": {
    "cell_style": "split"
   },
   "outputs": [
    {
     "data": {
      "text/html": [
       "<table>\n",
       "    <thead>\n",
       "        <tr>\n",
       "            <th>emp_id</th>\n",
       "            <th>emp_name</th>\n",
       "            <th>token</th>\n",
       "        </tr>\n",
       "    </thead>\n",
       "    <tbody>\n",
       "        <tr>\n",
       "            <td>123456789</td>\n",
       "            <td>John B. Smith</td>\n",
       "            <td>10206132131194</td>\n",
       "        </tr>\n",
       "        <tr>\n",
       "            <td>333445555</td>\n",
       "            <td>Franklin T. Wong</td>\n",
       "            <td>10206132131194</td>\n",
       "        </tr>\n",
       "        <tr>\n",
       "            <td>453453453</td>\n",
       "            <td>Joyce A. English</td>\n",
       "            <td>10206132131194</td>\n",
       "        </tr>\n",
       "        <tr>\n",
       "            <td>666884444</td>\n",
       "            <td>Ramesh K. Narayan</td>\n",
       "            <td>10206132131194</td>\n",
       "        </tr>\n",
       "        <tr>\n",
       "            <td>987987987</td>\n",
       "            <td>Ahmad V. Jabbar</td>\n",
       "            <td>10206132131194</td>\n",
       "        </tr>\n",
       "        <tr>\n",
       "            <td>999887777</td>\n",
       "            <td>Alicia J. Zelaya</td>\n",
       "            <td>10206132131194</td>\n",
       "        </tr>\n",
       "    </tbody>\n",
       "</table>"
      ],
      "text/plain": [
       "+-----------+-------------------+----------------+\n",
       "|   emp_id  |      emp_name     |     token      |\n",
       "+-----------+-------------------+----------------+\n",
       "| 123456789 |   John B. Smith   | 10206132131194 |\n",
       "| 333445555 |  Franklin T. Wong | 10206132131194 |\n",
       "| 453453453 |  Joyce A. English | 10206132131194 |\n",
       "| 666884444 | Ramesh K. Narayan | 10206132131194 |\n",
       "| 987987987 |  Ahmad V. Jabbar  | 10206132131194 |\n",
       "| 999887777 |  Alicia J. Zelaya | 10206132131194 |\n",
       "+-----------+-------------------+----------------+"
      ]
     },
     "execution_count": 71,
     "metadata": {},
     "output_type": "execute_result"
    }
   ],
   "source": [
    "%%sql\n",
    "-- C2\n",
    "WITH derived_table AS (\n",
    "  SELECT emp_id\n",
    "       , sum(hours) as sum_hours\n",
    "       , sum(hash) as hash\n",
    "  FROM works_on\n",
    "  GROUP BY emp_id\n",
    ")\n",
    "SELECT emp_id\n",
    "     , emp_name\n",
    "     , sum(A.hash + B.hash) OVER () AS token\n",
    "FROM employee A\n",
    "JOIN derived_table B USING (emp_id)\n",
    "WHERE 40 = sum_hours"
   ]
  },
  {
   "cell_type": "markdown",
   "id": "daca0da3",
   "metadata": {},
   "source": [
    "### A.4. Default handling of unintended formulas in three DBMSs"
   ]
  },
  {
   "cell_type": "markdown",
   "id": "7e7779ce",
   "metadata": {},
   "source": [
    "##### Another example of two equivalent queries requiring distinct formulas"
   ]
  },
  {
   "cell_type": "markdown",
   "id": "164a0190",
   "metadata": {},
   "source": [
    "**NB.** Errors specific to MySQL."
   ]
  },
  {
   "cell_type": "code",
   "execution_count": 72,
   "id": "bf126038",
   "metadata": {
    "scrolled": false
   },
   "outputs": [
    {
     "name": "stderr",
     "output_type": "stream",
     "text": [
      "RuntimeError: (pymysql.err.OperationalError) (1140, \"In aggregated query without GROUP BY, expression #1 of SELECT list contains nonaggregated column 'sqlab_company.dpt_locations.location'; this is incompatible with sql_mode=only_full_group_by\")\n",
      "[SQL: SELECT DISTINCT location\n",
      ", bit_xor(sum(hash)) OVER () AS token\n",
      "FROM dpt_locations]\n",
      "(Background on this error at: https://sqlalche.me/e/20/e3q8)\n",
      "If you need help solving this issue, send us a message: https://ploomber.io/community\n"
     ]
    }
   ],
   "source": [
    "%%sql\n",
    "SELECT DISTINCT location # Non-aggregated queries are incompatible with...\n",
    "              , bit_xor(sum(hash)) OVER () AS token # Formula 1.2\n",
    "FROM dpt_locations"
   ]
  },
  {
   "cell_type": "code",
   "execution_count": 73,
   "id": "a32261b2",
   "metadata": {
    "scrolled": true
   },
   "outputs": [
    {
     "data": {
      "text/html": [
       "<table>\n",
       "    <thead>\n",
       "        <tr>\n",
       "            <th>location</th>\n",
       "            <th>token</th>\n",
       "        </tr>\n",
       "    </thead>\n",
       "    <tbody>\n",
       "        <tr>\n",
       "            <td>Houston</td>\n",
       "            <td>1498752128146</td>\n",
       "        </tr>\n",
       "        <tr>\n",
       "            <td>Stafford</td>\n",
       "            <td>1498752128146</td>\n",
       "        </tr>\n",
       "        <tr>\n",
       "            <td>Bellaire</td>\n",
       "            <td>1498752128146</td>\n",
       "        </tr>\n",
       "        <tr>\n",
       "            <td>Sugarland</td>\n",
       "            <td>1498752128146</td>\n",
       "        </tr>\n",
       "    </tbody>\n",
       "</table>"
      ],
      "text/plain": [
       "+-----------+---------------+\n",
       "|  location |     token     |\n",
       "+-----------+---------------+\n",
       "|  Houston  | 1498752128146 |\n",
       "|  Stafford | 1498752128146 |\n",
       "|  Bellaire | 1498752128146 |\n",
       "| Sugarland | 1498752128146 |\n",
       "+-----------+---------------+"
      ]
     },
     "execution_count": 73,
     "metadata": {},
     "output_type": "execute_result"
    }
   ],
   "source": [
    "%%sql\n",
    "SELECT location # Fix: use an aggregated query, compatible with...\n",
    "     , bit_xor(sum(hash)) OVER () AS token # Formula 1.2\n",
    "FROM dpt_locations\n",
    "GROUP BY location"
   ]
  },
  {
   "cell_type": "code",
   "execution_count": 74,
   "id": "5e70ad6b",
   "metadata": {
    "scrolled": true
   },
   "outputs": [
    {
     "name": "stderr",
     "output_type": "stream",
     "text": [
      "RuntimeError: (pymysql.err.OperationalError) (1055, \"Expression #2 of SELECT list is not in GROUP BY clause and contains nonaggregated column 'sqlab_company.dpt_locations.hash' which is not functionally dependent on columns in GROUP BY clause; this is incompatible with sql_mode=only_full_group_by\")\n",
      "[SQL: SELECT location\n",
      ", sum(hash) OVER () AS token\n",
      "FROM dpt_locations\n",
      "GROUP BY location]\n",
      "(Background on this error at: https://sqlalche.me/e/20/e3q8)\n",
      "If you need help solving this issue, send us a message: https://ploomber.io/community\n"
     ]
    }
   ],
   "source": [
    "%%sql\n",
    "SELECT location # Aggregated queries are incompatible with...\n",
    "     , sum(hash) OVER () AS token # Formula 1.1\n",
    "FROM dpt_locations\n",
    "GROUP BY location"
   ]
  },
  {
   "cell_type": "code",
   "execution_count": 75,
   "id": "bbc3ef54",
   "metadata": {},
   "outputs": [
    {
     "data": {
      "text/html": [
       "<table>\n",
       "    <thead>\n",
       "        <tr>\n",
       "            <th>location</th>\n",
       "            <th>token</th>\n",
       "        </tr>\n",
       "    </thead>\n",
       "    <tbody>\n",
       "        <tr>\n",
       "            <td>Houston</td>\n",
       "            <td>3967038911436</td>\n",
       "        </tr>\n",
       "        <tr>\n",
       "            <td>Stafford</td>\n",
       "            <td>3967038911436</td>\n",
       "        </tr>\n",
       "        <tr>\n",
       "            <td>Bellaire</td>\n",
       "            <td>3967038911436</td>\n",
       "        </tr>\n",
       "        <tr>\n",
       "            <td>Sugarland</td>\n",
       "            <td>3967038911436</td>\n",
       "        </tr>\n",
       "    </tbody>\n",
       "</table>"
      ],
      "text/plain": [
       "+-----------+---------------+\n",
       "|  location |     token     |\n",
       "+-----------+---------------+\n",
       "|  Houston  | 3967038911436 |\n",
       "|  Stafford | 3967038911436 |\n",
       "|  Bellaire | 3967038911436 |\n",
       "| Sugarland | 3967038911436 |\n",
       "+-----------+---------------+"
      ]
     },
     "execution_count": 75,
     "metadata": {},
     "output_type": "execute_result"
    }
   ],
   "source": [
    "%%sql\n",
    "SELECT DISTINCT location # Fix: use a non-aggregated query, compatible with..\n",
    "              , sum(hash) OVER () AS token # Formula 1.1\n",
    "FROM dpt_locations"
   ]
  },
  {
   "cell_type": "code",
   "execution_count": null,
   "id": "c2773f2d",
   "metadata": {},
   "outputs": [],
   "source": []
  }
 ],
 "metadata": {
  "hide_input": false,
  "kernelspec": {
   "display_name": "Python 3 (ipykernel)",
   "language": "python",
   "name": "python3"
  },
  "language_info": {
   "codemirror_mode": {
    "name": "ipython",
    "version": 3
   },
   "file_extension": ".py",
   "mimetype": "text/x-python",
   "name": "python",
   "nbconvert_exporter": "python",
   "pygments_lexer": "ipython3",
   "version": "3.9.13"
  },
  "toc": {
   "base_numbering": 1,
   "nav_menu": {},
   "number_sections": false,
   "sideBar": true,
   "skip_h1_title": true,
   "title_cell": "Learning SQL from Within (accompanying code)",
   "title_sidebar": "Learning SQL from Within",
   "toc_cell": true,
   "toc_position": {
    "height": "calc(100% - 180px)",
    "left": "10px",
    "top": "150px",
    "width": "413.672px"
   },
   "toc_section_display": true,
   "toc_window_display": true
  },
  "varInspector": {
   "cols": {
    "lenName": 16,
    "lenType": 16,
    "lenVar": 40
   },
   "kernels_config": {
    "python": {
     "delete_cmd_postfix": "",
     "delete_cmd_prefix": "del ",
     "library": "var_list.py",
     "varRefreshCmd": "print(var_dic_list())"
    },
    "r": {
     "delete_cmd_postfix": ") ",
     "delete_cmd_prefix": "rm(",
     "library": "var_list.r",
     "varRefreshCmd": "cat(var_dic_list()) "
    }
   },
   "types_to_exclude": [
    "module",
    "function",
    "builtin_function_or_method",
    "instance",
    "_Feature"
   ],
   "window_display": false
  }
 },
 "nbformat": 4,
 "nbformat_minor": 5
}
